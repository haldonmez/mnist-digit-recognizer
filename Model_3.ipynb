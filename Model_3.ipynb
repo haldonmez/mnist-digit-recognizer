{
  "nbformat": 4,
  "nbformat_minor": 0,
  "metadata": {
    "colab": {
      "provenance": [],
      "gpuType": "T4",
      "authorship_tag": "ABX9TyMcmKjB+Fxpoj1Q1dJPjV1g",
      "include_colab_link": true
    },
    "kernelspec": {
      "name": "python3",
      "display_name": "Python 3"
    },
    "language_info": {
      "name": "python"
    },
    "accelerator": "GPU",
    "widgets": {
      "application/vnd.jupyter.widget-state+json": {
        "de4cfdd6047242a8895edefe557b8545": {
          "model_module": "@jupyter-widgets/controls",
          "model_name": "HBoxModel",
          "model_module_version": "1.5.0",
          "state": {
            "_dom_classes": [],
            "_model_module": "@jupyter-widgets/controls",
            "_model_module_version": "1.5.0",
            "_model_name": "HBoxModel",
            "_view_count": null,
            "_view_module": "@jupyter-widgets/controls",
            "_view_module_version": "1.5.0",
            "_view_name": "HBoxView",
            "box_style": "",
            "children": [
              "IPY_MODEL_512e622cb559425cb6d7a34048be1104",
              "IPY_MODEL_96cc160ad82842248b8c1512bc9ba2fb",
              "IPY_MODEL_191ef7fa68e9417aa832be9b6c41a5dc"
            ],
            "layout": "IPY_MODEL_5a2233b8fb5a42b59926f0d6b66d4ed8"
          }
        },
        "512e622cb559425cb6d7a34048be1104": {
          "model_module": "@jupyter-widgets/controls",
          "model_name": "HTMLModel",
          "model_module_version": "1.5.0",
          "state": {
            "_dom_classes": [],
            "_model_module": "@jupyter-widgets/controls",
            "_model_module_version": "1.5.0",
            "_model_name": "HTMLModel",
            "_view_count": null,
            "_view_module": "@jupyter-widgets/controls",
            "_view_module_version": "1.5.0",
            "_view_name": "HTMLView",
            "description": "",
            "description_tooltip": null,
            "layout": "IPY_MODEL_e85cd1032f614ffaa3fdc12c2d12870e",
            "placeholder": "​",
            "style": "IPY_MODEL_88da11116bd14e4ca88774bcb0943074",
            "value": "100%"
          }
        },
        "96cc160ad82842248b8c1512bc9ba2fb": {
          "model_module": "@jupyter-widgets/controls",
          "model_name": "FloatProgressModel",
          "model_module_version": "1.5.0",
          "state": {
            "_dom_classes": [],
            "_model_module": "@jupyter-widgets/controls",
            "_model_module_version": "1.5.0",
            "_model_name": "FloatProgressModel",
            "_view_count": null,
            "_view_module": "@jupyter-widgets/controls",
            "_view_module_version": "1.5.0",
            "_view_name": "ProgressView",
            "bar_style": "success",
            "description": "",
            "description_tooltip": null,
            "layout": "IPY_MODEL_1ec7e0b38271426a9453f3893ab75582",
            "max": 50,
            "min": 0,
            "orientation": "horizontal",
            "style": "IPY_MODEL_ffd0392b68cf4cc09c9c4310abd552f2",
            "value": 50
          }
        },
        "191ef7fa68e9417aa832be9b6c41a5dc": {
          "model_module": "@jupyter-widgets/controls",
          "model_name": "HTMLModel",
          "model_module_version": "1.5.0",
          "state": {
            "_dom_classes": [],
            "_model_module": "@jupyter-widgets/controls",
            "_model_module_version": "1.5.0",
            "_model_name": "HTMLModel",
            "_view_count": null,
            "_view_module": "@jupyter-widgets/controls",
            "_view_module_version": "1.5.0",
            "_view_name": "HTMLView",
            "description": "",
            "description_tooltip": null,
            "layout": "IPY_MODEL_4e80b6d8f62e4eb2a0869ae7f856f001",
            "placeholder": "​",
            "style": "IPY_MODEL_26db16945ec2479e83aa97932680952f",
            "value": " 50/50 [1:19:45&lt;00:00, 96.10s/it]"
          }
        },
        "5a2233b8fb5a42b59926f0d6b66d4ed8": {
          "model_module": "@jupyter-widgets/base",
          "model_name": "LayoutModel",
          "model_module_version": "1.2.0",
          "state": {
            "_model_module": "@jupyter-widgets/base",
            "_model_module_version": "1.2.0",
            "_model_name": "LayoutModel",
            "_view_count": null,
            "_view_module": "@jupyter-widgets/base",
            "_view_module_version": "1.2.0",
            "_view_name": "LayoutView",
            "align_content": null,
            "align_items": null,
            "align_self": null,
            "border": null,
            "bottom": null,
            "display": null,
            "flex": null,
            "flex_flow": null,
            "grid_area": null,
            "grid_auto_columns": null,
            "grid_auto_flow": null,
            "grid_auto_rows": null,
            "grid_column": null,
            "grid_gap": null,
            "grid_row": null,
            "grid_template_areas": null,
            "grid_template_columns": null,
            "grid_template_rows": null,
            "height": null,
            "justify_content": null,
            "justify_items": null,
            "left": null,
            "margin": null,
            "max_height": null,
            "max_width": null,
            "min_height": null,
            "min_width": null,
            "object_fit": null,
            "object_position": null,
            "order": null,
            "overflow": null,
            "overflow_x": null,
            "overflow_y": null,
            "padding": null,
            "right": null,
            "top": null,
            "visibility": null,
            "width": null
          }
        },
        "e85cd1032f614ffaa3fdc12c2d12870e": {
          "model_module": "@jupyter-widgets/base",
          "model_name": "LayoutModel",
          "model_module_version": "1.2.0",
          "state": {
            "_model_module": "@jupyter-widgets/base",
            "_model_module_version": "1.2.0",
            "_model_name": "LayoutModel",
            "_view_count": null,
            "_view_module": "@jupyter-widgets/base",
            "_view_module_version": "1.2.0",
            "_view_name": "LayoutView",
            "align_content": null,
            "align_items": null,
            "align_self": null,
            "border": null,
            "bottom": null,
            "display": null,
            "flex": null,
            "flex_flow": null,
            "grid_area": null,
            "grid_auto_columns": null,
            "grid_auto_flow": null,
            "grid_auto_rows": null,
            "grid_column": null,
            "grid_gap": null,
            "grid_row": null,
            "grid_template_areas": null,
            "grid_template_columns": null,
            "grid_template_rows": null,
            "height": null,
            "justify_content": null,
            "justify_items": null,
            "left": null,
            "margin": null,
            "max_height": null,
            "max_width": null,
            "min_height": null,
            "min_width": null,
            "object_fit": null,
            "object_position": null,
            "order": null,
            "overflow": null,
            "overflow_x": null,
            "overflow_y": null,
            "padding": null,
            "right": null,
            "top": null,
            "visibility": null,
            "width": null
          }
        },
        "88da11116bd14e4ca88774bcb0943074": {
          "model_module": "@jupyter-widgets/controls",
          "model_name": "DescriptionStyleModel",
          "model_module_version": "1.5.0",
          "state": {
            "_model_module": "@jupyter-widgets/controls",
            "_model_module_version": "1.5.0",
            "_model_name": "DescriptionStyleModel",
            "_view_count": null,
            "_view_module": "@jupyter-widgets/base",
            "_view_module_version": "1.2.0",
            "_view_name": "StyleView",
            "description_width": ""
          }
        },
        "1ec7e0b38271426a9453f3893ab75582": {
          "model_module": "@jupyter-widgets/base",
          "model_name": "LayoutModel",
          "model_module_version": "1.2.0",
          "state": {
            "_model_module": "@jupyter-widgets/base",
            "_model_module_version": "1.2.0",
            "_model_name": "LayoutModel",
            "_view_count": null,
            "_view_module": "@jupyter-widgets/base",
            "_view_module_version": "1.2.0",
            "_view_name": "LayoutView",
            "align_content": null,
            "align_items": null,
            "align_self": null,
            "border": null,
            "bottom": null,
            "display": null,
            "flex": null,
            "flex_flow": null,
            "grid_area": null,
            "grid_auto_columns": null,
            "grid_auto_flow": null,
            "grid_auto_rows": null,
            "grid_column": null,
            "grid_gap": null,
            "grid_row": null,
            "grid_template_areas": null,
            "grid_template_columns": null,
            "grid_template_rows": null,
            "height": null,
            "justify_content": null,
            "justify_items": null,
            "left": null,
            "margin": null,
            "max_height": null,
            "max_width": null,
            "min_height": null,
            "min_width": null,
            "object_fit": null,
            "object_position": null,
            "order": null,
            "overflow": null,
            "overflow_x": null,
            "overflow_y": null,
            "padding": null,
            "right": null,
            "top": null,
            "visibility": null,
            "width": null
          }
        },
        "ffd0392b68cf4cc09c9c4310abd552f2": {
          "model_module": "@jupyter-widgets/controls",
          "model_name": "ProgressStyleModel",
          "model_module_version": "1.5.0",
          "state": {
            "_model_module": "@jupyter-widgets/controls",
            "_model_module_version": "1.5.0",
            "_model_name": "ProgressStyleModel",
            "_view_count": null,
            "_view_module": "@jupyter-widgets/base",
            "_view_module_version": "1.2.0",
            "_view_name": "StyleView",
            "bar_color": null,
            "description_width": ""
          }
        },
        "4e80b6d8f62e4eb2a0869ae7f856f001": {
          "model_module": "@jupyter-widgets/base",
          "model_name": "LayoutModel",
          "model_module_version": "1.2.0",
          "state": {
            "_model_module": "@jupyter-widgets/base",
            "_model_module_version": "1.2.0",
            "_model_name": "LayoutModel",
            "_view_count": null,
            "_view_module": "@jupyter-widgets/base",
            "_view_module_version": "1.2.0",
            "_view_name": "LayoutView",
            "align_content": null,
            "align_items": null,
            "align_self": null,
            "border": null,
            "bottom": null,
            "display": null,
            "flex": null,
            "flex_flow": null,
            "grid_area": null,
            "grid_auto_columns": null,
            "grid_auto_flow": null,
            "grid_auto_rows": null,
            "grid_column": null,
            "grid_gap": null,
            "grid_row": null,
            "grid_template_areas": null,
            "grid_template_columns": null,
            "grid_template_rows": null,
            "height": null,
            "justify_content": null,
            "justify_items": null,
            "left": null,
            "margin": null,
            "max_height": null,
            "max_width": null,
            "min_height": null,
            "min_width": null,
            "object_fit": null,
            "object_position": null,
            "order": null,
            "overflow": null,
            "overflow_x": null,
            "overflow_y": null,
            "padding": null,
            "right": null,
            "top": null,
            "visibility": null,
            "width": null
          }
        },
        "26db16945ec2479e83aa97932680952f": {
          "model_module": "@jupyter-widgets/controls",
          "model_name": "DescriptionStyleModel",
          "model_module_version": "1.5.0",
          "state": {
            "_model_module": "@jupyter-widgets/controls",
            "_model_module_version": "1.5.0",
            "_model_name": "DescriptionStyleModel",
            "_view_count": null,
            "_view_module": "@jupyter-widgets/base",
            "_view_module_version": "1.2.0",
            "_view_name": "StyleView",
            "description_width": ""
          }
        }
      }
    }
  },
  "cells": [
    {
      "cell_type": "markdown",
      "metadata": {
        "id": "view-in-github",
        "colab_type": "text"
      },
      "source": [
        "<a href=\"https://colab.research.google.com/github/haldonmez/mnist-digit-recognizer/blob/main/Model_3.ipynb\" target=\"_parent\"><img src=\"https://colab.research.google.com/assets/colab-badge.svg\" alt=\"Open In Colab\"/></a>"
      ]
    },
    {
      "cell_type": "code",
      "execution_count": 2,
      "metadata": {
        "colab": {
          "base_uri": "https://localhost:8080/"
        },
        "id": "iLkrXPnO7FP7",
        "outputId": "124c745f-d55d-453a-f160-9abc52bef940"
      },
      "outputs": [
        {
          "output_type": "stream",
          "name": "stdout",
          "text": [
            "Pytorch version: 2.2.1+cu121\n",
            "torchvision version:0.17.1+cu121\n"
          ]
        }
      ],
      "source": [
        "import torch\n",
        "from torch import nn\n",
        "\n",
        "import matplotlib.pyplot as plt\n",
        "\n",
        "import torchvision\n",
        "from torchvision import datasets\n",
        "from torchvision.transforms import ToTensor\n",
        "\n",
        "print(f\"Pytorch version: {torch.__version__}\\ntorchvision version:{torchvision.__version__}\")"
      ]
    },
    {
      "cell_type": "code",
      "source": [
        "data = \"/content/data\"\n",
        "train_data = datasets.MNIST(\n",
        "    root=data,\n",
        "    train= True,\n",
        "    transform=ToTensor(),\n",
        "    download=True,\n",
        "    target_transform=None\n",
        ")\n",
        "\n",
        "test_data = datasets.MNIST(\n",
        "    root=data,\n",
        "    train=False,\n",
        "    transform=ToTensor(),\n",
        "    download=True\n",
        ")"
      ],
      "metadata": {
        "id": "DMM56_Vq7YS7",
        "colab": {
          "base_uri": "https://localhost:8080/"
        },
        "outputId": "448a4a48-170f-4138-dcbb-bdbe4b0a221d"
      },
      "execution_count": 3,
      "outputs": [
        {
          "output_type": "stream",
          "name": "stdout",
          "text": [
            "Downloading http://yann.lecun.com/exdb/mnist/train-images-idx3-ubyte.gz\n",
            "Downloading http://yann.lecun.com/exdb/mnist/train-images-idx3-ubyte.gz to /content/data/MNIST/raw/train-images-idx3-ubyte.gz\n"
          ]
        },
        {
          "output_type": "stream",
          "name": "stderr",
          "text": [
            "100%|██████████| 9912422/9912422 [00:00<00:00, 255836361.34it/s]"
          ]
        },
        {
          "output_type": "stream",
          "name": "stdout",
          "text": [
            "Extracting /content/data/MNIST/raw/train-images-idx3-ubyte.gz to /content/data/MNIST/raw\n"
          ]
        },
        {
          "output_type": "stream",
          "name": "stderr",
          "text": [
            "\n"
          ]
        },
        {
          "output_type": "stream",
          "name": "stdout",
          "text": [
            "\n",
            "Downloading http://yann.lecun.com/exdb/mnist/train-labels-idx1-ubyte.gz\n",
            "Downloading http://yann.lecun.com/exdb/mnist/train-labels-idx1-ubyte.gz to /content/data/MNIST/raw/train-labels-idx1-ubyte.gz\n"
          ]
        },
        {
          "output_type": "stream",
          "name": "stderr",
          "text": [
            "100%|██████████| 28881/28881 [00:00<00:00, 76960415.39it/s]\n"
          ]
        },
        {
          "output_type": "stream",
          "name": "stdout",
          "text": [
            "Extracting /content/data/MNIST/raw/train-labels-idx1-ubyte.gz to /content/data/MNIST/raw\n",
            "\n",
            "Downloading http://yann.lecun.com/exdb/mnist/t10k-images-idx3-ubyte.gz\n",
            "Downloading http://yann.lecun.com/exdb/mnist/t10k-images-idx3-ubyte.gz to /content/data/MNIST/raw/t10k-images-idx3-ubyte.gz\n"
          ]
        },
        {
          "output_type": "stream",
          "name": "stderr",
          "text": [
            "100%|██████████| 1648877/1648877 [00:00<00:00, 132300788.09it/s]"
          ]
        },
        {
          "output_type": "stream",
          "name": "stdout",
          "text": [
            "Extracting /content/data/MNIST/raw/t10k-images-idx3-ubyte.gz to /content/data/MNIST/raw\n",
            "\n",
            "Downloading http://yann.lecun.com/exdb/mnist/t10k-labels-idx1-ubyte.gz\n"
          ]
        },
        {
          "output_type": "stream",
          "name": "stderr",
          "text": [
            "\n"
          ]
        },
        {
          "output_type": "stream",
          "name": "stdout",
          "text": [
            "Downloading http://yann.lecun.com/exdb/mnist/t10k-labels-idx1-ubyte.gz to /content/data/MNIST/raw/t10k-labels-idx1-ubyte.gz\n"
          ]
        },
        {
          "output_type": "stream",
          "name": "stderr",
          "text": [
            "100%|██████████| 4542/4542 [00:00<00:00, 4353411.51it/s]\n"
          ]
        },
        {
          "output_type": "stream",
          "name": "stdout",
          "text": [
            "Extracting /content/data/MNIST/raw/t10k-labels-idx1-ubyte.gz to /content/data/MNIST/raw\n",
            "\n"
          ]
        }
      ]
    },
    {
      "cell_type": "code",
      "source": [
        "import numpy as np\n",
        "def threshold_image(im,th):\n",
        "    thresholded_im = np.zeros(im.shape)\n",
        "    thresholded_im[im >= th] = 1\n",
        "    return thresholded_im"
      ],
      "metadata": {
        "id": "0QptHOvTXvdd"
      },
      "execution_count": 4,
      "outputs": []
    },
    {
      "cell_type": "code",
      "source": [
        "from torch.utils.data import Dataset\n",
        "import matplotlib.pyplot as plt\n",
        "import os\n",
        "import numpy as np\n",
        "import random\n",
        "\n",
        "train_dataset_path = '/content/data/MNIST/train-dataset.pt'\n",
        "test_dataset_path = '/content/data/MNIST/test-dataset.pt'\n",
        "\n",
        "if not os.path.exists(train_dataset_path and test_dataset_path):\n",
        "  train_data_otsu2 = [(torch.tensor(threshold_image(image[0], 0.2611499991255095)).unsqueeze(0).float(), label) for image, label in train_data]\n",
        "  torch.save(train_data_otsu2, train_dataset_path)\n",
        "  test_data_otsu2 = [(torch.tensor(threshold_image(image[0], 0.2611499991255095)).unsqueeze(0).float(), label) for image, label in test_data]\n",
        "  torch.save(train_data_otsu2, test_dataset_path)\n",
        "else:\n",
        "    # If the dataset already exists, load it\n",
        "    train_data_otsu2 = torch.load(train_dataset_path)\n",
        "    test_data_otsu2 = torch.load(test_dataset_path)\n",
        "\n",
        "random_number = random.randint(0,len(train_data_otsu2))\n",
        "image, label = train_data[random_number]\n",
        "image2, label2 = train_data_otsu2[random_number]\n",
        "image2.shape, image.shape\n",
        "print(f\"This is normal{train_data[0][0].dtype}\")\n",
        "print(f\"This is otsu{train_data_otsu2[0][0].dtype}\")\n",
        "plt.figure(figsize=(10,15))\n",
        "plt.subplot(321); plt.imshow(image.squeeze(),cmap='gray')\n",
        "plt.title(label)\n",
        "plt.subplot(322); plt.imshow(image2.squeeze(),cmap='gray')\n",
        "plt.title(label2)"
      ],
      "metadata": {
        "id": "wJHk6KFSXv3R",
        "outputId": "7e6f86f6-fbda-40f6-e807-75e81f454892",
        "colab": {
          "base_uri": "https://localhost:8080/",
          "height": 474
        }
      },
      "execution_count": 5,
      "outputs": [
        {
          "output_type": "stream",
          "name": "stdout",
          "text": [
            "This is normaltorch.float32\n",
            "This is otsutorch.float32\n"
          ]
        },
        {
          "output_type": "execute_result",
          "data": {
            "text/plain": [
              "Text(0.5, 1.0, '2')"
            ]
          },
          "metadata": {},
          "execution_count": 5
        },
        {
          "output_type": "display_data",
          "data": {
            "text/plain": [
              "<Figure size 1000x1500 with 2 Axes>"
            ],
            "image/png": "[encoded data removed]"
          },
          "metadata": {}
        }
      ]
    },
    {
      "cell_type": "code",
      "source": [
        "from torch.utils.data import DataLoader\n",
        "from torch.utils.data import ConcatDataset\n",
        "\n",
        "combined_train_data = ConcatDataset([train_data_otsu2, train_data])\n",
        "combined_test_data = ConcatDataset([test_data_otsu2, test_data])\n",
        "BATCH_SIZE = 32\n",
        "train_dataloader = DataLoader(combined_train_data, #Dataset to iterate on for the according batch size.\n",
        "                              batch_size = BATCH_SIZE, #Size of every single iteration.\n",
        "                              shuffle = True, #To make the loaded data selected randomly.\n",
        "                              )\n",
        "test_dataloader = DataLoader(test_data,\n",
        "                             batch_size = BATCH_SIZE,\n",
        "                             shuffle = True)\n",
        "\n",
        "print(f\"For training data there is {len(train_dataloader)} iterations with the batch size of {BATCH_SIZE}.\")\n",
        "print(f\"For testing data there is {len(test_dataloader)} iterations with the batch size of {BATCH_SIZE}.\")"
      ],
      "metadata": {
        "id": "TighcMrjUG3w",
        "outputId": "25695eec-886e-471b-b574-7a364cba02b4",
        "colab": {
          "base_uri": "https://localhost:8080/"
        }
      },
      "execution_count": 6,
      "outputs": [
        {
          "output_type": "stream",
          "name": "stdout",
          "text": [
            "For training data there is 3750 iterations with the batch size of 32.\n",
            "For testing data there is 313 iterations with the batch size of 32.\n"
          ]
        }
      ]
    },
    {
      "cell_type": "code",
      "source": [
        "import torch\n",
        "device = \"cuda\" if torch.cuda.is_available() else \"cpu\"\n",
        "device"
      ],
      "metadata": {
        "id": "W6kqaceNVG13",
        "outputId": "63b8e08c-b4b5-4eea-bf76-0a70326c9895",
        "colab": {
          "base_uri": "https://localhost:8080/",
          "height": 35
        }
      },
      "execution_count": 7,
      "outputs": [
        {
          "output_type": "execute_result",
          "data": {
            "text/plain": [
              "'cpu'"
            ],
            "application/vnd.google.colaboratory.intrinsic+json": {
              "type": "string"
            }
          },
          "metadata": {},
          "execution_count": 7
        }
      ]
    },
    {
      "cell_type": "code",
      "source": [
        "class_names = train_data.classes"
      ],
      "metadata": {
        "id": "rsX6X50dU5Cu"
      },
      "execution_count": 8,
      "outputs": []
    },
    {
      "cell_type": "code",
      "source": [
        "# Create a convolutional neural network\n",
        "class DigitRecognizerMNISTV3(nn.Module):\n",
        "    \"\"\"\n",
        "    Model architecture copying TinyVGG from:\n",
        "    https://poloclub.github.io/cnn-explainer/\n",
        "    \"\"\"\n",
        "    def __init__(self, input_shape: int, hidden_units: int, output_shape: int):\n",
        "        super().__init__()\n",
        "        self.block_1 = nn.Sequential(\n",
        "            nn.Conv2d(in_channels=input_shape,\n",
        "                      out_channels=hidden_units,\n",
        "                      kernel_size=3, # how big is the square that's going over the image?\n",
        "                      stride=1, # default\n",
        "                      padding=1),# options = \"valid\" (no padding) or \"same\" (output has same shape as input) or int for specific number\n",
        "            nn.ReLU(),\n",
        "            nn.Conv2d(in_channels=hidden_units,\n",
        "                      out_channels=hidden_units,\n",
        "                      kernel_size=3,\n",
        "                      stride=1,\n",
        "                      padding=1),\n",
        "            nn.ReLU(),\n",
        "            nn.MaxPool2d(kernel_size=2,\n",
        "                         stride=2) # default stride value is same as kernel_size\n",
        "        )\n",
        "        self.block_2 = nn.Sequential(\n",
        "            nn.Conv2d(hidden_units, hidden_units, 3, padding=1),\n",
        "            nn.ReLU(),\n",
        "            nn.Conv2d(hidden_units, hidden_units, 3, padding=1),\n",
        "            nn.ReLU(),\n",
        "            nn.MaxPool2d(2)\n",
        "        )\n",
        "        self.classifier = nn.Sequential(\n",
        "            nn.Flatten(),\n",
        "            # Where did this in_features shape come from?\n",
        "            # It's because each layer of our network compresses and changes the shape of our inputs data.\n",
        "            nn.Linear(in_features=hidden_units*7*7,\n",
        "                      out_features=output_shape)\n",
        "        )\n",
        "\n",
        "    def forward(self, x: torch.Tensor):\n",
        "        x = self.block_1(x)\n",
        "        # print(x.shape)\n",
        "        x = self.block_2(x)\n",
        "        # print(x.shape)\n",
        "        x = self.classifier(x)\n",
        "        # print(x.shape)\n",
        "        return x\n",
        "\n",
        "torch.manual_seed(42)\n",
        "model_3 = DigitRecognizerMNISTV3(input_shape=1,\n",
        "    hidden_units=10,\n",
        "    output_shape=len(class_names)).to(device)\n",
        "model_3"
      ],
      "metadata": {
        "id": "OQyUTOG3UHav",
        "outputId": "2db20448-7deb-4e27-ae06-e78c811331d7",
        "colab": {
          "base_uri": "https://localhost:8080/"
        }
      },
      "execution_count": 9,
      "outputs": [
        {
          "output_type": "execute_result",
          "data": {
            "text/plain": [
              "DigitRecognizerMNISTV3(\n",
              "  (block_1): Sequential(\n",
              "    (0): Conv2d(1, 10, kernel_size=(3, 3), stride=(1, 1), padding=(1, 1))\n",
              "    (1): ReLU()\n",
              "    (2): Conv2d(10, 10, kernel_size=(3, 3), stride=(1, 1), padding=(1, 1))\n",
              "    (3): ReLU()\n",
              "    (4): MaxPool2d(kernel_size=2, stride=2, padding=0, dilation=1, ceil_mode=False)\n",
              "  )\n",
              "  (block_2): Sequential(\n",
              "    (0): Conv2d(10, 10, kernel_size=(3, 3), stride=(1, 1), padding=(1, 1))\n",
              "    (1): ReLU()\n",
              "    (2): Conv2d(10, 10, kernel_size=(3, 3), stride=(1, 1), padding=(1, 1))\n",
              "    (3): ReLU()\n",
              "    (4): MaxPool2d(kernel_size=2, stride=2, padding=0, dilation=1, ceil_mode=False)\n",
              "  )\n",
              "  (classifier): Sequential(\n",
              "    (0): Flatten(start_dim=1, end_dim=-1)\n",
              "    (1): Linear(in_features=490, out_features=10, bias=True)\n",
              "  )\n",
              ")"
            ]
          },
          "metadata": {},
          "execution_count": 9
        }
      ]
    },
    {
      "cell_type": "code",
      "source": [
        "loss_fn = nn.CrossEntropyLoss()\n",
        "optimizer = torch.optim.SGD(params=model_3.parameters(),\n",
        "                             lr=0.01)"
      ],
      "metadata": {
        "id": "kUtbzhg8VV_T"
      },
      "execution_count": 10,
      "outputs": []
    },
    {
      "cell_type": "code",
      "source": [
        "def accuracy_func(y_true, y_pred):\n",
        "  correct = torch.eq(y_true, y_pred).sum().item()\n",
        "  acc = (correct/len(y_pred)) * 100\n",
        "  return acc"
      ],
      "metadata": {
        "id": "9uxQ3GH1V6Xh"
      },
      "execution_count": 11,
      "outputs": []
    },
    {
      "cell_type": "code",
      "source": [
        "from timeit import default_timer as timer\n",
        "def print_train_time(start: float, end: float, device: torch.device = None):\n",
        "    \"\"\"Prints difference between start and end time.\n",
        "\n",
        "    Args:\n",
        "        start (float): Start time of computation (preferred in timeit format).\n",
        "        end (float): End time of computation.\n",
        "        device ([type], optional): Device that compute is running on. Defaults to None.\n",
        "\n",
        "    Returns:\n",
        "        float: time between start and end in seconds (higher is longer).\n",
        "    \"\"\"\n",
        "    total_time = end - start\n",
        "    print(f\"Train time on {device}: {total_time:.3f} seconds\")\n",
        "    return total_time\n",
        "# Imported from learnpytorch.io directly..."
      ],
      "metadata": {
        "id": "R_gaFm7aW9r_"
      },
      "execution_count": 12,
      "outputs": []
    },
    {
      "cell_type": "code",
      "source": [
        "def train_part(model: torch.nn.Module,\n",
        "               data_loader: torch.utils.data.DataLoader,\n",
        "               loss_fn: torch.nn.Module,\n",
        "               optimizer: torch.optim.Optimizer,\n",
        "               accuracy_func,\n",
        "               device: torch.device = device):\n",
        "  train_loss, train_acc = 0 , 0\n",
        "  model.to(device)\n",
        "\n",
        "  for batch, (X,y) in enumerate(data_loader):\n",
        "    X, y = X.to(device) , y.to(device)\n",
        "\n",
        "    y_pred = model(X)\n",
        "\n",
        "    loss = loss_fn(y_pred, y)\n",
        "    train_loss += loss\n",
        "    train_acc += accuracy_func(y_true=y,\n",
        "                               y_pred=y_pred.argmax(dim=1))\n",
        "\n",
        "    optimizer.zero_grad()\n",
        "    loss.backward()\n",
        "    optimizer.step()\n",
        "\n",
        "  train_loss /= len(data_loader)\n",
        "  train_acc /= len(data_loader)\n",
        "  print(f\"Train loss is:{train_loss:.5f}, Train accuracy is:{train_acc:.2f}%\")\n",
        "  return train_loss, train_acc\n",
        "\n",
        "def test_part(model: torch.nn.Module,\n",
        "               data_loader: torch.utils.data.DataLoader,\n",
        "               loss_fn: torch.nn.Module,\n",
        "               optimizer: torch.optim.Optimizer,\n",
        "               accuracy_func,\n",
        "               device: torch.device = device):\n",
        "  test_loss, test_acc = 0, 0\n",
        "  model.to(device)\n",
        "  model.eval()\n",
        "\n",
        "  with torch.inference_mode():\n",
        "    for X, y in data_loader:\n",
        "\n",
        "      X, y = X.to(device), y.to(device)\n",
        "\n",
        "      test_pred = model(X)\n",
        "      test_loss += loss_fn(test_pred, y)\n",
        "      test_acc += accuracy_func(y_true=y,\n",
        "                                y_pred = test_pred.argmax(dim=1))\n",
        "\n",
        "    test_loss /= len(data_loader)\n",
        "    test_acc /= len(data_loader)\n",
        "\n",
        "    print(f\"Test loss is:{test_loss:.6f}, Test accuracy is:{test_acc:.6f}%\")\n",
        "  return test_loss, test_acc"
      ],
      "metadata": {
        "id": "EvwHpXM7WXTi"
      },
      "execution_count": 13,
      "outputs": []
    },
    {
      "cell_type": "code",
      "source": [
        "torch.manual_seed(42)\n",
        "from tqdm.auto import tqdm\n",
        "# Measure time\n",
        "from timeit import default_timer as timer\n",
        "train_time_start_model_3 = timer()\n",
        "\n",
        "train_losses = []\n",
        "train_accuracies = []\n",
        "test_losses = []\n",
        "test_accuracies = []\n",
        "\n",
        "# Train and test model\n",
        "epochs = 50\n",
        "for epoch in tqdm(range(epochs)):\n",
        "\n",
        "    train_loss, train_acc = train_part(data_loader=train_dataloader,\n",
        "        model=model_3,\n",
        "        loss_fn=loss_fn,\n",
        "        optimizer=optimizer,\n",
        "        accuracy_func=accuracy_func,\n",
        "        device=device)\n",
        "    test_loss, test_acc = test_part(data_loader=test_dataloader,\n",
        "        model=model_3,\n",
        "        loss_fn=loss_fn,\n",
        "        optimizer = optimizer,\n",
        "        accuracy_func=accuracy_func,\n",
        "        device=device)\n",
        "    train_losses.append(train_loss.detach().cpu().numpy())\n",
        "    train_accuracies.append(train_acc)\n",
        "    test_losses.append(test_loss.detach().cpu().numpy())\n",
        "    test_accuracies.append(test_acc)\n",
        "\n",
        "\n",
        "    print(f\"Epoch: {epoch}\\n---------\")\n",
        "\n",
        "train_time_end_model_3 = timer()\n",
        "total_train_time_model_2 = print_train_time(start=train_time_start_model_3,\n",
        "                                           end=train_time_end_model_3,\n",
        "                                           device=device)"
      ],
      "metadata": {
        "id": "Sjxfj6-oVoBK",
        "outputId": "b26e3a47-f884-4b64-ce91-98f2b331e714",
        "colab": {
          "base_uri": "https://localhost:8080/",
          "height": 1000,
          "referenced_widgets": [
            "de4cfdd6047242a8895edefe557b8545",
            "512e622cb559425cb6d7a34048be1104",
            "96cc160ad82842248b8c1512bc9ba2fb",
            "191ef7fa68e9417aa832be9b6c41a5dc",
            "5a2233b8fb5a42b59926f0d6b66d4ed8",
            "e85cd1032f614ffaa3fdc12c2d12870e",
            "88da11116bd14e4ca88774bcb0943074",
            "1ec7e0b38271426a9453f3893ab75582",
            "ffd0392b68cf4cc09c9c4310abd552f2",
            "4e80b6d8f62e4eb2a0869ae7f856f001",
            "26db16945ec2479e83aa97932680952f"
          ]
        }
      },
      "execution_count": 14,
      "outputs": [
        {
          "output_type": "display_data",
          "data": {
            "text/plain": [
              "  0%|          | 0/50 [00:00<?, ?it/s]"
            ],
            "application/vnd.jupyter.widget-view+json": {
              "version_major": 2,
              "version_minor": 0,
              "model_id": "de4cfdd6047242a8895edefe557b8545"
            }
          },
          "metadata": {}
        },
        {
          "output_type": "stream",
          "name": "stdout",
          "text": [
            "Train loss is:0.61125, Train accuracy is:79.22%\n",
            "Test loss is:0.110162, Test accuracy is:96.545527%\n",
            "Epoch: 0\n",
            "---------\n",
            "Train loss is:0.09792, Train accuracy is:96.99%\n",
            "Test loss is:0.064557, Test accuracy is:97.943291%\n",
            "Epoch: 1\n",
            "---------\n",
            "Train loss is:0.07390, Train accuracy is:97.66%\n",
            "Test loss is:0.057726, Test accuracy is:98.162939%\n",
            "Epoch: 2\n",
            "---------\n",
            "Train loss is:0.06156, Train accuracy is:98.10%\n",
            "Test loss is:0.052877, Test accuracy is:98.202875%\n",
            "Epoch: 3\n",
            "---------\n",
            "Train loss is:0.05443, Train accuracy is:98.30%\n",
            "Test loss is:0.042767, Test accuracy is:98.502396%\n",
            "Epoch: 4\n",
            "---------\n",
            "Train loss is:0.04873, Train accuracy is:98.47%\n",
            "Test loss is:0.042408, Test accuracy is:98.632188%\n",
            "Epoch: 5\n",
            "---------\n",
            "Train loss is:0.04471, Train accuracy is:98.59%\n",
            "Test loss is:0.044640, Test accuracy is:98.612220%\n",
            "Epoch: 6\n",
            "---------\n",
            "Train loss is:0.04137, Train accuracy is:98.68%\n",
            "Test loss is:0.044578, Test accuracy is:98.472444%\n",
            "Epoch: 7\n",
            "---------\n",
            "Train loss is:0.03886, Train accuracy is:98.77%\n",
            "Test loss is:0.040491, Test accuracy is:98.662141%\n",
            "Epoch: 8\n",
            "---------\n",
            "Train loss is:0.03613, Train accuracy is:98.83%\n",
            "Test loss is:0.043618, Test accuracy is:98.602236%\n",
            "Epoch: 9\n",
            "---------\n",
            "Train loss is:0.03444, Train accuracy is:98.87%\n",
            "Test loss is:0.037517, Test accuracy is:98.712061%\n",
            "Epoch: 10\n",
            "---------\n",
            "Train loss is:0.03258, Train accuracy is:98.93%\n",
            "Test loss is:0.036900, Test accuracy is:98.742013%\n",
            "Epoch: 11\n",
            "---------\n",
            "Train loss is:0.03081, Train accuracy is:99.02%\n",
            "Test loss is:0.036874, Test accuracy is:98.881789%\n",
            "Epoch: 12\n",
            "---------\n",
            "Train loss is:0.02942, Train accuracy is:99.04%\n",
            "Test loss is:0.035234, Test accuracy is:98.791933%\n",
            "Epoch: 13\n",
            "---------\n",
            "Train loss is:0.02821, Train accuracy is:99.08%\n",
            "Test loss is:0.036343, Test accuracy is:98.771965%\n",
            "Epoch: 14\n",
            "---------\n",
            "Train loss is:0.02721, Train accuracy is:99.10%\n",
            "Test loss is:0.035662, Test accuracy is:98.871805%\n",
            "Epoch: 15\n",
            "---------\n",
            "Train loss is:0.02592, Train accuracy is:99.15%\n",
            "Test loss is:0.036970, Test accuracy is:98.801917%\n",
            "Epoch: 16\n",
            "---------\n",
            "Train loss is:0.02526, Train accuracy is:99.15%\n",
            "Test loss is:0.037524, Test accuracy is:98.871805%\n",
            "Epoch: 17\n",
            "---------\n",
            "Train loss is:0.02448, Train accuracy is:99.18%\n",
            "Test loss is:0.035414, Test accuracy is:98.851837%\n",
            "Epoch: 18\n",
            "---------\n",
            "Train loss is:0.02360, Train accuracy is:99.21%\n",
            "Test loss is:0.037914, Test accuracy is:98.751997%\n",
            "Epoch: 19\n",
            "---------\n",
            "Train loss is:0.02249, Train accuracy is:99.26%\n",
            "Test loss is:0.037116, Test accuracy is:98.861821%\n",
            "Epoch: 20\n",
            "---------\n",
            "Train loss is:0.02179, Train accuracy is:99.30%\n",
            "Test loss is:0.037070, Test accuracy is:98.901757%\n",
            "Epoch: 21\n",
            "---------\n",
            "Train loss is:0.02121, Train accuracy is:99.30%\n",
            "Test loss is:0.040220, Test accuracy is:98.751997%\n",
            "Epoch: 22\n",
            "---------\n",
            "Train loss is:0.02036, Train accuracy is:99.32%\n",
            "Test loss is:0.036453, Test accuracy is:98.941693%\n",
            "Epoch: 23\n",
            "---------\n",
            "Train loss is:0.01966, Train accuracy is:99.35%\n",
            "Test loss is:0.037158, Test accuracy is:98.941693%\n",
            "Epoch: 24\n",
            "---------\n",
            "Train loss is:0.01903, Train accuracy is:99.38%\n",
            "Test loss is:0.038648, Test accuracy is:98.821885%\n",
            "Epoch: 25\n",
            "---------\n",
            "Train loss is:0.01848, Train accuracy is:99.40%\n",
            "Test loss is:0.043411, Test accuracy is:98.831869%\n",
            "Epoch: 26\n",
            "---------\n",
            "Train loss is:0.01812, Train accuracy is:99.38%\n",
            "Test loss is:0.037879, Test accuracy is:98.901757%\n",
            "Epoch: 27\n",
            "---------\n",
            "Train loss is:0.01761, Train accuracy is:99.42%\n",
            "Test loss is:0.045620, Test accuracy is:98.642173%\n",
            "Epoch: 28\n",
            "---------\n",
            "Train loss is:0.01675, Train accuracy is:99.44%\n",
            "Test loss is:0.039912, Test accuracy is:98.911741%\n",
            "Epoch: 29\n",
            "---------\n",
            "Train loss is:0.01668, Train accuracy is:99.43%\n",
            "Test loss is:0.042706, Test accuracy is:98.811901%\n",
            "Epoch: 30\n",
            "---------\n",
            "Train loss is:0.01590, Train accuracy is:99.47%\n",
            "Test loss is:0.046163, Test accuracy is:98.702077%\n",
            "Epoch: 31\n",
            "---------\n",
            "Train loss is:0.01566, Train accuracy is:99.49%\n",
            "Test loss is:0.042741, Test accuracy is:98.851837%\n",
            "Epoch: 32\n",
            "---------\n",
            "Train loss is:0.01563, Train accuracy is:99.48%\n",
            "Test loss is:0.042466, Test accuracy is:98.871805%\n",
            "Epoch: 33\n",
            "---------\n",
            "Train loss is:0.01450, Train accuracy is:99.52%\n",
            "Test loss is:0.046415, Test accuracy is:98.801917%\n",
            "Epoch: 34\n",
            "---------\n",
            "Train loss is:0.01479, Train accuracy is:99.51%\n",
            "Test loss is:0.046546, Test accuracy is:98.742013%\n",
            "Epoch: 35\n",
            "---------\n",
            "Train loss is:0.01410, Train accuracy is:99.53%\n",
            "Test loss is:0.049408, Test accuracy is:98.722045%\n",
            "Epoch: 36\n",
            "---------\n",
            "Train loss is:0.01403, Train accuracy is:99.55%\n",
            "Test loss is:0.048028, Test accuracy is:98.771965%\n",
            "Epoch: 37\n",
            "---------\n",
            "Train loss is:0.01352, Train accuracy is:99.56%\n",
            "Test loss is:0.043085, Test accuracy is:98.841853%\n",
            "Epoch: 38\n",
            "---------\n",
            "Train loss is:0.01281, Train accuracy is:99.57%\n",
            "Test loss is:0.046300, Test accuracy is:98.861821%\n",
            "Epoch: 39\n",
            "---------\n",
            "Train loss is:0.01323, Train accuracy is:99.56%\n",
            "Test loss is:0.050628, Test accuracy is:98.732029%\n",
            "Epoch: 40\n",
            "---------\n",
            "Train loss is:0.01310, Train accuracy is:99.54%\n",
            "Test loss is:0.051306, Test accuracy is:98.742013%\n",
            "Epoch: 41\n",
            "---------\n",
            "Train loss is:0.01232, Train accuracy is:99.60%\n",
            "Test loss is:0.045932, Test accuracy is:98.851837%\n",
            "Epoch: 42\n",
            "---------\n",
            "Train loss is:0.01228, Train accuracy is:99.58%\n",
            "Test loss is:0.048546, Test accuracy is:98.901757%\n",
            "Epoch: 43\n",
            "---------\n",
            "Train loss is:0.01164, Train accuracy is:99.61%\n",
            "Test loss is:0.047648, Test accuracy is:98.851837%\n",
            "Epoch: 44\n",
            "---------\n",
            "Train loss is:0.01208, Train accuracy is:99.60%\n",
            "Test loss is:0.055321, Test accuracy is:98.692093%\n",
            "Epoch: 45\n",
            "---------\n",
            "Train loss is:0.01075, Train accuracy is:99.66%\n",
            "Test loss is:0.061489, Test accuracy is:98.542332%\n",
            "Epoch: 46\n",
            "---------\n",
            "Train loss is:0.01147, Train accuracy is:99.60%\n",
            "Test loss is:0.054492, Test accuracy is:98.801917%\n",
            "Epoch: 47\n",
            "---------\n",
            "Train loss is:0.01077, Train accuracy is:99.65%\n",
            "Test loss is:0.047633, Test accuracy is:98.861821%\n",
            "Epoch: 48\n",
            "---------\n",
            "Train loss is:0.01036, Train accuracy is:99.66%\n",
            "Test loss is:0.058283, Test accuracy is:98.712061%\n",
            "Epoch: 49\n",
            "---------\n",
            "Train time on cpu: 4785.737 seconds\n"
          ]
        }
      ]
    },
    {
      "cell_type": "code",
      "source": [
        "plt.figure(figsize=(12, 5))\n",
        "plt.subplot(1, 2, 1)\n",
        "plt.plot(range(1, epochs + 1), train_losses, label='Train Loss')\n",
        "plt.plot(range(1, epochs + 1), test_losses, label='Test Loss')\n",
        "plt.title('Loss Over Epochs')\n",
        "plt.xlabel('Epochs')\n",
        "plt.ylabel('Loss')\n",
        "plt.legend()\n",
        "\n",
        "plt.subplot(1, 2, 2)\n",
        "plt.plot(range(1, epochs + 1), train_accuracies, label='Train Accuracy')\n",
        "plt.plot(range(1, epochs + 1), test_accuracies, label='Test Accuracy')\n",
        "plt.title('Accuracy Over Epochs')\n",
        "plt.xlabel('Epochs')\n",
        "plt.ylabel('Accuracy')\n",
        "plt.legend()\n",
        "\n",
        "plt.tight_layout()\n",
        "plt.show()"
      ],
      "metadata": {
        "id": "Gj1iPDu-cMs8",
        "outputId": "de5f1f76-5367-467f-e795-575d0df695d3",
        "colab": {
          "base_uri": "https://localhost:8080/",
          "height": 455
        }
      },
      "execution_count": 15,
      "outputs": [
        {
          "output_type": "display_data",
          "data": {
            "text/plain": [
              "<Figure size 1200x500 with 2 Axes>"
            ],
            "image/png": "[encoded data removed]"
          },
          "metadata": {}
        }
      ]
    },
    {
      "cell_type": "markdown",
      "source": [
        "The last version of traning with lr:0.01 ==> Train loss is:0.01870, Train accuracy is:99.38%\n",
        "Test loss is:0.01427, Test accuracy is:99.55%\n",
        "Epoch: 49"
      ],
      "metadata": {
        "id": "0flM0HYs8Ghw"
      }
    },
    {
      "cell_type": "markdown",
      "source": [
        "The last version of traning with lr:0.01 ==> Train loss is:0.00743, Train accuracy is:99.77%\n",
        "Test loss is:0.005525, Test accuracy is:99.803333%\n",
        "Epoch: 99\n",
        "---------\n"
      ],
      "metadata": {
        "id": "jHcmwv2P9i6F"
      }
    },
    {
      "cell_type": "code",
      "source": [
        "# Move values to device\n",
        "torch.manual_seed(42)\n",
        "def eval_model(model: torch.nn.Module,\n",
        "               data_loader: torch.utils.data.DataLoader,\n",
        "               loss_fn: torch.nn.Module,\n",
        "               accuracy_fn,\n",
        "               device: torch.device = device):\n",
        "    \"\"\"Evaluates a given model on a given dataset.\n",
        "\n",
        "    Args:\n",
        "        model (torch.nn.Module): A PyTorch model capable of making predictions on data_loader.\n",
        "        data_loader (torch.utils.data.DataLoader): The target dataset to predict on.\n",
        "        loss_fn (torch.nn.Module): The loss function of model.\n",
        "        accuracy_fn: An accuracy function to compare the models predictions to the truth labels.\n",
        "        device (str, optional): Target device to compute on. Defaults to device.\n",
        "\n",
        "    Returns:\n",
        "        (dict): Results of model making predictions on data_loader.\n",
        "    \"\"\"\n",
        "    loss, acc = 0, 0\n",
        "    model.eval()\n",
        "    with torch.inference_mode():\n",
        "        for X, y in data_loader:\n",
        "            # Send data to the target device\n",
        "            X, y = X.to(device), y.to(device)\n",
        "            y_pred = model(X)\n",
        "            loss += loss_fn(y_pred, y)\n",
        "            acc += accuracy_fn(y_true=y, y_pred=y_pred.argmax(dim=1))\n",
        "\n",
        "        # Scale loss and acc\n",
        "        loss /= len(data_loader)\n",
        "        acc /= len(data_loader)\n",
        "    return {\"model_name\": model.__class__.__name__, # only works when model was created with a class\n",
        "            \"model_loss\": loss.item(),\n",
        "            \"model_acc\": acc}\n",
        "\n",
        "# Calculate model 1 results with device-agnostic code\n",
        "model_3_results = eval_model(model=model_3, data_loader=test_dataloader,\n",
        "    loss_fn=loss_fn, accuracy_fn=accuracy_func,\n",
        "    device=device\n",
        ")\n",
        "model_3_results"
      ],
      "metadata": {
        "id": "OfRlZ5qUKDgc",
        "outputId": "6146a42d-f04c-4fdc-ca4b-7e21397fd7d5",
        "colab": {
          "base_uri": "https://localhost:8080/"
        }
      },
      "execution_count": 16,
      "outputs": [
        {
          "output_type": "execute_result",
          "data": {
            "text/plain": [
              "{'model_name': 'DigitRecognizerMNISTV3',\n",
              " 'model_loss': 0.05879044532775879,\n",
              " 'model_acc': 98.7020766773163}"
            ]
          },
          "metadata": {},
          "execution_count": 16
        }
      ]
    },
    {
      "cell_type": "code",
      "source": [
        "from pathlib import Path\n",
        "\n",
        "# Create models directory (if it doesn't already exist), see: https://docs.python.org/3/library/pathlib.html#pathlib.Path.mkdir\n",
        "MODEL_PATH = Path(\"models\")\n",
        "MODEL_PATH.mkdir(parents=True, # create parent directories if needed\n",
        "                 exist_ok=True # if models directory already exists, don't error\n",
        ")\n",
        "\n",
        "# Create model save path\n",
        "MODEL_NAME = \"03_pytorch_computer_vision_model_3.pth\"\n",
        "MODEL_SAVE_PATH = MODEL_PATH / MODEL_NAME\n",
        "\n",
        "# Save the model state dict\n",
        "print(f\"Saving model to: {MODEL_SAVE_PATH}\")\n",
        "torch.save(obj=model_3.state_dict(), # only saving the state_dict() only saves the learned parameters\n",
        "           f=MODEL_SAVE_PATH)"
      ],
      "metadata": {
        "id": "8aRX_aS9MWzl",
        "outputId": "b798ccee-78d6-4f60-d353-4535d442da52",
        "colab": {
          "base_uri": "https://localhost:8080/"
        }
      },
      "execution_count": 18,
      "outputs": [
        {
          "output_type": "stream",
          "name": "stdout",
          "text": [
            "Saving model to: models/03_pytorch_computer_vision_model_3.pth\n"
          ]
        }
      ]
    },
    {
      "cell_type": "code",
      "source": [
        "# Create a new instance of FashionMNISTModelV2 (the same class as our saved state_dict())\n",
        "# Note: loading model will error if the shapes here aren't the same as the saved version\n",
        "loaded_model_3 = DigitRecognizerMNISTV3(input_shape=1,\n",
        "                                    hidden_units=10, # try changing this to 128 and seeing what happens\n",
        "                                    output_shape=10)\n",
        "\n",
        "# Load in the saved state_dict()\n",
        "loaded_model_3.load_state_dict(torch.load(f=MODEL_SAVE_PATH))\n",
        "\n",
        "# Send model to GPU\n",
        "loaded_model_3 = loaded_model_3.to(device)"
      ],
      "metadata": {
        "id": "hmEvbTzGn8fz"
      },
      "execution_count": 20,
      "outputs": []
    },
    {
      "cell_type": "code",
      "source": [
        "# Evaluate loaded model\n",
        "torch.manual_seed(42)\n",
        "\n",
        "loaded_model_3_results = eval_model(\n",
        "    model=loaded_model_3,\n",
        "    data_loader=test_dataloader,\n",
        "    loss_fn=loss_fn,\n",
        "    accuracy_fn=accuracy_func\n",
        ")\n",
        "\n",
        "loaded_model_3_results"
      ],
      "metadata": {
        "id": "ntCbbatHoB2L",
        "outputId": "3540a893-499b-4e10-d440-e748c300f436",
        "colab": {
          "base_uri": "https://localhost:8080/"
        }
      },
      "execution_count": 22,
      "outputs": [
        {
          "output_type": "execute_result",
          "data": {
            "text/plain": [
              "{'model_name': 'DigitRecognizerMNISTV3',\n",
              " 'model_loss': 0.05879044532775879,\n",
              " 'model_acc': 98.7020766773163}"
            ]
          },
          "metadata": {},
          "execution_count": 22
        }
      ]
    },
    {
      "cell_type": "code",
      "source": [
        "model_3_results"
      ],
      "metadata": {
        "id": "cIuyl2wAoD06",
        "outputId": "e850a988-5843-4d85-ef7c-2fa106c05105",
        "colab": {
          "base_uri": "https://localhost:8080/"
        }
      },
      "execution_count": 24,
      "outputs": [
        {
          "output_type": "execute_result",
          "data": {
            "text/plain": [
              "{'model_name': 'DigitRecognizerMNISTV3',\n",
              " 'model_loss': 0.05879044532775879,\n",
              " 'model_acc': 98.7020766773163}"
            ]
          },
          "metadata": {},
          "execution_count": 24
        }
      ]
    }
  ]
}