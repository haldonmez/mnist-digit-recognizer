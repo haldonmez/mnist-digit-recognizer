{
  "nbformat": 4,
  "nbformat_minor": 0,
  "metadata": {
    "colab": {
      "provenance": [],
      "gpuType": "T4",
      "authorship_tag": "ABX9TyMFnuQlobdoN3pq+0pIfYco",
      "include_colab_link": true
    },
    "kernelspec": {
      "name": "python3",
      "display_name": "Python 3"
    },
    "language_info": {
      "name": "python"
    },
    "accelerator": "GPU",
    "widgets": {
      "application/vnd.jupyter.widget-state+json": {
        "b197fc00af5446309133822d5fb6fc47": {
          "model_module": "@jupyter-widgets/controls",
          "model_name": "HBoxModel",
          "model_module_version": "1.5.0",
          "state": {
            "_dom_classes": [],
            "_model_module": "@jupyter-widgets/controls",
            "_model_module_version": "1.5.0",
            "_model_name": "HBoxModel",
            "_view_count": null,
            "_view_module": "@jupyter-widgets/controls",
            "_view_module_version": "1.5.0",
            "_view_name": "HBoxView",
            "box_style": "",
            "children": [
              "IPY_MODEL_3f76448077c14149ab53cc2e334e5141",
              "IPY_MODEL_a4efb69299b844c2b089d2bab50d94a0",
              "IPY_MODEL_bc6c80c1c35746dd905f7e7474ef48c0"
            ],
            "layout": "IPY_MODEL_0b89e6480bd6493988b0e807bffa30d7"
          }
        },
        "3f76448077c14149ab53cc2e334e5141": {
          "model_module": "@jupyter-widgets/controls",
          "model_name": "HTMLModel",
          "model_module_version": "1.5.0",
          "state": {
            "_dom_classes": [],
            "_model_module": "@jupyter-widgets/controls",
            "_model_module_version": "1.5.0",
            "_model_name": "HTMLModel",
            "_view_count": null,
            "_view_module": "@jupyter-widgets/controls",
            "_view_module_version": "1.5.0",
            "_view_name": "HTMLView",
            "description": "",
            "description_tooltip": null,
            "layout": "IPY_MODEL_86a372c4d6b94f7b8aaca234cfa5f3bc",
            "placeholder": "​",
            "style": "IPY_MODEL_0f46d230cef84be08e6e84415254a4ef",
            "value": "100%"
          }
        },
        "a4efb69299b844c2b089d2bab50d94a0": {
          "model_module": "@jupyter-widgets/controls",
          "model_name": "FloatProgressModel",
          "model_module_version": "1.5.0",
          "state": {
            "_dom_classes": [],
            "_model_module": "@jupyter-widgets/controls",
            "_model_module_version": "1.5.0",
            "_model_name": "FloatProgressModel",
            "_view_count": null,
            "_view_module": "@jupyter-widgets/controls",
            "_view_module_version": "1.5.0",
            "_view_name": "ProgressView",
            "bar_style": "success",
            "description": "",
            "description_tooltip": null,
            "layout": "IPY_MODEL_411b59571c224953b250aaefdea16114",
            "max": 50,
            "min": 0,
            "orientation": "horizontal",
            "style": "IPY_MODEL_ab83c4ee646b471ab98410144452d63c",
            "value": 50
          }
        },
        "bc6c80c1c35746dd905f7e7474ef48c0": {
          "model_module": "@jupyter-widgets/controls",
          "model_name": "HTMLModel",
          "model_module_version": "1.5.0",
          "state": {
            "_dom_classes": [],
            "_model_module": "@jupyter-widgets/controls",
            "_model_module_version": "1.5.0",
            "_model_name": "HTMLModel",
            "_view_count": null,
            "_view_module": "@jupyter-widgets/controls",
            "_view_module_version": "1.5.0",
            "_view_name": "HTMLView",
            "description": "",
            "description_tooltip": null,
            "layout": "IPY_MODEL_142ba27e247f457ab48901acf281ded2",
            "placeholder": "​",
            "style": "IPY_MODEL_a32ff6cf2c724bee858b22d59d7dd9d4",
            "value": " 50/50 [05:16&lt;00:00,  6.26s/it]"
          }
        },
        "0b89e6480bd6493988b0e807bffa30d7": {
          "model_module": "@jupyter-widgets/base",
          "model_name": "LayoutModel",
          "model_module_version": "1.2.0",
          "state": {
            "_model_module": "@jupyter-widgets/base",
            "_model_module_version": "1.2.0",
            "_model_name": "LayoutModel",
            "_view_count": null,
            "_view_module": "@jupyter-widgets/base",
            "_view_module_version": "1.2.0",
            "_view_name": "LayoutView",
            "align_content": null,
            "align_items": null,
            "align_self": null,
            "border": null,
            "bottom": null,
            "display": null,
            "flex": null,
            "flex_flow": null,
            "grid_area": null,
            "grid_auto_columns": null,
            "grid_auto_flow": null,
            "grid_auto_rows": null,
            "grid_column": null,
            "grid_gap": null,
            "grid_row": null,
            "grid_template_areas": null,
            "grid_template_columns": null,
            "grid_template_rows": null,
            "height": null,
            "justify_content": null,
            "justify_items": null,
            "left": null,
            "margin": null,
            "max_height": null,
            "max_width": null,
            "min_height": null,
            "min_width": null,
            "object_fit": null,
            "object_position": null,
            "order": null,
            "overflow": null,
            "overflow_x": null,
            "overflow_y": null,
            "padding": null,
            "right": null,
            "top": null,
            "visibility": null,
            "width": null
          }
        },
        "86a372c4d6b94f7b8aaca234cfa5f3bc": {
          "model_module": "@jupyter-widgets/base",
          "model_name": "LayoutModel",
          "model_module_version": "1.2.0",
          "state": {
            "_model_module": "@jupyter-widgets/base",
            "_model_module_version": "1.2.0",
            "_model_name": "LayoutModel",
            "_view_count": null,
            "_view_module": "@jupyter-widgets/base",
            "_view_module_version": "1.2.0",
            "_view_name": "LayoutView",
            "align_content": null,
            "align_items": null,
            "align_self": null,
            "border": null,
            "bottom": null,
            "display": null,
            "flex": null,
            "flex_flow": null,
            "grid_area": null,
            "grid_auto_columns": null,
            "grid_auto_flow": null,
            "grid_auto_rows": null,
            "grid_column": null,
            "grid_gap": null,
            "grid_row": null,
            "grid_template_areas": null,
            "grid_template_columns": null,
            "grid_template_rows": null,
            "height": null,
            "justify_content": null,
            "justify_items": null,
            "left": null,
            "margin": null,
            "max_height": null,
            "max_width": null,
            "min_height": null,
            "min_width": null,
            "object_fit": null,
            "object_position": null,
            "order": null,
            "overflow": null,
            "overflow_x": null,
            "overflow_y": null,
            "padding": null,
            "right": null,
            "top": null,
            "visibility": null,
            "width": null
          }
        },
        "0f46d230cef84be08e6e84415254a4ef": {
          "model_module": "@jupyter-widgets/controls",
          "model_name": "DescriptionStyleModel",
          "model_module_version": "1.5.0",
          "state": {
            "_model_module": "@jupyter-widgets/controls",
            "_model_module_version": "1.5.0",
            "_model_name": "DescriptionStyleModel",
            "_view_count": null,
            "_view_module": "@jupyter-widgets/base",
            "_view_module_version": "1.2.0",
            "_view_name": "StyleView",
            "description_width": ""
          }
        },
        "411b59571c224953b250aaefdea16114": {
          "model_module": "@jupyter-widgets/base",
          "model_name": "LayoutModel",
          "model_module_version": "1.2.0",
          "state": {
            "_model_module": "@jupyter-widgets/base",
            "_model_module_version": "1.2.0",
            "_model_name": "LayoutModel",
            "_view_count": null,
            "_view_module": "@jupyter-widgets/base",
            "_view_module_version": "1.2.0",
            "_view_name": "LayoutView",
            "align_content": null,
            "align_items": null,
            "align_self": null,
            "border": null,
            "bottom": null,
            "display": null,
            "flex": null,
            "flex_flow": null,
            "grid_area": null,
            "grid_auto_columns": null,
            "grid_auto_flow": null,
            "grid_auto_rows": null,
            "grid_column": null,
            "grid_gap": null,
            "grid_row": null,
            "grid_template_areas": null,
            "grid_template_columns": null,
            "grid_template_rows": null,
            "height": null,
            "justify_content": null,
            "justify_items": null,
            "left": null,
            "margin": null,
            "max_height": null,
            "max_width": null,
            "min_height": null,
            "min_width": null,
            "object_fit": null,
            "object_position": null,
            "order": null,
            "overflow": null,
            "overflow_x": null,
            "overflow_y": null,
            "padding": null,
            "right": null,
            "top": null,
            "visibility": null,
            "width": null
          }
        },
        "ab83c4ee646b471ab98410144452d63c": {
          "model_module": "@jupyter-widgets/controls",
          "model_name": "ProgressStyleModel",
          "model_module_version": "1.5.0",
          "state": {
            "_model_module": "@jupyter-widgets/controls",
            "_model_module_version": "1.5.0",
            "_model_name": "ProgressStyleModel",
            "_view_count": null,
            "_view_module": "@jupyter-widgets/base",
            "_view_module_version": "1.2.0",
            "_view_name": "StyleView",
            "bar_color": null,
            "description_width": ""
          }
        },
        "142ba27e247f457ab48901acf281ded2": {
          "model_module": "@jupyter-widgets/base",
          "model_name": "LayoutModel",
          "model_module_version": "1.2.0",
          "state": {
            "_model_module": "@jupyter-widgets/base",
            "_model_module_version": "1.2.0",
            "_model_name": "LayoutModel",
            "_view_count": null,
            "_view_module": "@jupyter-widgets/base",
            "_view_module_version": "1.2.0",
            "_view_name": "LayoutView",
            "align_content": null,
            "align_items": null,
            "align_self": null,
            "border": null,
            "bottom": null,
            "display": null,
            "flex": null,
            "flex_flow": null,
            "grid_area": null,
            "grid_auto_columns": null,
            "grid_auto_flow": null,
            "grid_auto_rows": null,
            "grid_column": null,
            "grid_gap": null,
            "grid_row": null,
            "grid_template_areas": null,
            "grid_template_columns": null,
            "grid_template_rows": null,
            "height": null,
            "justify_content": null,
            "justify_items": null,
            "left": null,
            "margin": null,
            "max_height": null,
            "max_width": null,
            "min_height": null,
            "min_width": null,
            "object_fit": null,
            "object_position": null,
            "order": null,
            "overflow": null,
            "overflow_x": null,
            "overflow_y": null,
            "padding": null,
            "right": null,
            "top": null,
            "visibility": null,
            "width": null
          }
        },
        "a32ff6cf2c724bee858b22d59d7dd9d4": {
          "model_module": "@jupyter-widgets/controls",
          "model_name": "DescriptionStyleModel",
          "model_module_version": "1.5.0",
          "state": {
            "_model_module": "@jupyter-widgets/controls",
            "_model_module_version": "1.5.0",
            "_model_name": "DescriptionStyleModel",
            "_view_count": null,
            "_view_module": "@jupyter-widgets/base",
            "_view_module_version": "1.2.0",
            "_view_name": "StyleView",
            "description_width": ""
          }
        }
      }
    }
  },
  "cells": [
    {
      "cell_type": "markdown",
      "metadata": {
        "id": "view-in-github",
        "colab_type": "text"
      },
      "source": [
        "<a href=\"https://colab.research.google.com/github/haldonmez/mnist-digit-recognizer/blob/main/Model_3.ipynb\" target=\"_parent\"><img src=\"https://colab.research.google.com/assets/colab-badge.svg\" alt=\"Open In Colab\"/></a>"
      ]
    },
    {
      "cell_type": "code",
      "execution_count": 56,
      "metadata": {
        "colab": {
          "base_uri": "https://localhost:8080/"
        },
        "id": "iLkrXPnO7FP7",
        "outputId": "4b64218e-58c0-4d4a-b3f7-859859e2bd6a"
      },
      "outputs": [
        {
          "output_type": "stream",
          "name": "stdout",
          "text": [
            "Pytorch version: 2.2.1+cu121\n",
            "torchvision version:0.17.1+cu121\n"
          ]
        }
      ],
      "source": [
        "import torch\n",
        "from torch import nn\n",
        "\n",
        "import matplotlib.pyplot as plt\n",
        "\n",
        "import torchvision\n",
        "from torchvision import datasets\n",
        "from torchvision.transforms import ToTensor\n",
        "\n",
        "print(f\"Pytorch version: {torch.__version__}\\ntorchvision version:{torchvision.__version__}\")"
      ]
    },
    {
      "cell_type": "code",
      "source": [
        "data = \"/content/data\"\n",
        "train_data = datasets.MNIST(\n",
        "    root=data,\n",
        "    train= True,\n",
        "    transform=ToTensor(),\n",
        "    download=True,\n",
        "    target_transform=None\n",
        ")\n",
        "\n",
        "test_data = datasets.MNIST(\n",
        "    root=data,\n",
        "    train=False,\n",
        "    transform=ToTensor(),\n",
        "    download=True\n",
        ")"
      ],
      "metadata": {
        "id": "DMM56_Vq7YS7"
      },
      "execution_count": 57,
      "outputs": []
    },
    {
      "cell_type": "code",
      "source": [
        "import numpy as np\n",
        "def threshold_image(im,th):\n",
        "    thresholded_im = np.zeros(im.shape)\n",
        "    thresholded_im[im >= th] = 1\n",
        "    return thresholded_im"
      ],
      "metadata": {
        "id": "0QptHOvTXvdd"
      },
      "execution_count": 58,
      "outputs": []
    },
    {
      "cell_type": "code",
      "source": [
        "from torch.utils.data import Dataset\n",
        "import matplotlib.pyplot as plt\n",
        "import os\n",
        "import numpy as np\n",
        "import random\n",
        "\n",
        "train_dataset_path = '/content/data/MNIST/train-dataset.pt'\n",
        "test_dataset_path = '/content/data/MNIST/test-dataset.pt'\n",
        "\n",
        "if not os.path.exists(train_dataset_path and test_dataset_path):\n",
        "  train_data_otsu2 = [(torch.tensor(threshold_image(image[0], 0.2611499991255095)).unsqueeze(0).float(), label) for image, label in train_data]\n",
        "  torch.save(train_data_otsu2, train_dataset_path)\n",
        "  test_data_otsu2 = [(torch.tensor(threshold_image(image[0], 0.2611499991255095)).unsqueeze(0).float(), label) for image, label in test_data]\n",
        "  torch.save(train_data_otsu2, test_dataset_path)\n",
        "else:\n",
        "    # If the dataset already exists, load it\n",
        "    train_data_otsu2 = torch.load(train_dataset_path)\n",
        "    test_data_otsu2 = torch.load(test_dataset_path)\n",
        "\n",
        "random_number = random.randint(0,len(train_data_otsu2))\n",
        "image, label = train_data[random_number]\n",
        "image2, label2 = train_data_otsu2[random_number]\n",
        "image2.shape, image.shape\n",
        "print(f\"This is normal{train_data[0][0].dtype}\")\n",
        "print(f\"This is otsu{train_data_otsu2[0][0].dtype}\")\n",
        "plt.figure(figsize=(10,15))\n",
        "plt.subplot(321); plt.imshow(image.squeeze(),cmap='gray')\n",
        "plt.title(label)\n",
        "plt.subplot(322); plt.imshow(image2.squeeze(),cmap='gray')\n",
        "plt.title(label2)"
      ],
      "metadata": {
        "id": "wJHk6KFSXv3R",
        "outputId": "224cc930-2f56-440e-e7d1-4a2346588f63",
        "colab": {
          "base_uri": "https://localhost:8080/",
          "height": 474
        }
      },
      "execution_count": 48,
      "outputs": [
        {
          "output_type": "stream",
          "name": "stdout",
          "text": [
            "This is normaltorch.float32\n",
            "This is otsutorch.float32\n"
          ]
        },
        {
          "output_type": "execute_result",
          "data": {
            "text/plain": [
              "Text(0.5, 1.0, '9')"
            ]
          },
          "metadata": {},
          "execution_count": 48
        },
        {
          "output_type": "display_data",
          "data": {
            "text/plain": [
              "<Figure size 1000x1500 with 2 Axes>"
            ],
            "image/png": "[encoded data removed]"
          },
          "metadata": {}
        }
      ]
    },
    {
      "cell_type": "code",
      "source": [],
      "metadata": {
        "id": "44i5ZgBRXyCI"
      },
      "execution_count": 48,
      "outputs": []
    },
    {
      "cell_type": "code",
      "source": [
        "from torch.utils.data import DataLoader\n",
        "from torch.utils.data import ConcatDataset\n",
        "\n",
        "combined_train_data = ConcatDataset([train_data_otsu2, train_data])\n",
        "combined_test_data = ConcatDataset([test_data_otsu2, test_data])\n",
        "BATCH_SIZE = 32\n",
        "train_dataloader = DataLoader(train_data_otsu2, #Dataset to iterate on for the according batch size.\n",
        "                              batch_size = BATCH_SIZE, #Size of every single iteration.\n",
        "                              shuffle = True, #To make the loaded data selected randomly.\n",
        "                              )\n",
        "test_dataloader = DataLoader(test_data_otsu2,\n",
        "                             batch_size = BATCH_SIZE,\n",
        "                             shuffle = True)\n",
        "\n",
        "print(f\"For training data there is {len(train_dataloader)} iterations with the batch size of {BATCH_SIZE}.\")\n",
        "print(f\"For testing data there is {len(test_dataloader)} iterations with the batch size of {BATCH_SIZE}.\")"
      ],
      "metadata": {
        "id": "TighcMrjUG3w",
        "outputId": "e8e6b26c-4cd5-43a9-e963-8120d1cde6da",
        "colab": {
          "base_uri": "https://localhost:8080/"
        }
      },
      "execution_count": 49,
      "outputs": [
        {
          "output_type": "stream",
          "name": "stdout",
          "text": [
            "For training data there is 1875 iterations with the batch size of 32.\n",
            "For testing data there is 1875 iterations with the batch size of 32.\n"
          ]
        }
      ]
    },
    {
      "cell_type": "code",
      "source": [
        "import torch\n",
        "device = \"cuda\" if torch.cuda.is_available() else \"cpu\"\n",
        "device"
      ],
      "metadata": {
        "id": "W6kqaceNVG13",
        "outputId": "e42f11c8-91a9-4b1e-9965-276aa800f86f",
        "colab": {
          "base_uri": "https://localhost:8080/",
          "height": 35
        }
      },
      "execution_count": 50,
      "outputs": [
        {
          "output_type": "execute_result",
          "data": {
            "text/plain": [
              "'cuda'"
            ],
            "application/vnd.google.colaboratory.intrinsic+json": {
              "type": "string"
            }
          },
          "metadata": {},
          "execution_count": 50
        }
      ]
    },
    {
      "cell_type": "code",
      "source": [
        "class_names = train_data.classes"
      ],
      "metadata": {
        "id": "rsX6X50dU5Cu"
      },
      "execution_count": 51,
      "outputs": []
    },
    {
      "cell_type": "code",
      "source": [
        "# Create a convolutional neural network\n",
        "class DigitRecognizerMNISTV3(nn.Module):\n",
        "    \"\"\"\n",
        "    Model architecture copying TinyVGG from:\n",
        "    https://poloclub.github.io/cnn-explainer/\n",
        "    \"\"\"\n",
        "    def __init__(self, input_shape: int, hidden_units: int, output_shape: int):\n",
        "        super().__init__()\n",
        "        self.block_1 = nn.Sequential(\n",
        "            nn.Conv2d(in_channels=input_shape,\n",
        "                      out_channels=hidden_units,\n",
        "                      kernel_size=3, # how big is the square that's going over the image?\n",
        "                      stride=1, # default\n",
        "                      padding=1),# options = \"valid\" (no padding) or \"same\" (output has same shape as input) or int for specific number\n",
        "            nn.ReLU(),\n",
        "            nn.Conv2d(in_channels=hidden_units,\n",
        "                      out_channels=hidden_units,\n",
        "                      kernel_size=3,\n",
        "                      stride=1,\n",
        "                      padding=1),\n",
        "            nn.ReLU(),\n",
        "            nn.MaxPool2d(kernel_size=2,\n",
        "                         stride=2) # default stride value is same as kernel_size\n",
        "        )\n",
        "        self.block_2 = nn.Sequential(\n",
        "            nn.Conv2d(hidden_units, hidden_units, 3, padding=1),\n",
        "            nn.ReLU(),\n",
        "            nn.Conv2d(hidden_units, hidden_units, 3, padding=1),\n",
        "            nn.ReLU(),\n",
        "            nn.MaxPool2d(2)\n",
        "        )\n",
        "        self.classifier = nn.Sequential(\n",
        "            nn.Flatten(),\n",
        "            # Where did this in_features shape come from?\n",
        "            # It's because each layer of our network compresses and changes the shape of our inputs data.\n",
        "            nn.Linear(in_features=hidden_units*7*7,\n",
        "                      out_features=output_shape)\n",
        "        )\n",
        "\n",
        "    def forward(self, x: torch.Tensor):\n",
        "        x = self.block_1(x)\n",
        "        # print(x.shape)\n",
        "        x = self.block_2(x)\n",
        "        # print(x.shape)\n",
        "        x = self.classifier(x)\n",
        "        # print(x.shape)\n",
        "        return x\n",
        "\n",
        "torch.manual_seed(42)\n",
        "model_3 = DigitRecognizerMNISTV3(input_shape=1,\n",
        "    hidden_units=10,\n",
        "    output_shape=len(class_names)).to(device)\n",
        "model_3"
      ],
      "metadata": {
        "id": "OQyUTOG3UHav",
        "outputId": "d2c0968e-1efc-4f29-b84e-dfd19912fd5a",
        "colab": {
          "base_uri": "https://localhost:8080/"
        }
      },
      "execution_count": 52,
      "outputs": [
        {
          "output_type": "execute_result",
          "data": {
            "text/plain": [
              "DigitRecognizerMNISTV3(\n",
              "  (block_1): Sequential(\n",
              "    (0): Conv2d(1, 10, kernel_size=(3, 3), stride=(1, 1), padding=(1, 1))\n",
              "    (1): ReLU()\n",
              "    (2): Conv2d(10, 10, kernel_size=(3, 3), stride=(1, 1), padding=(1, 1))\n",
              "    (3): ReLU()\n",
              "    (4): MaxPool2d(kernel_size=2, stride=2, padding=0, dilation=1, ceil_mode=False)\n",
              "  )\n",
              "  (block_2): Sequential(\n",
              "    (0): Conv2d(10, 10, kernel_size=(3, 3), stride=(1, 1), padding=(1, 1))\n",
              "    (1): ReLU()\n",
              "    (2): Conv2d(10, 10, kernel_size=(3, 3), stride=(1, 1), padding=(1, 1))\n",
              "    (3): ReLU()\n",
              "    (4): MaxPool2d(kernel_size=2, stride=2, padding=0, dilation=1, ceil_mode=False)\n",
              "  )\n",
              "  (classifier): Sequential(\n",
              "    (0): Flatten(start_dim=1, end_dim=-1)\n",
              "    (1): Linear(in_features=490, out_features=10, bias=True)\n",
              "  )\n",
              ")"
            ]
          },
          "metadata": {},
          "execution_count": 52
        }
      ]
    },
    {
      "cell_type": "code",
      "source": [
        "loss_fn = nn.CrossEntropyLoss()\n",
        "optimizer = torch.optim.SGD(params=model_3.parameters(),\n",
        "                             lr=0.01)"
      ],
      "metadata": {
        "id": "kUtbzhg8VV_T"
      },
      "execution_count": 53,
      "outputs": []
    },
    {
      "cell_type": "code",
      "source": [
        "def accuracy_func(y_true, y_pred):\n",
        "  correct = torch.eq(y_true, y_pred).sum().item()\n",
        "  acc = (correct/len(y_pred)) * 100\n",
        "  return acc"
      ],
      "metadata": {
        "id": "9uxQ3GH1V6Xh"
      },
      "execution_count": 54,
      "outputs": []
    },
    {
      "cell_type": "code",
      "source": [
        "from timeit import default_timer as timer\n",
        "def print_train_time(start: float, end: float, device: torch.device = None):\n",
        "    \"\"\"Prints difference between start and end time.\n",
        "\n",
        "    Args:\n",
        "        start (float): Start time of computation (preferred in timeit format).\n",
        "        end (float): End time of computation.\n",
        "        device ([type], optional): Device that compute is running on. Defaults to None.\n",
        "\n",
        "    Returns:\n",
        "        float: time between start and end in seconds (higher is longer).\n",
        "    \"\"\"\n",
        "    total_time = end - start\n",
        "    print(f\"Train time on {device}: {total_time:.3f} seconds\")\n",
        "    return total_time\n",
        "# Imported from learnpytorch.io directly..."
      ],
      "metadata": {
        "id": "R_gaFm7aW9r_"
      },
      "execution_count": 55,
      "outputs": []
    },
    {
      "cell_type": "code",
      "source": [
        "def train_part(model: torch.nn.Module,\n",
        "               data_loader: torch.utils.data.DataLoader,\n",
        "               loss_fn: torch.nn.Module,\n",
        "               optimizer: torch.optim.Optimizer,\n",
        "               accuracy_func,\n",
        "               device: torch.device = device):\n",
        "  train_loss, train_acc = 0 , 0\n",
        "  model.to(device)\n",
        "\n",
        "  for batch, (X,y) in enumerate(data_loader):\n",
        "    X, y = X.to(device) , y.to(device)\n",
        "\n",
        "    y_pred = model(X)\n",
        "\n",
        "    loss = loss_fn(y_pred, y)\n",
        "    train_loss += loss\n",
        "    train_acc += accuracy_func(y_true=y,\n",
        "                               y_pred=y_pred.argmax(dim=1))\n",
        "\n",
        "    optimizer.zero_grad()\n",
        "    loss.backward()\n",
        "    optimizer.step()\n",
        "\n",
        "  train_loss /= len(data_loader)\n",
        "  train_acc /= len(data_loader)\n",
        "  print(f\"Train loss is:{train_loss:.5f}, Train accuracy is:{train_acc:.2f}%\")\n",
        "  return train_loss, train_acc\n",
        "\n",
        "def test_part(model: torch.nn.Module,\n",
        "               data_loader: torch.utils.data.DataLoader,\n",
        "               loss_fn: torch.nn.Module,\n",
        "               optimizer: torch.optim.Optimizer,\n",
        "               accuracy_func,\n",
        "               device: torch.device = device):\n",
        "  test_loss, test_acc = 0, 0\n",
        "  model.to(device)\n",
        "  model.eval()\n",
        "\n",
        "  with torch.inference_mode():\n",
        "    for X, y in data_loader:\n",
        "\n",
        "      X, y = X.to(device), y.to(device)\n",
        "\n",
        "      test_pred = model(X)\n",
        "      test_loss += loss_fn(test_pred, y)\n",
        "      test_acc += accuracy_func(y_true=y,\n",
        "                                y_pred = test_pred.argmax(dim=1))\n",
        "\n",
        "    test_loss /= len(data_loader)\n",
        "    test_acc /= len(data_loader)\n",
        "\n",
        "    print(f\"Test loss is:{test_loss:.6f}, Test accuracy is:{test_acc:.6f}%\")\n",
        "  return test_loss, test_acc"
      ],
      "metadata": {
        "id": "EvwHpXM7WXTi"
      },
      "execution_count": 62,
      "outputs": []
    },
    {
      "cell_type": "code",
      "source": [
        "torch.manual_seed(42)\n",
        "from tqdm.auto import tqdm\n",
        "# Measure time\n",
        "from timeit import default_timer as timer\n",
        "train_time_start_model_3 = timer()\n",
        "\n",
        "train_losses = []\n",
        "train_accuracies = []\n",
        "test_losses = []\n",
        "test_accuracies = []\n",
        "\n",
        "# Train and test model\n",
        "epochs = 50\n",
        "for epoch in tqdm(range(epochs)):\n",
        "\n",
        "    train_loss, train_acc = train_part(data_loader=train_dataloader,\n",
        "        model=model_3,\n",
        "        loss_fn=loss_fn,\n",
        "        optimizer=optimizer,\n",
        "        accuracy_func=accuracy_func,\n",
        "        device=device)\n",
        "    test_loss, test_acc = test_part(data_loader=test_dataloader,\n",
        "        model=model_3,\n",
        "        loss_fn=loss_fn,\n",
        "        optimizer = optimizer,\n",
        "        accuracy_func=accuracy_func,\n",
        "        device=device)\n",
        "    train_losses.append(train_loss.detach().cpu().numpy())\n",
        "    train_accuracies.append(train_acc)\n",
        "    test_losses.append(test_loss.detach().cpu().numpy())\n",
        "    test_accuracies.append(test_acc)\n",
        "\n",
        "\n",
        "    print(f\"Epoch: {epoch}\\n---------\")\n",
        "\n",
        "train_time_end_model_3 = timer()\n",
        "total_train_time_model_2 = print_train_time(start=train_time_start_model_3,\n",
        "                                           end=train_time_end_model_3,\n",
        "                                           device=device)"
      ],
      "metadata": {
        "id": "Sjxfj6-oVoBK",
        "outputId": "01e6e2a3-c0fb-40de-e3bf-dee5e7f78a2f",
        "colab": {
          "base_uri": "https://localhost:8080/",
          "height": 1000,
          "referenced_widgets": [
            "b197fc00af5446309133822d5fb6fc47",
            "3f76448077c14149ab53cc2e334e5141",
            "a4efb69299b844c2b089d2bab50d94a0",
            "bc6c80c1c35746dd905f7e7474ef48c0",
            "0b89e6480bd6493988b0e807bffa30d7",
            "86a372c4d6b94f7b8aaca234cfa5f3bc",
            "0f46d230cef84be08e6e84415254a4ef",
            "411b59571c224953b250aaefdea16114",
            "ab83c4ee646b471ab98410144452d63c",
            "142ba27e247f457ab48901acf281ded2",
            "a32ff6cf2c724bee858b22d59d7dd9d4"
          ]
        }
      },
      "execution_count": 63,
      "outputs": [
        {
          "output_type": "display_data",
          "data": {
            "text/plain": [
              "  0%|          | 0/50 [00:00<?, ?it/s]"
            ],
            "application/vnd.jupyter.widget-view+json": {
              "version_major": 2,
              "version_minor": 0,
              "model_id": "b197fc00af5446309133822d5fb6fc47"
            }
          },
          "metadata": {}
        },
        {
          "output_type": "stream",
          "name": "stdout",
          "text": [
            "Train loss is:0.01835, Train accuracy is:99.42%\n",
            "Test loss is:0.019768, Test accuracy is:99.316667%\n",
            "Epoch: 0\n",
            "---------\n",
            "Train loss is:0.01796, Train accuracy is:99.39%\n",
            "Test loss is:0.013307, Test accuracy is:99.586667%\n",
            "Epoch: 1\n",
            "---------\n",
            "Train loss is:0.01788, Train accuracy is:99.41%\n",
            "Test loss is:0.017238, Test accuracy is:99.451667%\n",
            "Epoch: 2\n",
            "---------\n",
            "Train loss is:0.01684, Train accuracy is:99.44%\n",
            "Test loss is:0.017994, Test accuracy is:99.395000%\n",
            "Epoch: 3\n",
            "---------\n",
            "Train loss is:0.01746, Train accuracy is:99.43%\n",
            "Test loss is:0.016783, Test accuracy is:99.416667%\n",
            "Epoch: 4\n",
            "---------\n",
            "Train loss is:0.01605, Train accuracy is:99.47%\n",
            "Test loss is:0.017154, Test accuracy is:99.406667%\n",
            "Epoch: 5\n",
            "---------\n",
            "Train loss is:0.01677, Train accuracy is:99.44%\n",
            "Test loss is:0.014308, Test accuracy is:99.505000%\n",
            "Epoch: 6\n",
            "---------\n",
            "Train loss is:0.01577, Train accuracy is:99.51%\n",
            "Test loss is:0.013972, Test accuracy is:99.530000%\n",
            "Epoch: 7\n",
            "---------\n",
            "Train loss is:0.01643, Train accuracy is:99.45%\n",
            "Test loss is:0.011901, Test accuracy is:99.630000%\n",
            "Epoch: 8\n",
            "---------\n",
            "Train loss is:0.01490, Train accuracy is:99.50%\n",
            "Test loss is:0.012980, Test accuracy is:99.570000%\n",
            "Epoch: 9\n",
            "---------\n",
            "Train loss is:0.01599, Train accuracy is:99.45%\n",
            "Test loss is:0.014026, Test accuracy is:99.546667%\n",
            "Epoch: 10\n",
            "---------\n",
            "Train loss is:0.01512, Train accuracy is:99.50%\n",
            "Test loss is:0.011275, Test accuracy is:99.666667%\n",
            "Epoch: 11\n",
            "---------\n",
            "Train loss is:0.01442, Train accuracy is:99.51%\n",
            "Test loss is:0.010730, Test accuracy is:99.653333%\n",
            "Epoch: 12\n",
            "---------\n",
            "Train loss is:0.01470, Train accuracy is:99.50%\n",
            "Test loss is:0.011603, Test accuracy is:99.633333%\n",
            "Epoch: 13\n",
            "---------\n",
            "Train loss is:0.01462, Train accuracy is:99.53%\n",
            "Test loss is:0.010795, Test accuracy is:99.650000%\n",
            "Epoch: 14\n",
            "---------\n",
            "Train loss is:0.01434, Train accuracy is:99.52%\n",
            "Test loss is:0.011298, Test accuracy is:99.650000%\n",
            "Epoch: 15\n",
            "---------\n",
            "Train loss is:0.01335, Train accuracy is:99.59%\n",
            "Test loss is:0.010520, Test accuracy is:99.673333%\n",
            "Epoch: 16\n",
            "---------\n",
            "Train loss is:0.01358, Train accuracy is:99.55%\n",
            "Test loss is:0.012510, Test accuracy is:99.583333%\n",
            "Epoch: 17\n",
            "---------\n",
            "Train loss is:0.01393, Train accuracy is:99.54%\n",
            "Test loss is:0.011791, Test accuracy is:99.598333%\n",
            "Epoch: 18\n",
            "---------\n",
            "Train loss is:0.01292, Train accuracy is:99.58%\n",
            "Test loss is:0.010708, Test accuracy is:99.661667%\n",
            "Epoch: 19\n",
            "---------\n",
            "Train loss is:0.01250, Train accuracy is:99.59%\n",
            "Test loss is:0.010585, Test accuracy is:99.645000%\n",
            "Epoch: 20\n",
            "---------\n",
            "Train loss is:0.01215, Train accuracy is:99.62%\n",
            "Test loss is:0.012114, Test accuracy is:99.575000%\n",
            "Epoch: 21\n",
            "---------\n",
            "Train loss is:0.01263, Train accuracy is:99.58%\n",
            "Test loss is:0.008282, Test accuracy is:99.776667%\n",
            "Epoch: 22\n",
            "---------\n",
            "Train loss is:0.01127, Train accuracy is:99.65%\n",
            "Test loss is:0.008437, Test accuracy is:99.743333%\n",
            "Epoch: 23\n",
            "---------\n",
            "Train loss is:0.01214, Train accuracy is:99.58%\n",
            "Test loss is:0.014035, Test accuracy is:99.531667%\n",
            "Epoch: 24\n",
            "---------\n",
            "Train loss is:0.01204, Train accuracy is:99.57%\n",
            "Test loss is:0.013833, Test accuracy is:99.503333%\n",
            "Epoch: 25\n",
            "---------\n",
            "Train loss is:0.01179, Train accuracy is:99.59%\n",
            "Test loss is:0.011691, Test accuracy is:99.613333%\n",
            "Epoch: 26\n",
            "---------\n",
            "Train loss is:0.01073, Train accuracy is:99.66%\n",
            "Test loss is:0.010232, Test accuracy is:99.661667%\n",
            "Epoch: 27\n",
            "---------\n",
            "Train loss is:0.01182, Train accuracy is:99.62%\n",
            "Test loss is:0.007917, Test accuracy is:99.758333%\n",
            "Epoch: 28\n",
            "---------\n",
            "Train loss is:0.01051, Train accuracy is:99.69%\n",
            "Test loss is:0.009829, Test accuracy is:99.685000%\n",
            "Epoch: 29\n",
            "---------\n",
            "Train loss is:0.01035, Train accuracy is:99.65%\n",
            "Test loss is:0.008518, Test accuracy is:99.741667%\n",
            "Epoch: 30\n",
            "---------\n",
            "Train loss is:0.01007, Train accuracy is:99.68%\n",
            "Test loss is:0.016357, Test accuracy is:99.410000%\n",
            "Epoch: 31\n",
            "---------\n",
            "Train loss is:0.00999, Train accuracy is:99.67%\n",
            "Test loss is:0.011909, Test accuracy is:99.608333%\n",
            "Epoch: 32\n",
            "---------\n",
            "Train loss is:0.00988, Train accuracy is:99.68%\n",
            "Test loss is:0.010248, Test accuracy is:99.648333%\n",
            "Epoch: 33\n",
            "---------\n",
            "Train loss is:0.00946, Train accuracy is:99.71%\n",
            "Test loss is:0.007048, Test accuracy is:99.800000%\n",
            "Epoch: 34\n",
            "---------\n",
            "Train loss is:0.00952, Train accuracy is:99.67%\n",
            "Test loss is:0.007212, Test accuracy is:99.791667%\n",
            "Epoch: 35\n",
            "---------\n",
            "Train loss is:0.01007, Train accuracy is:99.66%\n",
            "Test loss is:0.007653, Test accuracy is:99.751667%\n",
            "Epoch: 36\n",
            "---------\n",
            "Train loss is:0.00906, Train accuracy is:99.70%\n",
            "Test loss is:0.007593, Test accuracy is:99.780000%\n",
            "Epoch: 37\n",
            "---------\n",
            "Train loss is:0.01023, Train accuracy is:99.65%\n",
            "Test loss is:0.010238, Test accuracy is:99.636667%\n",
            "Epoch: 38\n",
            "---------\n",
            "Train loss is:0.01040, Train accuracy is:99.62%\n",
            "Test loss is:0.013607, Test accuracy is:99.528333%\n",
            "Epoch: 39\n",
            "---------\n",
            "Train loss is:0.00959, Train accuracy is:99.68%\n",
            "Test loss is:0.008790, Test accuracy is:99.700000%\n",
            "Epoch: 40\n",
            "---------\n",
            "Train loss is:0.00976, Train accuracy is:99.67%\n",
            "Test loss is:0.010993, Test accuracy is:99.586667%\n",
            "Epoch: 41\n",
            "---------\n",
            "Train loss is:0.00804, Train accuracy is:99.76%\n",
            "Test loss is:0.005853, Test accuracy is:99.815000%\n",
            "Epoch: 42\n",
            "---------\n",
            "Train loss is:0.00824, Train accuracy is:99.75%\n",
            "Test loss is:0.009239, Test accuracy is:99.683333%\n",
            "Epoch: 43\n",
            "---------\n",
            "Train loss is:0.00956, Train accuracy is:99.71%\n",
            "Test loss is:0.005384, Test accuracy is:99.841667%\n",
            "Epoch: 44\n",
            "---------\n",
            "Train loss is:0.00799, Train accuracy is:99.77%\n",
            "Test loss is:0.005430, Test accuracy is:99.860000%\n",
            "Epoch: 45\n",
            "---------\n",
            "Train loss is:0.00766, Train accuracy is:99.75%\n",
            "Test loss is:0.007163, Test accuracy is:99.765000%\n",
            "Epoch: 46\n",
            "---------\n",
            "Train loss is:0.00832, Train accuracy is:99.71%\n",
            "Test loss is:0.009316, Test accuracy is:99.680000%\n",
            "Epoch: 47\n",
            "---------\n",
            "Train loss is:0.00863, Train accuracy is:99.71%\n",
            "Test loss is:0.008079, Test accuracy is:99.736667%\n",
            "Epoch: 48\n",
            "---------\n",
            "Train loss is:0.00743, Train accuracy is:99.77%\n",
            "Test loss is:0.005525, Test accuracy is:99.803333%\n",
            "Epoch: 49\n",
            "---------\n",
            "Train time on cuda: 316.231 seconds\n"
          ]
        }
      ]
    },
    {
      "cell_type": "code",
      "source": [
        "plt.figure(figsize=(12, 5))\n",
        "plt.subplot(1, 2, 1)\n",
        "plt.plot(range(1, epochs + 1), train_losses, label='Train Loss')\n",
        "plt.plot(range(1, epochs + 1), test_losses, label='Test Loss')\n",
        "plt.title('Loss Over Epochs')\n",
        "plt.xlabel('Epochs')\n",
        "plt.ylabel('Loss')\n",
        "plt.legend()\n",
        "\n",
        "plt.subplot(1, 2, 2)\n",
        "plt.plot(range(1, epochs + 1), train_accuracies, label='Train Accuracy')\n",
        "plt.plot(range(1, epochs + 1), test_accuracies, label='Test Accuracy')\n",
        "plt.title('Accuracy Over Epochs')\n",
        "plt.xlabel('Epochs')\n",
        "plt.ylabel('Accuracy')\n",
        "plt.legend()\n",
        "\n",
        "plt.tight_layout()\n",
        "plt.show()"
      ],
      "metadata": {
        "id": "Gj1iPDu-cMs8",
        "outputId": "e1a88bcb-4775-4fb0-a13f-1b70f192a58e",
        "colab": {
          "base_uri": "https://localhost:8080/",
          "height": 455
        }
      },
      "execution_count": 64,
      "outputs": [
        {
          "output_type": "display_data",
          "data": {
            "text/plain": [
              "<Figure size 1200x500 with 2 Axes>"
            ],
            "image/png": "[encoded data removed]"
          },
          "metadata": {}
        }
      ]
    },
    {
      "cell_type": "markdown",
      "source": [
        "The last version of traning with lr:0.01 ==> Train loss is:0.01870, Train accuracy is:99.38%\n",
        "Test loss is:0.01427, Test accuracy is:99.55%\n",
        "Epoch: 49"
      ],
      "metadata": {
        "id": "0flM0HYs8Ghw"
      }
    },
    {
      "cell_type": "markdown",
      "source": [
        "The last version of traning with lr:0.01 ==> Train loss is:0.00743, Train accuracy is:99.77%\n",
        "Test loss is:0.005525, Test accuracy is:99.803333%\n",
        "Epoch: 99\n",
        "---------\n"
      ],
      "metadata": {
        "id": "jHcmwv2P9i6F"
      }
    }
  ]
}