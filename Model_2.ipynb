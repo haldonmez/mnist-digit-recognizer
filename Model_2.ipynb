{
  "nbformat": 4,
  "nbformat_minor": 0,
  "metadata": {
    "colab": {
      "provenance": [],
      "authorship_tag": "ABX9TyMMCM0geYi5z2iIVDAxW7ch",
      "include_colab_link": true
    },
    "kernelspec": {
      "name": "python3",
      "display_name": "Python 3"
    },
    "language_info": {
      "name": "python"
    }
  },
  "cells": [
    {
      "cell_type": "markdown",
      "metadata": {
        "id": "view-in-github",
        "colab_type": "text"
      },
      "source": [
        "<a href=\"https://colab.research.google.com/github/haldonmez/mnist-digit-recognizer/blob/main/Model_2.ipynb\" target=\"_parent\"><img src=\"https://colab.research.google.com/assets/colab-badge.svg\" alt=\"Open In Colab\"/></a>"
      ]
    },
    {
      "cell_type": "code",
      "execution_count": 2,
      "metadata": {
        "colab": {
          "base_uri": "https://localhost:8080/"
        },
        "id": "ohDyw1ooZl7l",
        "outputId": "7100826d-e7bc-4bb2-8c59-b6734a9ca330"
      },
      "outputs": [
        {
          "output_type": "stream",
          "name": "stdout",
          "text": [
            "Pytorch version: 2.2.1+cu121\n",
            "torchvision version:0.17.1+cu121\n"
          ]
        }
      ],
      "source": [
        "import torch\n",
        "from torch import nn\n",
        "\n",
        "import matplotlib.pyplot as plt\n",
        "\n",
        "import torchvision\n",
        "from torchvision import datasets\n",
        "from torchvision.transforms import ToTensor\n",
        "\n",
        "print(f\"Pytorch version: {torch.__version__}\\ntorchvision version:{torchvision.__version__}\")"
      ]
    },
    {
      "cell_type": "code",
      "source": [
        "data = \"/content/data\"\n",
        "train_data = datasets.MNIST(\n",
        "    root=data,\n",
        "    train= True,\n",
        "    transform=ToTensor(),\n",
        "    download=True,\n",
        "    target_transform=None\n",
        ")\n",
        "\n",
        "test_data = datasets.MNIST(\n",
        "    root=data,\n",
        "    train=False,\n",
        "    transform=ToTensor(),\n",
        "    download=True\n",
        ")"
      ],
      "metadata": {
        "id": "e1zWmXr6afO_",
        "colab": {
          "base_uri": "https://localhost:8080/"
        },
        "outputId": "69e918d1-4ee5-46f9-d532-fb7fa2231cbf"
      },
      "execution_count": 3,
      "outputs": [
        {
          "output_type": "stream",
          "name": "stdout",
          "text": [
            "Downloading http://yann.lecun.com/exdb/mnist/train-images-idx3-ubyte.gz\n",
            "Downloading http://yann.lecun.com/exdb/mnist/train-images-idx3-ubyte.gz to /content/data/MNIST/raw/train-images-idx3-ubyte.gz\n"
          ]
        },
        {
          "output_type": "stream",
          "name": "stderr",
          "text": [
            "100%|██████████| 9912422/9912422 [00:00<00:00, 49714228.78it/s]\n"
          ]
        },
        {
          "output_type": "stream",
          "name": "stdout",
          "text": [
            "Extracting /content/data/MNIST/raw/train-images-idx3-ubyte.gz to /content/data/MNIST/raw\n",
            "\n",
            "Downloading http://yann.lecun.com/exdb/mnist/train-labels-idx1-ubyte.gz\n",
            "Downloading http://yann.lecun.com/exdb/mnist/train-labels-idx1-ubyte.gz to /content/data/MNIST/raw/train-labels-idx1-ubyte.gz\n"
          ]
        },
        {
          "output_type": "stream",
          "name": "stderr",
          "text": [
            "100%|██████████| 28881/28881 [00:00<00:00, 60811091.28it/s]\n"
          ]
        },
        {
          "output_type": "stream",
          "name": "stdout",
          "text": [
            "Extracting /content/data/MNIST/raw/train-labels-idx1-ubyte.gz to /content/data/MNIST/raw\n",
            "\n",
            "Downloading http://yann.lecun.com/exdb/mnist/t10k-images-idx3-ubyte.gz\n",
            "Downloading http://yann.lecun.com/exdb/mnist/t10k-images-idx3-ubyte.gz to /content/data/MNIST/raw/t10k-images-idx3-ubyte.gz\n"
          ]
        },
        {
          "output_type": "stream",
          "name": "stderr",
          "text": [
            "100%|██████████| 1648877/1648877 [00:00<00:00, 44248678.13it/s]\n"
          ]
        },
        {
          "output_type": "stream",
          "name": "stdout",
          "text": [
            "Extracting /content/data/MNIST/raw/t10k-images-idx3-ubyte.gz to /content/data/MNIST/raw\n",
            "\n",
            "Downloading http://yann.lecun.com/exdb/mnist/t10k-labels-idx1-ubyte.gz\n",
            "Downloading http://yann.lecun.com/exdb/mnist/t10k-labels-idx1-ubyte.gz to /content/data/MNIST/raw/t10k-labels-idx1-ubyte.gz\n"
          ]
        },
        {
          "output_type": "stream",
          "name": "stderr",
          "text": [
            "100%|██████████| 4542/4542 [00:00<00:00, 11951398.22it/s]"
          ]
        },
        {
          "output_type": "stream",
          "name": "stdout",
          "text": [
            "Extracting /content/data/MNIST/raw/t10k-labels-idx1-ubyte.gz to /content/data/MNIST/raw\n",
            "\n"
          ]
        },
        {
          "output_type": "stream",
          "name": "stderr",
          "text": [
            "\n"
          ]
        }
      ]
    },
    {
      "cell_type": "code",
      "source": [
        "from torch.utils.data import DataLoader\n",
        "\n",
        "BATCH_SIZE = 32\n",
        "\n",
        "train_dataloader = DataLoader(train_data, #Dataset to iterate on for the according batch size.\n",
        "                              batch_size = BATCH_SIZE, #Size of every single iteration.\n",
        "                              shuffle = True, #To make the loaded data selecte randomly.\n",
        "                              )\n",
        "test_dataloader = DataLoader(test_data,\n",
        "                             batch_size = BATCH_SIZE,\n",
        "                             shuffle = True)\n",
        "\n",
        "print(f\"For training data there is {len(train_dataloader)} iterations with the batch size of {BATCH_SIZE}.\")\n",
        "print(f\"For testing data there is {len(test_dataloader)} iterations with the batch size of {BATCH_SIZE}.\")"
      ],
      "metadata": {
        "colab": {
          "base_uri": "https://localhost:8080/"
        },
        "id": "k30MoBwbaiib",
        "outputId": "3b0bfe60-4e97-4830-97f1-5cfb45e784a2"
      },
      "execution_count": 4,
      "outputs": [
        {
          "output_type": "stream",
          "name": "stdout",
          "text": [
            "For training data there is 1875 iterations with the batch size of 32.\n",
            "For testing data there is 313 iterations with the batch size of 32.\n"
          ]
        }
      ]
    },
    {
      "cell_type": "markdown",
      "source": [
        "Lets try to get a optimum variance value by self picking 0-1 as background values and the rest as foreground values."
      ],
      "metadata": {
        "id": "_Om9ZseeLFeE"
      }
    },
    {
      "cell_type": "code",
      "source": [
        "import matplotlib.pyplot as plt\n",
        "import numpy as np\n",
        "import math\n",
        "# Get an example image and a label.\n",
        "image, label = train_data[0]\n",
        "\n",
        "# Flattened the image so we can get the values in a single 1d matrix.\n",
        "flatten_image = nn.Flatten()\n",
        "image_flattened = flatten_image(image)\n",
        "\n",
        "# Creating a histogram to check the mean of the background and foreground.\n",
        "hist, bin_edges, number_of_x_values= plt.hist(image_flattened, bins=6, color='gray', alpha=0.5)\n",
        "plt.title('Pixel Intensity Histogram')\n",
        "plt.xlabel('Pixel Intensity')\n",
        "plt.ylabel('Frequency')\n",
        "plt.show()\n",
        "\n",
        "# We can calculate back to 784 and check if the histogram is correct.\n",
        "total_weight = np.sum(hist)\n",
        "\n",
        "# The sum of the values varying to their intensity levels.\n",
        "for i in range(len(bin_edges)-1):\n",
        "  print(hist[i])\n",
        "\n",
        "# Weight values calculated for self-picked value of 0-1 to background and the rest for foreground.\n",
        "Wb = (hist[0]+hist[1])/total_weight\n",
        "Wf = (hist[2]+hist[3]+hist[4]+hist[5])/total_weight\n",
        "\n",
        "# Calculating the mean variance of the background and foreground values which we self picked before hand.\n",
        "Ub = ((hist[0]*bin_edges[0])+(hist[1]*bin_edges[1]))/(hist[0]+hist[1])\n",
        "Uf = ((hist[2]*bin_edges[2])+(hist[3]*bin_edges[3])+(hist[4]*bin_edges[4])+(hist[5]*bin_edges[5]))/(hist[2]+hist[3]+hist[4]+hist[5])\n",
        "\n",
        "# Getting the variance value based on Otsu's Method to get a number if our self picked number's variance is the best.\n",
        "variance = math.sqrt((Wb*Wf)*((Ub-Uf)*(Ub-Uf)))\n",
        "variance, Wb, Wf, Ub, Uf, Wb+Wf, Ub+Uf"
      ],
      "metadata": {
        "colab": {
          "base_uri": "https://localhost:8080/",
          "height": 698
        },
        "id": "VMxcCKnAaj-0",
        "outputId": "04540276-fac6-4364-9929-e18ea7f227ca"
      },
      "execution_count": 10,
      "outputs": [
        {
          "output_type": "display_data",
          "data": {
            "text/plain": [
              "<Figure size 640x480 with 1 Axes>"
            ],
            "image/png": "[encoded data removed]"
          },
          "metadata": {}
        },
        {
          "output_type": "stream",
          "name": "stdout",
          "text": [
            "646.0\n",
            "17.0\n",
            "10.0\n",
            "15.0\n",
            "20.0\n",
            "76.0\n"
          ]
        },
        {
          "output_type": "execute_result",
          "data": {
            "text/plain": [
              "(0.25970596455305495,\n",
              " 0.8456632653061225,\n",
              " 0.15433673469387754,\n",
              " 0.004273504400864625,\n",
              " 0.7231404874935623,\n",
              " 1.0,\n",
              " 0.7274139918944269)"
            ]
          },
          "metadata": {},
          "execution_count": 10
        }
      ]
    },
    {
      "cell_type": "markdown",
      "source": [
        "This snippet calculates a variance number based on our self picked values which is \"0.25970596455305495\". We need to functionize this to get the best - highest - variance value to implement in our Otsu's threshold method."
      ],
      "metadata": {
        "id": "wpZew-TdKye1"
      }
    },
    {
      "cell_type": "code",
      "source": [
        "import numpy as np\n",
        "def threshold_image(im,th):\n",
        "    thresholded_im = np.zeros(im.shape)\n",
        "    thresholded_im[im >= th] = 1\n",
        "    return thresholded_im"
      ],
      "metadata": {
        "id": "43hFCUlRfXnv"
      },
      "execution_count": null,
      "outputs": []
    },
    {
      "cell_type": "code",
      "source": [
        "im_otsu = threshold_image(image, variance)"
      ],
      "metadata": {
        "id": "t1unsGrsp8KY"
      },
      "execution_count": null,
      "outputs": []
    },
    {
      "cell_type": "code",
      "source": [
        "plt.figure(figsize=(10,15))\n",
        "plt.subplot(321); plt.imshow(image.squeeze(),cmap='gray')\n",
        "plt.title(\"Before Otsu's model\")\n",
        "plt.subplot(322); plt.imshow(im_otsu.squeeze(),cmap='gray')\n",
        "plt.title(\"After Otsu's model\")"
      ],
      "metadata": {
        "colab": {
          "base_uri": "https://localhost:8080/",
          "height": 439
        },
        "id": "qqunodsSqiDr",
        "outputId": "703af1f3-b28e-407b-9ced-c1e94c056826"
      },
      "execution_count": null,
      "outputs": [
        {
          "output_type": "execute_result",
          "data": {
            "text/plain": [
              "Text(0.5, 1.0, \"After Otsu's model\")"
            ]
          },
          "metadata": {},
          "execution_count": 162
        },
        {
          "output_type": "display_data",
          "data": {
            "text/plain": [
              "<Figure size 1000x1500 with 2 Axes>"
            ],
            "image/png": "[encoded data removed]"
          },
          "metadata": {}
        }
      ]
    },
    {
      "cell_type": "markdown",
      "source": [
        "Lets functionize Otsu's model to get the optimal variance based of our given image."
      ],
      "metadata": {
        "id": "oTXwW0VZUqrm"
      }
    },
    {
      "cell_type": "code",
      "source": [
        "\"\"\"import matplotlib.pyplot as plt\n",
        "import numpy as numpy\n",
        "import math\n",
        "\n",
        "def findGreatestThreshold(img):\n",
        "  # First we flatten the image to get the 1D matrix.\n",
        "  flatten_image = nn.Flatten()\n",
        "  image_flattened = flatten_image(image)\n",
        "\n",
        "  # Then we get the histogram values of the image.\n",
        "  counts, binominal_values, number_of_x_values= plt.hist(image_flattened, bins=6, color='gray', alpha=0.5)\n",
        "  # Counts = The number of times that intensity was displayed\n",
        "  # Binominal_values = The levels of intensity in our case its [0., 0.16666667, 0.33333334, 0.5, 0.66666669, 0.83333331, 1.]\n",
        "\n",
        "  # We get the total weight for our calculations.\n",
        "  total_weight = np.sum(counts)\n",
        "\n",
        "  current_weight = 0\n",
        "  current_intensity = 0\n",
        "  foreground_intensity = 0\n",
        "\n",
        "  for i in range(len(binominal_values)-1):\n",
        "    for j in range(i+1):\n",
        "      current_weight += counts[j]\n",
        "      current_intensity += counts[j]*binominal_values[j]\n",
        "    for k in range(len(binominal_values)-i-1):\n",
        "      foreground_intensity += counts[k]*binominal_values[k]\n",
        "\n",
        "    Ub = current_intensity / current_weight\n",
        "    Uf = foreground_intensity / current_weight\n",
        "    Wb = current_weight / total_weight\n",
        "    Wf = 1 - Wb\n",
        "    #variance = math.sqrt((Wb*Wf)*((Ub-Uf)*(Ub-Uf)))\n",
        "\n",
        "  return Ub\n",
        "\n",
        "findGreatestThreshold(image)\"\"\""
      ],
      "metadata": {
        "id": "R_DtqVyOVKMB",
        "colab": {
          "base_uri": "https://localhost:8080/",
          "height": 156
        },
        "outputId": "74833dca-10b8-4fce-c357-098723c70674"
      },
      "execution_count": 29,
      "outputs": [
        {
          "output_type": "execute_result",
          "data": {
            "text/plain": [
              "\"import matplotlib.pyplot as plt\\nimport numpy as numpy\\nimport math\\n\\ndef findGreatestThreshold(img):\\n  # First we flatten the image to get the 1D matrix.\\n  flatten_image = nn.Flatten()\\n  image_flattened = flatten_image(image)\\n\\n  # Then we get the histogram values of the image.\\n  counts, binominal_values, number_of_x_values= plt.hist(image_flattened, bins=6, color='gray', alpha=0.5)\\n  # Counts = The number of times that intensity was displayed\\n  # Binominal_values = The levels of intensity in our case its [0., 0.16666667, 0.33333334, 0.5, 0.66666669, 0.83333331, 1.]\\n\\n  # We get the total weight for our calculations.\\n  total_weight = np.sum(counts)\\n\\n  current_weight = 0\\n  current_intensity = 0\\n  foreground_intensity = 0\\n\\n  for i in range(len(binominal_values)-1):\\n    for j in range(i+1):\\n      current_weight += counts[j]\\n      current_intensity += counts[j]*binominal_values[j]\\n    for k in range(len(binominal_values)-i-1):\\n      foreground_intensity += counts[k]*binominal_values[k]\\n\\n    Ub = current_intensity / current_weight\\n    Uf = foreground_intensity / current_weight\\n    Wb = current_weight / total_weight\\n    Wf = 1 - Wb\\n    #variance = math.sqrt((Wb*Wf)*((Ub-Uf)*(Ub-Uf)))\\n  \\n  return Ub\\n\\nfindGreatestThreshold(image)\""
            ],
            "application/vnd.google.colaboratory.intrinsic+json": {
              "type": "string"
            }
          },
          "metadata": {},
          "execution_count": 29
        }
      ]
    },
    {
      "cell_type": "code",
      "source": [
        "import matplotlib.pyplot as plt\n",
        "\n",
        "flatten_image = nn.Flatten()\n",
        "image_flattened = flatten_image(image)\n",
        "\n",
        "image_flattened.shape\n",
        "List = image_flattened.tolist()\n",
        "List\n",
        "\n",
        "fig, ax = plt.subplots()\n",
        "ax.hist(List, bins=6)\n",
        "plt.show()\n",
        "\n"
      ],
      "metadata": {
        "colab": {
          "base_uri": "https://localhost:8080/",
          "height": 430
        },
        "id": "TQqMZaUDBINq",
        "outputId": "38ac055d-3afc-4cb8-fee4-44fb8aedd61f"
      },
      "execution_count": 70,
      "outputs": [
        {
          "output_type": "display_data",
          "data": {
            "text/plain": [
              "<Figure size 640x480 with 1 Axes>"
            ],
            "image/png": "[encoded data removed]"
          },
          "metadata": {}
        }
      ]
    }
  ]
}