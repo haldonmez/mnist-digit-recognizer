{
  "nbformat": 4,
  "nbformat_minor": 0,
  "metadata": {
    "colab": {
      "provenance": [],
      "authorship_tag": "ABX9TyPrCRfF5omCcuekliaTzY3e",
      "include_colab_link": true
    },
    "kernelspec": {
      "name": "python3",
      "display_name": "Python 3"
    },
    "language_info": {
      "name": "python"
    }
  },
  "cells": [
    {
      "cell_type": "markdown",
      "metadata": {
        "id": "view-in-github",
        "colab_type": "text"
      },
      "source": [
        "<a href=\"https://colab.research.google.com/github/haldonmez/mnist-digit-recognizer/blob/main/Model_2.ipynb\" target=\"_parent\"><img src=\"https://colab.research.google.com/assets/colab-badge.svg\" alt=\"Open In Colab\"/></a>"
      ]
    },
    {
      "cell_type": "code",
      "execution_count": 33,
      "metadata": {
        "colab": {
          "base_uri": "https://localhost:8080/"
        },
        "id": "ohDyw1ooZl7l",
        "outputId": "5d0b67cc-c6c4-4a43-bd74-29676cc12cb5"
      },
      "outputs": [
        {
          "output_type": "stream",
          "name": "stdout",
          "text": [
            "Pytorch version: 2.2.1+cu121\n",
            "torchvision version:0.17.1+cu121\n"
          ]
        }
      ],
      "source": [
        "import torch\n",
        "from torch import nn\n",
        "\n",
        "import matplotlib.pyplot as plt\n",
        "\n",
        "import torchvision\n",
        "from torchvision import datasets\n",
        "from torchvision.transforms import ToTensor\n",
        "\n",
        "print(f\"Pytorch version: {torch.__version__}\\ntorchvision version:{torchvision.__version__}\")"
      ]
    },
    {
      "cell_type": "code",
      "source": [
        "data = \"/content/data\"\n",
        "train_data = datasets.MNIST(\n",
        "    root=data,\n",
        "    train= True,\n",
        "    transform=ToTensor(),\n",
        "    download=True,\n",
        "    target_transform=None\n",
        ")\n",
        "\n",
        "test_data = datasets.MNIST(\n",
        "    root=data,\n",
        "    train=False,\n",
        "    transform=ToTensor(),\n",
        "    download=True\n",
        ")"
      ],
      "metadata": {
        "id": "e1zWmXr6afO_"
      },
      "execution_count": 34,
      "outputs": []
    },
    {
      "cell_type": "code",
      "source": [
        "from torch.utils.data import DataLoader\n",
        "\n",
        "BATCH_SIZE = 32\n",
        "\n",
        "train_dataloader = DataLoader(train_data, #Dataset to iterate on for the according batch size.\n",
        "                              batch_size = BATCH_SIZE, #Size of every single iteration.\n",
        "                              shuffle = True, #To make the loaded data selecte randomly.\n",
        "                              )\n",
        "test_dataloader = DataLoader(test_data,\n",
        "                             batch_size = BATCH_SIZE,\n",
        "                             shuffle = True)\n",
        "\n",
        "print(f\"For training data there is {len(train_dataloader)} iterations with the batch size of {BATCH_SIZE}.\")\n",
        "print(f\"For testing data there is {len(test_dataloader)} iterations with the batch size of {BATCH_SIZE}.\")"
      ],
      "metadata": {
        "colab": {
          "base_uri": "https://localhost:8080/"
        },
        "id": "k30MoBwbaiib",
        "outputId": "83019f27-97df-4219-a2ad-19d650be9688"
      },
      "execution_count": 35,
      "outputs": [
        {
          "output_type": "stream",
          "name": "stdout",
          "text": [
            "For training data there is 1875 iterations with the batch size of 32.\n",
            "For testing data there is 313 iterations with the batch size of 32.\n"
          ]
        }
      ]
    },
    {
      "cell_type": "code",
      "source": [
        "import matplotlib.pyplot as plt\n",
        "import numpy as numpy\n",
        "\n",
        "image, label = train_data[0]\n",
        "flatten_image = nn.Flatten()\n",
        "image_flattened = flatten_image(image)\n",
        "\n",
        "plt.hist(image_flattened, bins=8, color='gray', alpha=0.5)\n",
        "plt.title('Pixel Intensity Histogram')\n",
        "plt.xlabel('Pixel Intensity')\n",
        "plt.ylabel('Frequency')\n",
        "plt.show()\n",
        "total = np.sum(plt.ylabel)\n",
        "total"
      ],
      "metadata": {
        "colab": {
          "base_uri": "https://localhost:8080/",
          "height": 640
        },
        "id": "VMxcCKnAaj-0",
        "outputId": "7f9bb32b-adb7-4acb-c696-7e64ff2a6a29"
      },
      "execution_count": 84,
      "outputs": [
        {
          "output_type": "display_data",
          "data": {
            "text/plain": [
              "<Figure size 640x480 with 1 Axes>"
            ],
            "image/png": "[encoded data removed]"
          },
          "metadata": {}
        },
        {
          "output_type": "execute_result",
          "data": {
            "text/plain": [
              "<function matplotlib.pyplot.ylabel(ylabel, fontdict=None, labelpad=None, *, loc=None, **kwargs)>"
            ],
            "text/html": [
              "<div style=\"max-width:800px; border: 1px solid var(--colab-border-color);\"><style>\n",
              "      pre.function-repr-contents {\n",
              "        overflow-x: auto;\n",
              "        padding: 8px 12px;\n",
              "        max-height: 500px;\n",
              "      }\n",
              "\n",
              "      pre.function-repr-contents.function-repr-contents-collapsed {\n",
              "        cursor: pointer;\n",
              "        max-height: 100px;\n",
              "      }\n",
              "    </style>\n",
              "    <pre style=\"white-space: initial; background:\n",
              "         var(--colab-secondary-surface-color); padding: 8px 12px;\n",
              "         border-bottom: 1px solid var(--colab-border-color);\"><b>matplotlib.pyplot.ylabel</b><br/>def ylabel(ylabel, fontdict=None, labelpad=None, *, loc=None, **kwargs)</pre><pre class=\"function-repr-contents function-repr-contents-collapsed\" style=\"\"><a class=\"filepath\" style=\"display:none\" href=\"#\">/usr/local/lib/python3.10/dist-packages/matplotlib/pyplot.py</a>Set the label for the y-axis.\n",
              "\n",
              "Parameters\n",
              "----------\n",
              "ylabel : str\n",
              "    The label text.\n",
              "\n",
              "labelpad : float, default: :rc:`axes.labelpad`\n",
              "    Spacing in points from the Axes bounding box including ticks\n",
              "    and tick labels.  If None, the previous value is left as is.\n",
              "\n",
              "loc : {&#x27;bottom&#x27;, &#x27;center&#x27;, &#x27;top&#x27;}, default: :rc:`yaxis.labellocation`\n",
              "    The label position. This is a high-level alternative for passing\n",
              "    parameters *y* and *horizontalalignment*.\n",
              "\n",
              "Other Parameters\n",
              "----------------\n",
              "**kwargs : `.Text` properties\n",
              "    `.Text` properties control the appearance of the label.\n",
              "\n",
              "See Also\n",
              "--------\n",
              "text : Documents the properties supported by `.Text`.</pre>\n",
              "      <script>\n",
              "      if (google.colab.kernel.accessAllowed && google.colab.files && google.colab.files.view) {\n",
              "        for (const element of document.querySelectorAll('.filepath')) {\n",
              "          element.style.display = 'block'\n",
              "          element.onclick = (event) => {\n",
              "            event.preventDefault();\n",
              "            event.stopPropagation();\n",
              "            google.colab.files.view(element.textContent, 3097);\n",
              "          };\n",
              "        }\n",
              "      }\n",
              "      for (const element of document.querySelectorAll('.function-repr-contents')) {\n",
              "        element.onclick = (event) => {\n",
              "          event.preventDefault();\n",
              "          event.stopPropagation();\n",
              "          element.classList.toggle('function-repr-contents-collapsed');\n",
              "        };\n",
              "      }\n",
              "      </script>\n",
              "      </div>"
            ]
          },
          "metadata": {},
          "execution_count": 84
        }
      ]
    },
    {
      "cell_type": "code",
      "source": [
        "image.shape\n"
      ],
      "metadata": {
        "colab": {
          "base_uri": "https://localhost:8080/"
        },
        "id": "TK3gTdwmvDyF",
        "outputId": "22bd5e79-b03d-4512-efaf-461af5b6ac96"
      },
      "execution_count": 55,
      "outputs": [
        {
          "output_type": "execute_result",
          "data": {
            "text/plain": [
              "torch.Size([1, 28, 28])"
            ]
          },
          "metadata": {},
          "execution_count": 55
        }
      ]
    },
    {
      "cell_type": "markdown",
      "source": [
        "I will experiment with Otsu's method to try and get a better picture."
      ],
      "metadata": {
        "id": "h0SRg4XNfTEy"
      }
    },
    {
      "cell_type": "code",
      "source": [
        "import numpy as np\n",
        "\n",
        "def thresholding(f, L):\n",
        "    # create a new image with zeros\n",
        "    f_tr = np.ones(f.shape).astype(np.uint8)\n",
        "    # setting to 0 the pixels below the threshold\n",
        "    f_tr[np.where(f < L)] = 0\n",
        "    return f_tr"
      ],
      "metadata": {
        "id": "43hFCUlRfXnv"
      },
      "execution_count": 53,
      "outputs": []
    },
    {
      "cell_type": "code",
      "source": [
        "import numpy as np\n",
        "\n",
        "def otsu_threshold(image, max_L):\n",
        "  M = np.prod(image.shape)\n",
        "  min_var = []\n",
        "  hist_t,_ = np.histogram(image, bins=256, range=(0,256))\n",
        "\n",
        "  img_t = thresholding(image, 0)\n",
        "\n",
        "  for L in np.arange(1, max_L):\n",
        "    img_ti = thresholding(image, L)\n",
        "\n",
        "    w_a = np.sum(hist_t[:L])/float(M)\n",
        "    w_b = np.sum(hist_t[L:])/float(M)\n",
        "\n",
        "    sig_a = np.var(image[np.where(img_ti == 0)])\n",
        "    sig_b = np.var(image[np.where(img_ti == 1)])\n",
        "\n",
        "    min_var = min_var + [w_a*sig_a + w_b*sig_b]\n",
        "\n",
        "  img_t = thresholding(image, np.argmin(min_var))\n",
        "\n",
        "  return img_t, np.argmin(min_var)"
      ],
      "metadata": {
        "id": "t1unsGrsp8KY"
      },
      "execution_count": 49,
      "outputs": []
    },
    {
      "cell_type": "code",
      "source": [
        "#img_o, OL = otsu_threshold(image, 255)\n",
        "\n",
        "#hist_o,_ = np.histogram(img_o*255, bins=256, range=(0,256))\n",
        "\n",
        "#plt.figure(figsize=(10,15))\n",
        "#plt.subplot(325); plt.imshow(img_o, cmap=\"gray\"); plt.axis('off'); plt.title('Otsu threshold (%d)' % (OL))\n",
        "#plt.subplot(326); plt.bar(np.arange(0,256), hist_o)"
      ],
      "metadata": {
        "id": "qqunodsSqiDr"
      },
      "execution_count": 52,
      "outputs": []
    }
  ]
}