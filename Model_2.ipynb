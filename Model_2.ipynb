{
  "nbformat": 4,
  "nbformat_minor": 0,
  "metadata": {
    "colab": {
      "provenance": [],
      "gpuType": "T4",
      "authorship_tag": "ABX9TyOZCWoffPdoooTL51jYlI/p",
      "include_colab_link": true
    },
    "kernelspec": {
      "name": "python3",
      "display_name": "Python 3"
    },
    "language_info": {
      "name": "python"
    },
    "accelerator": "GPU",
    "widgets": {
      "application/vnd.jupyter.widget-state+json": {
        "286fd8295caf45449ff7604f260a0d3a": {
          "model_module": "@jupyter-widgets/controls",
          "model_name": "HBoxModel",
          "model_module_version": "1.5.0",
          "state": {
            "_dom_classes": [],
            "_model_module": "@jupyter-widgets/controls",
            "_model_module_version": "1.5.0",
            "_model_name": "HBoxModel",
            "_view_count": null,
            "_view_module": "@jupyter-widgets/controls",
            "_view_module_version": "1.5.0",
            "_view_name": "HBoxView",
            "box_style": "",
            "children": [
              "IPY_MODEL_33c3c58475424410b88062d66d1a474c",
              "IPY_MODEL_929be0667ccb405d92082104a3c7df16",
              "IPY_MODEL_80356ed9bb304e9bb0edf09a53818455"
            ],
            "layout": "IPY_MODEL_03da822b9c604c5ca7a7068f3d4e6bd3"
          }
        },
        "33c3c58475424410b88062d66d1a474c": {
          "model_module": "@jupyter-widgets/controls",
          "model_name": "HTMLModel",
          "model_module_version": "1.5.0",
          "state": {
            "_dom_classes": [],
            "_model_module": "@jupyter-widgets/controls",
            "_model_module_version": "1.5.0",
            "_model_name": "HTMLModel",
            "_view_count": null,
            "_view_module": "@jupyter-widgets/controls",
            "_view_module_version": "1.5.0",
            "_view_name": "HTMLView",
            "description": "",
            "description_tooltip": null,
            "layout": "IPY_MODEL_8825a116d4bc4d7a942ae7fd289edb31",
            "placeholder": "​",
            "style": "IPY_MODEL_92303a4489274121890c2608c8f84149",
            "value": "100%"
          }
        },
        "929be0667ccb405d92082104a3c7df16": {
          "model_module": "@jupyter-widgets/controls",
          "model_name": "FloatProgressModel",
          "model_module_version": "1.5.0",
          "state": {
            "_dom_classes": [],
            "_model_module": "@jupyter-widgets/controls",
            "_model_module_version": "1.5.0",
            "_model_name": "FloatProgressModel",
            "_view_count": null,
            "_view_module": "@jupyter-widgets/controls",
            "_view_module_version": "1.5.0",
            "_view_name": "ProgressView",
            "bar_style": "success",
            "description": "",
            "description_tooltip": null,
            "layout": "IPY_MODEL_6b254e8b3ef04947ae91f969d6ee8083",
            "max": 5,
            "min": 0,
            "orientation": "horizontal",
            "style": "IPY_MODEL_5a1fe6a2e6c7465db4af00664b061cd9",
            "value": 5
          }
        },
        "80356ed9bb304e9bb0edf09a53818455": {
          "model_module": "@jupyter-widgets/controls",
          "model_name": "HTMLModel",
          "model_module_version": "1.5.0",
          "state": {
            "_dom_classes": [],
            "_model_module": "@jupyter-widgets/controls",
            "_model_module_version": "1.5.0",
            "_model_name": "HTMLModel",
            "_view_count": null,
            "_view_module": "@jupyter-widgets/controls",
            "_view_module_version": "1.5.0",
            "_view_name": "HTMLView",
            "description": "",
            "description_tooltip": null,
            "layout": "IPY_MODEL_3b963a2a6b274cfe94d4828c18359cdb",
            "placeholder": "​",
            "style": "IPY_MODEL_92d11523f2f7431f81e6412b6259fe99",
            "value": " 5/5 [01:15&lt;00:00, 14.78s/it]"
          }
        },
        "03da822b9c604c5ca7a7068f3d4e6bd3": {
          "model_module": "@jupyter-widgets/base",
          "model_name": "LayoutModel",
          "model_module_version": "1.2.0",
          "state": {
            "_model_module": "@jupyter-widgets/base",
            "_model_module_version": "1.2.0",
            "_model_name": "LayoutModel",
            "_view_count": null,
            "_view_module": "@jupyter-widgets/base",
            "_view_module_version": "1.2.0",
            "_view_name": "LayoutView",
            "align_content": null,
            "align_items": null,
            "align_self": null,
            "border": null,
            "bottom": null,
            "display": null,
            "flex": null,
            "flex_flow": null,
            "grid_area": null,
            "grid_auto_columns": null,
            "grid_auto_flow": null,
            "grid_auto_rows": null,
            "grid_column": null,
            "grid_gap": null,
            "grid_row": null,
            "grid_template_areas": null,
            "grid_template_columns": null,
            "grid_template_rows": null,
            "height": null,
            "justify_content": null,
            "justify_items": null,
            "left": null,
            "margin": null,
            "max_height": null,
            "max_width": null,
            "min_height": null,
            "min_width": null,
            "object_fit": null,
            "object_position": null,
            "order": null,
            "overflow": null,
            "overflow_x": null,
            "overflow_y": null,
            "padding": null,
            "right": null,
            "top": null,
            "visibility": null,
            "width": null
          }
        },
        "8825a116d4bc4d7a942ae7fd289edb31": {
          "model_module": "@jupyter-widgets/base",
          "model_name": "LayoutModel",
          "model_module_version": "1.2.0",
          "state": {
            "_model_module": "@jupyter-widgets/base",
            "_model_module_version": "1.2.0",
            "_model_name": "LayoutModel",
            "_view_count": null,
            "_view_module": "@jupyter-widgets/base",
            "_view_module_version": "1.2.0",
            "_view_name": "LayoutView",
            "align_content": null,
            "align_items": null,
            "align_self": null,
            "border": null,
            "bottom": null,
            "display": null,
            "flex": null,
            "flex_flow": null,
            "grid_area": null,
            "grid_auto_columns": null,
            "grid_auto_flow": null,
            "grid_auto_rows": null,
            "grid_column": null,
            "grid_gap": null,
            "grid_row": null,
            "grid_template_areas": null,
            "grid_template_columns": null,
            "grid_template_rows": null,
            "height": null,
            "justify_content": null,
            "justify_items": null,
            "left": null,
            "margin": null,
            "max_height": null,
            "max_width": null,
            "min_height": null,
            "min_width": null,
            "object_fit": null,
            "object_position": null,
            "order": null,
            "overflow": null,
            "overflow_x": null,
            "overflow_y": null,
            "padding": null,
            "right": null,
            "top": null,
            "visibility": null,
            "width": null
          }
        },
        "92303a4489274121890c2608c8f84149": {
          "model_module": "@jupyter-widgets/controls",
          "model_name": "DescriptionStyleModel",
          "model_module_version": "1.5.0",
          "state": {
            "_model_module": "@jupyter-widgets/controls",
            "_model_module_version": "1.5.0",
            "_model_name": "DescriptionStyleModel",
            "_view_count": null,
            "_view_module": "@jupyter-widgets/base",
            "_view_module_version": "1.2.0",
            "_view_name": "StyleView",
            "description_width": ""
          }
        },
        "6b254e8b3ef04947ae91f969d6ee8083": {
          "model_module": "@jupyter-widgets/base",
          "model_name": "LayoutModel",
          "model_module_version": "1.2.0",
          "state": {
            "_model_module": "@jupyter-widgets/base",
            "_model_module_version": "1.2.0",
            "_model_name": "LayoutModel",
            "_view_count": null,
            "_view_module": "@jupyter-widgets/base",
            "_view_module_version": "1.2.0",
            "_view_name": "LayoutView",
            "align_content": null,
            "align_items": null,
            "align_self": null,
            "border": null,
            "bottom": null,
            "display": null,
            "flex": null,
            "flex_flow": null,
            "grid_area": null,
            "grid_auto_columns": null,
            "grid_auto_flow": null,
            "grid_auto_rows": null,
            "grid_column": null,
            "grid_gap": null,
            "grid_row": null,
            "grid_template_areas": null,
            "grid_template_columns": null,
            "grid_template_rows": null,
            "height": null,
            "justify_content": null,
            "justify_items": null,
            "left": null,
            "margin": null,
            "max_height": null,
            "max_width": null,
            "min_height": null,
            "min_width": null,
            "object_fit": null,
            "object_position": null,
            "order": null,
            "overflow": null,
            "overflow_x": null,
            "overflow_y": null,
            "padding": null,
            "right": null,
            "top": null,
            "visibility": null,
            "width": null
          }
        },
        "5a1fe6a2e6c7465db4af00664b061cd9": {
          "model_module": "@jupyter-widgets/controls",
          "model_name": "ProgressStyleModel",
          "model_module_version": "1.5.0",
          "state": {
            "_model_module": "@jupyter-widgets/controls",
            "_model_module_version": "1.5.0",
            "_model_name": "ProgressStyleModel",
            "_view_count": null,
            "_view_module": "@jupyter-widgets/base",
            "_view_module_version": "1.2.0",
            "_view_name": "StyleView",
            "bar_color": null,
            "description_width": ""
          }
        },
        "3b963a2a6b274cfe94d4828c18359cdb": {
          "model_module": "@jupyter-widgets/base",
          "model_name": "LayoutModel",
          "model_module_version": "1.2.0",
          "state": {
            "_model_module": "@jupyter-widgets/base",
            "_model_module_version": "1.2.0",
            "_model_name": "LayoutModel",
            "_view_count": null,
            "_view_module": "@jupyter-widgets/base",
            "_view_module_version": "1.2.0",
            "_view_name": "LayoutView",
            "align_content": null,
            "align_items": null,
            "align_self": null,
            "border": null,
            "bottom": null,
            "display": null,
            "flex": null,
            "flex_flow": null,
            "grid_area": null,
            "grid_auto_columns": null,
            "grid_auto_flow": null,
            "grid_auto_rows": null,
            "grid_column": null,
            "grid_gap": null,
            "grid_row": null,
            "grid_template_areas": null,
            "grid_template_columns": null,
            "grid_template_rows": null,
            "height": null,
            "justify_content": null,
            "justify_items": null,
            "left": null,
            "margin": null,
            "max_height": null,
            "max_width": null,
            "min_height": null,
            "min_width": null,
            "object_fit": null,
            "object_position": null,
            "order": null,
            "overflow": null,
            "overflow_x": null,
            "overflow_y": null,
            "padding": null,
            "right": null,
            "top": null,
            "visibility": null,
            "width": null
          }
        },
        "92d11523f2f7431f81e6412b6259fe99": {
          "model_module": "@jupyter-widgets/controls",
          "model_name": "DescriptionStyleModel",
          "model_module_version": "1.5.0",
          "state": {
            "_model_module": "@jupyter-widgets/controls",
            "_model_module_version": "1.5.0",
            "_model_name": "DescriptionStyleModel",
            "_view_count": null,
            "_view_module": "@jupyter-widgets/base",
            "_view_module_version": "1.2.0",
            "_view_name": "StyleView",
            "description_width": ""
          }
        }
      }
    }
  },
  "cells": [
    {
      "cell_type": "markdown",
      "metadata": {
        "id": "view-in-github",
        "colab_type": "text"
      },
      "source": [
        "<a href=\"https://colab.research.google.com/github/haldonmez/mnist-digit-recognizer/blob/main/Model_2.ipynb\" target=\"_parent\"><img src=\"https://colab.research.google.com/assets/colab-badge.svg\" alt=\"Open In Colab\"/></a>"
      ]
    },
    {
      "cell_type": "code",
      "execution_count": 2,
      "metadata": {
        "colab": {
          "base_uri": "https://localhost:8080/"
        },
        "id": "ohDyw1ooZl7l",
        "outputId": "9762e324-5fd5-49aa-9cbb-2ab35b08837a"
      },
      "outputs": [
        {
          "output_type": "stream",
          "name": "stdout",
          "text": [
            "Pytorch version: 2.2.1+cu121\n",
            "torchvision version:0.17.1+cu121\n"
          ]
        }
      ],
      "source": [
        "import torch\n",
        "from torch import nn\n",
        "\n",
        "import matplotlib.pyplot as plt\n",
        "\n",
        "import torchvision\n",
        "from torchvision import datasets\n",
        "from torchvision.transforms import ToTensor\n",
        "\n",
        "print(f\"Pytorch version: {torch.__version__}\\ntorchvision version:{torchvision.__version__}\")"
      ]
    },
    {
      "cell_type": "code",
      "source": [
        "data = \"/content/data\"\n",
        "train_data = datasets.MNIST(\n",
        "    root=data,\n",
        "    train= True,\n",
        "    transform=ToTensor(),\n",
        "    download=True,\n",
        "    target_transform=None\n",
        ")\n",
        "\n",
        "test_data = datasets.MNIST(\n",
        "    root=data,\n",
        "    train=False,\n",
        "    transform=ToTensor(),\n",
        "    download=True\n",
        ")"
      ],
      "metadata": {
        "id": "e1zWmXr6afO_",
        "colab": {
          "base_uri": "https://localhost:8080/"
        },
        "outputId": "22bc5847-a1d8-4be8-adda-77a303dd1ecc"
      },
      "execution_count": 3,
      "outputs": [
        {
          "output_type": "stream",
          "name": "stdout",
          "text": [
            "Downloading http://yann.lecun.com/exdb/mnist/train-images-idx3-ubyte.gz\n",
            "Downloading http://yann.lecun.com/exdb/mnist/train-images-idx3-ubyte.gz to /content/data/MNIST/raw/train-images-idx3-ubyte.gz\n"
          ]
        },
        {
          "output_type": "stream",
          "name": "stderr",
          "text": [
            "100%|██████████| 9912422/9912422 [00:00<00:00, 111992671.09it/s]\n"
          ]
        },
        {
          "output_type": "stream",
          "name": "stdout",
          "text": [
            "Extracting /content/data/MNIST/raw/train-images-idx3-ubyte.gz to /content/data/MNIST/raw\n",
            "\n",
            "Downloading http://yann.lecun.com/exdb/mnist/train-labels-idx1-ubyte.gz\n",
            "Downloading http://yann.lecun.com/exdb/mnist/train-labels-idx1-ubyte.gz to /content/data/MNIST/raw/train-labels-idx1-ubyte.gz\n"
          ]
        },
        {
          "output_type": "stream",
          "name": "stderr",
          "text": [
            "100%|██████████| 28881/28881 [00:00<00:00, 28382308.77it/s]\n"
          ]
        },
        {
          "output_type": "stream",
          "name": "stdout",
          "text": [
            "Extracting /content/data/MNIST/raw/train-labels-idx1-ubyte.gz to /content/data/MNIST/raw\n",
            "\n",
            "Downloading http://yann.lecun.com/exdb/mnist/t10k-images-idx3-ubyte.gz\n",
            "Downloading http://yann.lecun.com/exdb/mnist/t10k-images-idx3-ubyte.gz to /content/data/MNIST/raw/t10k-images-idx3-ubyte.gz\n"
          ]
        },
        {
          "output_type": "stream",
          "name": "stderr",
          "text": [
            "100%|██████████| 1648877/1648877 [00:00<00:00, 23740577.58it/s]\n"
          ]
        },
        {
          "output_type": "stream",
          "name": "stdout",
          "text": [
            "Extracting /content/data/MNIST/raw/t10k-images-idx3-ubyte.gz to /content/data/MNIST/raw\n",
            "\n",
            "Downloading http://yann.lecun.com/exdb/mnist/t10k-labels-idx1-ubyte.gz\n",
            "Downloading http://yann.lecun.com/exdb/mnist/t10k-labels-idx1-ubyte.gz to /content/data/MNIST/raw/t10k-labels-idx1-ubyte.gz\n"
          ]
        },
        {
          "output_type": "stream",
          "name": "stderr",
          "text": [
            "100%|██████████| 4542/4542 [00:00<00:00, 4383462.67it/s]\n"
          ]
        },
        {
          "output_type": "stream",
          "name": "stdout",
          "text": [
            "Extracting /content/data/MNIST/raw/t10k-labels-idx1-ubyte.gz to /content/data/MNIST/raw\n",
            "\n"
          ]
        }
      ]
    },
    {
      "cell_type": "code",
      "source": [
        "from torch.utils.data import DataLoader\n",
        "\n",
        "BATCH_SIZE = 32\n",
        "\n",
        "train_dataloader = DataLoader(train_data, #Dataset to iterate on for the according batch size.\n",
        "                              batch_size = BATCH_SIZE, #Size of every single iteration.\n",
        "                              shuffle = True, #To make the loaded data selected randomly.\n",
        "                              )\n",
        "test_dataloader = DataLoader(test_data,\n",
        "                             batch_size = BATCH_SIZE,\n",
        "                             shuffle = True)\n",
        "\n",
        "print(f\"For training data there is {len(train_dataloader)} iterations with the batch size of {BATCH_SIZE}.\")\n",
        "print(f\"For testing data there is {len(test_dataloader)} iterations with the batch size of {BATCH_SIZE}.\")"
      ],
      "metadata": {
        "colab": {
          "base_uri": "https://localhost:8080/"
        },
        "id": "2QByAlWDHnzk",
        "outputId": "b2bc78eb-32bb-4b73-f782-a1864abcfb85"
      },
      "execution_count": 4,
      "outputs": [
        {
          "output_type": "stream",
          "name": "stdout",
          "text": [
            "For training data there is 1875 iterations with the batch size of 32.\n",
            "For testing data there is 313 iterations with the batch size of 32.\n"
          ]
        }
      ]
    },
    {
      "cell_type": "markdown",
      "source": [
        "Lets try to get a optimum variance value by self picking 0-1 as background values and the rest as foreground values."
      ],
      "metadata": {
        "id": "_Om9ZseeLFeE"
      }
    },
    {
      "cell_type": "code",
      "source": [
        "import matplotlib.pyplot as plt\n",
        "import numpy as np\n",
        "import math\n",
        "# Get an example image and a label.\n",
        "image, label = train_data[0]\n",
        "\n",
        "# Flattened the image so we can get the values in a single 1d matrix.\n",
        "flatten_image = nn.Flatten()\n",
        "image_flattened = flatten_image(image)\n",
        "\n",
        "# Creating a histogram to check the mean of the background and foreground.\n",
        "hist, bin_edges, number_of_x_values= plt.hist(image_flattened, bins=6, color='gray', alpha=0.5)\n",
        "plt.title('Pixel Intensity Histogram')\n",
        "plt.xlabel('Pixel Intensity')\n",
        "plt.ylabel('Frequency')\n",
        "plt.show()\n",
        "\n",
        "# We can calculate back to 784 and check if the histogram is correct.\n",
        "total_weight = np.sum(hist)\n",
        "\n",
        "# The sum of the values varying to their intensity levels.\n",
        "for i in range(len(bin_edges)-1):\n",
        "  print(hist[i])\n",
        "\n",
        "# Weight values calculated for self-picked value of 0-1 to background and the rest for foreground.\n",
        "Wb = (hist[0]+hist[1])/total_weight\n",
        "Wf = (hist[2]+hist[3]+hist[4]+hist[5])/total_weight\n",
        "\n",
        "# Calculating the mean variance of the background and foreground values which we self picked before hand.\n",
        "Ub = ((hist[0]*bin_edges[0])+(hist[1]*bin_edges[1]))/(hist[0]+hist[1])\n",
        "Uf = ((hist[2]*bin_edges[2])+(hist[3]*bin_edges[3])+(hist[4]*bin_edges[4])+(hist[5]*bin_edges[5]))/(hist[2]+hist[3]+hist[4]+hist[5])\n",
        "\n",
        "# Getting the variance value based on Otsu's Method to get a number if our self picked number's variance is the best.\n",
        "variance = math.sqrt((Wb*Wf)*((Ub-Uf)*(Ub-Uf)))\n",
        "\n",
        "print(f\"\\nThe threshold we got from the self picked values is {variance}\")\n",
        "print(f\"\\nThe weight values are: {Wb}, {Wf}\")\n",
        "print(f\"\\nThe mean intensity values are: {Ub}, {Uf}\")"
      ],
      "metadata": {
        "colab": {
          "base_uri": "https://localhost:8080/",
          "height": 680
        },
        "id": "VMxcCKnAaj-0",
        "outputId": "67b25f64-e426-4252-ccd0-2809a3d622c5"
      },
      "execution_count": 5,
      "outputs": [
        {
          "output_type": "display_data",
          "data": {
            "text/plain": [
              "<Figure size 640x480 with 1 Axes>"
            ],
            "image/png": "[encoded data removed]"
          },
          "metadata": {}
        },
        {
          "output_type": "stream",
          "name": "stdout",
          "text": [
            "646.0\n",
            "17.0\n",
            "10.0\n",
            "15.0\n",
            "20.0\n",
            "76.0\n",
            "\n",
            "The threshold we got from the self picked values is 0.25970596455305495\n",
            "\n",
            "The weight values are: 0.8456632653061225, 0.15433673469387754\n",
            "\n",
            "The mean intensity values are: 0.004273504400864625, 0.7231404874935623\n"
          ]
        }
      ]
    },
    {
      "cell_type": "markdown",
      "source": [
        "This snippet calculates a variance number based on our self picked values which is \"0.25970596455305495\". We need to functionize this to get the best - highest - variance value to implement in our Otsu's threshold method."
      ],
      "metadata": {
        "id": "wpZew-TdKye1"
      }
    },
    {
      "cell_type": "code",
      "source": [
        "import numpy as np\n",
        "def threshold_image(im,th):\n",
        "    thresholded_im = np.zeros(im.shape)\n",
        "    thresholded_im[im >= th] = 1\n",
        "    return thresholded_im"
      ],
      "metadata": {
        "id": "43hFCUlRfXnv"
      },
      "execution_count": 6,
      "outputs": []
    },
    {
      "cell_type": "code",
      "source": [
        "im_otsu = threshold_image(image, variance)"
      ],
      "metadata": {
        "id": "t1unsGrsp8KY"
      },
      "execution_count": 7,
      "outputs": []
    },
    {
      "cell_type": "code",
      "source": [
        "plt.figure(figsize=(10,15))\n",
        "plt.subplot(321); plt.imshow(image.squeeze(),cmap='gray')\n",
        "plt.title(\"Before Otsu's model\")\n",
        "plt.subplot(322); plt.imshow(im_otsu.squeeze(),cmap='gray')\n",
        "plt.title(\"After Otsu's model\")"
      ],
      "metadata": {
        "colab": {
          "base_uri": "https://localhost:8080/",
          "height": 416
        },
        "id": "qqunodsSqiDr",
        "outputId": "28c65e35-216c-4cc1-c349-5b6896566e8d"
      },
      "execution_count": 8,
      "outputs": [
        {
          "output_type": "execute_result",
          "data": {
            "text/plain": [
              "Text(0.5, 1.0, \"After Otsu's model\")"
            ]
          },
          "metadata": {},
          "execution_count": 8
        },
        {
          "output_type": "display_data",
          "data": {
            "text/plain": [
              "<Figure size 1000x1500 with 2 Axes>"
            ],
            "image/png": "[encoded data removed]"
          },
          "metadata": {}
        }
      ]
    },
    {
      "cell_type": "markdown",
      "source": [
        "Lets functionize Otsu's model to get the optimal variance based of our given image."
      ],
      "metadata": {
        "id": "oTXwW0VZUqrm"
      }
    },
    {
      "cell_type": "code",
      "source": [
        "import matplotlib.pyplot as plt\n",
        "import numpy as numpy\n",
        "import math\n",
        "\n",
        "def findGreatestThreshold(img):\n",
        "  # First we flatten the image to get the 1D matrix.\n",
        "  flatten_image = nn.Flatten()\n",
        "  image_flattened = flatten_image(image)\n",
        "\n",
        "  # Then we get the axial values of the image.\n",
        "  counts, binominal_values= np.histogram(image_flattened, bins=6)\n",
        "  # Counts = The number of times that intensity was displayed\n",
        "  # Binominal_values = The levels of intensity in our case its [0., 0.16666667, 0.33333334, 0.5, 0.66666669, 0.83333331, 1.]\n",
        "\n",
        "  # We get the total weight for our calculations.\n",
        "  total_weight = np.sum(counts)\n",
        "\n",
        "  # We assign an empty list to store the threshold values.\n",
        "  List = []\n",
        "\n",
        "  # We iterate for all the threshold values to get the highest.\n",
        "  for i in range(len(binominal_values)-1):\n",
        "    current_weight = 0\n",
        "    current_intensity = 0\n",
        "    foreground_intensity = 0\n",
        "    foreground_weight = 0\n",
        "\n",
        "    # We iterate for the background calculations.\n",
        "    for j in range(i+1):\n",
        "      current_weight += counts[j]\n",
        "      current_intensity += counts[j]*binominal_values[j]\n",
        "\n",
        "    # We iterate for the foreground calculations.\n",
        "    for k in range(len(binominal_values)-2, i,-1):\n",
        "      foreground_intensity += counts[k]*binominal_values[k]\n",
        "\n",
        "    foreground_weight = total_weight - current_weight\n",
        "\n",
        "    # We calculate the mean intensities for every threshold.\n",
        "    Ub = current_intensity / current_weight\n",
        "    Uf = foreground_intensity / foreground_weight if foreground_weight != 0 else 0.0\n",
        "\n",
        "    # We calculate the weights for every threshold.\n",
        "    Wb = current_weight / total_weight\n",
        "    Wf = 1 - Wb\n",
        "\n",
        "    # We calculate the variance for every threshold.\n",
        "    variance = math.sqrt((Wb*Wf)*((Ub-Uf)*(Ub-Uf)))\n",
        "\n",
        "    # We append the threshold values to the empty list to apply max() and get the optimal threshold value.\n",
        "    List.append(variance)\n",
        "\n",
        "  return List"
      ],
      "metadata": {
        "id": "R_DtqVyOVKMB"
      },
      "execution_count": 9,
      "outputs": []
    },
    {
      "cell_type": "code",
      "source": [
        "best_variance = max(findGreatestThreshold(image))\n",
        "for i in range(len(findGreatestThreshold(image))):\n",
        "  print(f\"The threshold for the {i+1}. value selected is: {findGreatestThreshold(image)[i]}\")\n",
        "\n",
        "print(f\"\\nThis gives us the optimal value of >> {max(findGreatestThreshold(image))}\")"
      ],
      "metadata": {
        "colab": {
          "base_uri": "https://localhost:8080/"
        },
        "id": "vq9u8c61b0DU",
        "outputId": "a2fb7b2d-b15c-47c4-83a8-bea2e2df40aa"
      },
      "execution_count": 10,
      "outputs": [
        {
          "output_type": "stream",
          "name": "stdout",
          "text": [
            "The threshold for the 1. value selected is: 0.24929219686862017\n",
            "The threshold for the 2. value selected is: 0.25970596455305495\n",
            "The threshold for the 3. value selected is: 0.2611499991255095\n",
            "The threshold for the 4. value selected is: 0.25527602266857763\n",
            "The threshold for the 5. value selected is: 0.2352786329811753\n",
            "The threshold for the 6. value selected is: 0.0\n",
            "\n",
            "This gives us the optimal value of >> 0.2611499991255095\n"
          ]
        }
      ]
    },
    {
      "cell_type": "code",
      "source": [
        "import numpy as np\n",
        "def threshold_image(im,th):\n",
        "    thresholded_im = np.zeros(im.shape)\n",
        "    thresholded_im[im >= th] = 1\n",
        "    return thresholded_im"
      ],
      "metadata": {
        "id": "07xk7e9la_tt"
      },
      "execution_count": 11,
      "outputs": []
    },
    {
      "cell_type": "code",
      "source": [
        "image_otsu = threshold_image(image, best_variance)"
      ],
      "metadata": {
        "id": "BBSn5xkkbAHB"
      },
      "execution_count": 12,
      "outputs": []
    },
    {
      "cell_type": "code",
      "source": [
        "from torch.utils.data import Dataset\n",
        "import matplotlib.pyplot as plt\n",
        "import os\n",
        "import numpy as np\n",
        "import random\n",
        "\n",
        "dataset_path = '/content/data/MNIST/MNIST_Traning_Otsu/dataset.pt'\n",
        "\n",
        "if not os.path.exists(dataset_path):\n",
        "  train_data_otsu2 = [(torch.tensor(threshold_image(image[0], 0.2611499991255095)).unsqueeze(0).float(), label) for image, label in train_data]\n",
        "  torch.save(train_data_otsu2, dataset_path)\n",
        "else:\n",
        "    # If the dataset already exists, load it\n",
        "    train_data_otsu2 = torch.load(dataset_path)\n",
        "\n",
        "random_number = random.randint(0,len(train_data_otsu2))\n",
        "image, label = train_data[random_number]\n",
        "image2, label2 = train_data_otsu2[random_number]\n",
        "image2.shape, image.shape\n",
        "print(f\"This is normal{train_data[0][0].dtype}\")\n",
        "print(f\"This is otsu{train_data_otsu2[0][0].dtype}\")\n",
        "plt.figure(figsize=(10,15))\n",
        "plt.subplot(321); plt.imshow(image.squeeze(),cmap='gray')\n",
        "plt.title(label)\n",
        "plt.subplot(322); plt.imshow(image2.squeeze(),cmap='gray')\n",
        "plt.title(label2)"
      ],
      "metadata": {
        "colab": {
          "base_uri": "https://localhost:8080/",
          "height": 450
        },
        "id": "fQMwm16CUZno",
        "outputId": "2a375740-1a4b-4236-823e-4e37a6ad79d2"
      },
      "execution_count": 41,
      "outputs": [
        {
          "output_type": "stream",
          "name": "stdout",
          "text": [
            "This is normaltorch.float32\n",
            "This is otsutorch.float32\n"
          ]
        },
        {
          "output_type": "execute_result",
          "data": {
            "text/plain": [
              "Text(0.5, 1.0, '2')"
            ]
          },
          "metadata": {},
          "execution_count": 41
        },
        {
          "output_type": "display_data",
          "data": {
            "text/plain": [
              "<Figure size 1000x1500 with 2 Axes>"
            ],
            "image/png": "[encoded data removed]"
          },
          "metadata": {}
        }
      ]
    },
    {
      "cell_type": "code",
      "source": [
        "from torch.utils.data import DataLoader\n",
        "\n",
        "BATCH_SIZE = 32\n",
        "train_dataloader = DataLoader(train_data, #Dataset to iterate on for the according batch size.\n",
        "                              batch_size = BATCH_SIZE, #Size of every single iteration.\n",
        "                              shuffle = True, #To make the loaded data selected randomly.\n",
        "                              )\n",
        "test_dataloader = DataLoader(test_data,\n",
        "                             batch_size = BATCH_SIZE,\n",
        "                             shuffle = True)\n",
        "\n",
        "print(f\"For training data there is {len(train_dataloader)} iterations with the batch size of {BATCH_SIZE}.\")\n",
        "print(f\"For testing data there is {len(test_dataloader)} iterations with the batch size of {BATCH_SIZE}.\")"
      ],
      "metadata": {
        "colab": {
          "base_uri": "https://localhost:8080/"
        },
        "id": "hkgE9P_7EQ1M",
        "outputId": "69265713-44dd-470c-c6c1-d7ae6052085c"
      },
      "execution_count": 54,
      "outputs": [
        {
          "output_type": "stream",
          "name": "stdout",
          "text": [
            "For training data there is 1875 iterations with the batch size of 32.\n",
            "For testing data there is 313 iterations with the batch size of 32.\n"
          ]
        }
      ]
    },
    {
      "cell_type": "code",
      "source": [
        "plt.figure(figsize=(10,10))\n",
        "plt.subplot(321); plt.imshow(image.squeeze(),cmap='gray')\n",
        "plt.title(\"Before Otsu's model\")\n",
        "plt.subplot(322); plt.imshow(im_otsu.squeeze(),cmap='gray')\n",
        "plt.title(\"After Otsu's model 1.0\")\n",
        "plt.subplot(323); plt.imshow(image_otsu.squeeze(),cmap='gray')\n",
        "plt.title(\"After Otsu's model 2.0(optimal)\")"
      ],
      "metadata": {
        "colab": {
          "base_uri": "https://localhost:8080/",
          "height": 598
        },
        "id": "62CKHsxfbPCw",
        "outputId": "832d20f4-9b69-4173-b3f5-b9cab5f40a36"
      },
      "execution_count": 55,
      "outputs": [
        {
          "output_type": "execute_result",
          "data": {
            "text/plain": [
              "Text(0.5, 1.0, \"After Otsu's model 2.0(optimal)\")"
            ]
          },
          "metadata": {},
          "execution_count": 55
        },
        {
          "output_type": "display_data",
          "data": {
            "text/plain": [
              "<Figure size 1000x1000 with 3 Axes>"
            ],
            "image/png": "[encoded data removed]"
          },
          "metadata": {}
        }
      ]
    },
    {
      "cell_type": "code",
      "source": [
        "# Setup GPU as a available device.\n",
        "\n",
        "import torch\n",
        "device = \"cuda\" if torch.cuda.is_available() else \"cpu\"\n",
        "print(f\"This model currently runs on {device}\")\n",
        "\n",
        "# T4 GPU must be activated in Google Colab to add GPU."
      ],
      "metadata": {
        "colab": {
          "base_uri": "https://localhost:8080/"
        },
        "id": "5TarZGXZehSO",
        "outputId": "8054cbc3-f5c4-4c59-dfd8-06cb88d60cc2"
      },
      "execution_count": 56,
      "outputs": [
        {
          "output_type": "stream",
          "name": "stdout",
          "text": [
            "This model currently runs on cpu\n"
          ]
        }
      ]
    },
    {
      "cell_type": "code",
      "source": [
        "from torch import nn\n",
        "class DigitRecognizerMNISTV2(nn.Module):\n",
        "  def __init__(self, input_shape:int, hidden_units:int, output_shape:int):\n",
        "    super().__init__()\n",
        "    self.layer_stack = nn.Sequential(\n",
        "        nn.Flatten(),\n",
        "        nn.Linear(in_features=input_shape, out_features=hidden_units),\n",
        "        nn.ReLU(),\n",
        "        nn.Linear(in_features=hidden_units, out_features=output_shape),\n",
        "        nn.ReLU()\n",
        "    )\n",
        "  def forward(self, x):\n",
        "    return self.layer_stack(x)"
      ],
      "metadata": {
        "id": "ohD5pGQ7dS5_"
      },
      "execution_count": 57,
      "outputs": []
    },
    {
      "cell_type": "code",
      "source": [
        "torch.manual_seed(42)\n",
        "\n",
        "model_2 = DigitRecognizerMNISTV2(input_shape=784,\n",
        "                                 hidden_units=10,\n",
        "                                 output_shape=len(train_data.classes)).to(device)\n",
        "\n",
        "next(model_2.parameters()).device"
      ],
      "metadata": {
        "colab": {
          "base_uri": "https://localhost:8080/"
        },
        "id": "ToDFs4x5eax0",
        "outputId": "5ac25c1a-3445-4f3c-bfe3-40e5a9541263"
      },
      "execution_count": 58,
      "outputs": [
        {
          "output_type": "execute_result",
          "data": {
            "text/plain": [
              "device(type='cpu')"
            ]
          },
          "metadata": {},
          "execution_count": 58
        }
      ]
    },
    {
      "cell_type": "code",
      "source": [
        "def accuracy_func(y_true, y_pred):\n",
        "  correct = torch.eq(y_true, y_pred).sum().item()\n",
        "  acc = (correct/len(y_pred)) * 100\n",
        "  return acc"
      ],
      "metadata": {
        "id": "tEdIDWoce4b3"
      },
      "execution_count": 59,
      "outputs": []
    },
    {
      "cell_type": "code",
      "source": [
        "loss_fn = nn.CrossEntropyLoss()\n",
        "optimizer = torch.optim.SGD(params=model_2.parameters(), lr=0.1)"
      ],
      "metadata": {
        "id": "4gpdwkdje4zr"
      },
      "execution_count": 60,
      "outputs": []
    },
    {
      "cell_type": "code",
      "source": [
        "from timeit import default_timer as timer\n",
        "def print_train_time(start: float, end: float, device: torch.device = None):\n",
        "    \"\"\"Prints difference between start and end time.\n",
        "\n",
        "    Args:\n",
        "        start (float): Start time of computation (preferred in timeit format).\n",
        "        end (float): End time of computation.\n",
        "        device ([type], optional): Device that compute is running on. Defaults to None.\n",
        "\n",
        "    Returns:\n",
        "        float: time between start and end in seconds (higher is longer).\n",
        "    \"\"\"\n",
        "    total_time = end - start\n",
        "    print(f\"Train time on {device}: {total_time:.3f} seconds\")\n",
        "    return total_time\n",
        "# Imported from learnpytorch.io directly..."
      ],
      "metadata": {
        "id": "WnFotniye6Di"
      },
      "execution_count": 61,
      "outputs": []
    },
    {
      "cell_type": "code",
      "source": [
        "def train_part(model: torch.nn.Module,\n",
        "               data_loader: torch.utils.data.DataLoader,\n",
        "               loss_fn: torch.nn.Module,\n",
        "               optimizer: torch.optim.Optimizer,\n",
        "               accuracy_func,\n",
        "               device: torch.device = device):\n",
        "  train_loss, train_acc = 0 , 0\n",
        "  model.to(device)\n",
        "\n",
        "  for batch, (X,y) in enumerate(data_loader):\n",
        "    X, y = X.to(device) , y.to(device)\n",
        "\n",
        "    y_pred = model(X)\n",
        "\n",
        "    loss = loss_fn(y_pred, y)\n",
        "    train_loss += loss\n",
        "    train_acc += accuracy_func(y_true=y,\n",
        "                               y_pred=y_pred.argmax(dim=1))\n",
        "\n",
        "    optimizer.zero_grad()\n",
        "    loss.backward()\n",
        "    optimizer.step()\n",
        "\n",
        "  train_loss /= len(data_loader)\n",
        "  train_acc /= len(data_loader)\n",
        "  print(f\"Train loss is:{train_loss:.5f}, Train accuracy is:{train_acc:.2f}%\")\n",
        "\n",
        "def test_part(model: torch.nn.Module,\n",
        "               data_loader: torch.utils.data.DataLoader,\n",
        "               loss_fn: torch.nn.Module,\n",
        "               optimizer: torch.optim.Optimizer,\n",
        "               accuracy_func,\n",
        "               device: torch.device = device):\n",
        "  test_loss, test_acc = 0, 0\n",
        "  model.to(device)\n",
        "  model.eval()\n",
        "\n",
        "  with torch.inference_mode():\n",
        "    for X, y in data_loader:\n",
        "\n",
        "      X, y = X.to(device), y.to(device)\n",
        "\n",
        "      test_pred = model(X)\n",
        "      test_loss += loss_fn(test_pred, y)\n",
        "      test_acc += accuracy_func(y_true=y,\n",
        "                                y_pred = test_pred.argmax(dim=1))\n",
        "\n",
        "    test_loss /= len(data_loader)\n",
        "    test_acc /= len(data_loader)\n",
        "\n",
        "    print(f\"Test loss is:{test_loss:.5f}, Test accuracy is:{test_acc:.2f}%\")"
      ],
      "metadata": {
        "id": "rkYBdO94hoCd"
      },
      "execution_count": 62,
      "outputs": []
    },
    {
      "cell_type": "code",
      "source": [
        "torch.manual_seed(42)\n",
        "from tqdm.auto import tqdm\n",
        "\n",
        "# Measure time\n",
        "from timeit import default_timer as timer\n",
        "train_time_start_on_gpu = timer()\n",
        "\n",
        "epochs = 5\n",
        "for epoch in tqdm(range(epochs)):\n",
        "    print(f\"Epoch: {epoch}\\n---------\")\n",
        "    train_part(data_loader=train_dataloader,\n",
        "        model=model_2,\n",
        "        loss_fn=loss_fn,\n",
        "        optimizer=optimizer,\n",
        "        accuracy_func=accuracy_func\n",
        "    )\n",
        "    test_part(data_loader=test_dataloader,\n",
        "        model=model_2,\n",
        "        loss_fn=loss_fn,\n",
        "        optimizer=optimizer,\n",
        "        accuracy_func=accuracy_func\n",
        "    )\n",
        "\n",
        "train_time_end_on_gpu = timer()\n",
        "total_train_time_model_2 = print_train_time(start=train_time_start_on_gpu,\n",
        "                                            end=train_time_end_on_gpu,\n",
        "                                            device=device)"
      ],
      "metadata": {
        "colab": {
          "base_uri": "https://localhost:8080/",
          "height": 414,
          "referenced_widgets": [
            "286fd8295caf45449ff7604f260a0d3a",
            "33c3c58475424410b88062d66d1a474c",
            "929be0667ccb405d92082104a3c7df16",
            "80356ed9bb304e9bb0edf09a53818455",
            "03da822b9c604c5ca7a7068f3d4e6bd3",
            "8825a116d4bc4d7a942ae7fd289edb31",
            "92303a4489274121890c2608c8f84149",
            "6b254e8b3ef04947ae91f969d6ee8083",
            "5a1fe6a2e6c7465db4af00664b061cd9",
            "3b963a2a6b274cfe94d4828c18359cdb",
            "92d11523f2f7431f81e6412b6259fe99"
          ]
        },
        "id": "1J25gzcpEeJs",
        "outputId": "20bb5d13-a71d-447b-8218-5966ecc90ed9"
      },
      "execution_count": 63,
      "outputs": [
        {
          "output_type": "display_data",
          "data": {
            "text/plain": [
              "  0%|          | 0/5 [00:00<?, ?it/s]"
            ],
            "application/vnd.jupyter.widget-view+json": {
              "version_major": 2,
              "version_minor": 0,
              "model_id": "286fd8295caf45449ff7604f260a0d3a"
            }
          },
          "metadata": {}
        },
        {
          "output_type": "stream",
          "name": "stdout",
          "text": [
            "Epoch: 0\n",
            "---------\n",
            "Train loss is:0.45602, Train accuracy is:86.75%\n",
            "Test loss is:0.26454, Test accuracy is:92.02%\n",
            "Epoch: 1\n",
            "---------\n",
            "Train loss is:0.27140, Train accuracy is:92.00%\n",
            "Test loss is:0.24936, Test accuracy is:92.90%\n",
            "Epoch: 2\n",
            "---------\n",
            "Train loss is:0.24100, Train accuracy is:92.94%\n",
            "Test loss is:0.23292, Test accuracy is:93.17%\n",
            "Epoch: 3\n",
            "---------\n",
            "Train loss is:0.22615, Train accuracy is:93.28%\n",
            "Test loss is:0.22074, Test accuracy is:93.56%\n",
            "Epoch: 4\n",
            "---------\n",
            "Train loss is:0.21686, Train accuracy is:93.59%\n",
            "Test loss is:0.20750, Test accuracy is:93.97%\n",
            "Train time on cpu: 75.632 seconds\n"
          ]
        }
      ]
    },
    {
      "cell_type": "markdown",
      "source": [
        "As we can compare applying Otsu's Method to only training dataset part made it run 3 times faster. But there were no performance improvements."
      ],
      "metadata": {
        "id": "AUMa4Zetd-Cn"
      }
    },
    {
      "cell_type": "markdown",
      "source": [
        "Epoch: 0\n",
        "---------\n",
        "Train loss is:0.58748, Train accuracy is:82.00%\n",
        "Test loss is:0.29271, Test accuracy is:91.52%\n",
        "Epoch: 1\n",
        "---------\n",
        "Train loss is:0.29283, Train accuracy is:91.33%\n",
        "Test loss is:0.27770, Test accuracy is:92.02%\n",
        "Epoch: 2\n",
        "---------\n",
        "Train loss is:0.26462, Train accuracy is:92.15%\n",
        "Test loss is:0.25494, Test accuracy is:92.46%\n",
        "Epoch: 3\n",
        "---------\n",
        "Train loss is:0.24732, Train accuracy is:92.70%\n",
        "Test loss is:0.23980, Test accuracy is:93.12%\n",
        "Epoch: 4\n",
        "---------\n",
        "Train loss is:0.23911, Train accuracy is:92.94%\n",
        "Test loss is:0.22759, Test accuracy is:93.23%\n",
        "Train time on cpu: 21.318 seconds"
      ],
      "metadata": {
        "id": "adMZOXXEdinv"
      }
    }
  ]
}