{
  "nbformat": 4,
  "nbformat_minor": 0,
  "metadata": {
    "colab": {
      "provenance": [],
      "gpuType": "T4",
      "authorship_tag": "ABX9TyM7gEZMp1neP/WQ7UbDXLcP",
      "include_colab_link": true
    },
    "kernelspec": {
      "name": "python3",
      "display_name": "Python 3"
    },
    "language_info": {
      "name": "python"
    },
    "accelerator": "GPU",
    "widgets": {
      "application/vnd.jupyter.widget-state+json": {
        "85b6dafd6d844f7b9f7af4101c454f51": {
          "model_module": "@jupyter-widgets/controls",
          "model_name": "HBoxModel",
          "model_module_version": "1.5.0",
          "state": {
            "_dom_classes": [],
            "_model_module": "@jupyter-widgets/controls",
            "_model_module_version": "1.5.0",
            "_model_name": "HBoxModel",
            "_view_count": null,
            "_view_module": "@jupyter-widgets/controls",
            "_view_module_version": "1.5.0",
            "_view_name": "HBoxView",
            "box_style": "",
            "children": [
              "IPY_MODEL_aae3a6123ae641c3894eff60a9b24750",
              "IPY_MODEL_aa5517ecf83f4f0fa453101c2224e3ad",
              "IPY_MODEL_91baaa2f6fc945b1b99f60dbc8387d8d"
            ],
            "layout": "IPY_MODEL_902ff2eda893484d824c4c6fcca3891e"
          }
        },
        "aae3a6123ae641c3894eff60a9b24750": {
          "model_module": "@jupyter-widgets/controls",
          "model_name": "HTMLModel",
          "model_module_version": "1.5.0",
          "state": {
            "_dom_classes": [],
            "_model_module": "@jupyter-widgets/controls",
            "_model_module_version": "1.5.0",
            "_model_name": "HTMLModel",
            "_view_count": null,
            "_view_module": "@jupyter-widgets/controls",
            "_view_module_version": "1.5.0",
            "_view_name": "HTMLView",
            "description": "",
            "description_tooltip": null,
            "layout": "IPY_MODEL_17ec8bd0dda848f99db335d7797c0da9",
            "placeholder": "​",
            "style": "IPY_MODEL_61fdff99ec444589993bf25db408f9e1",
            "value": "100%"
          }
        },
        "aa5517ecf83f4f0fa453101c2224e3ad": {
          "model_module": "@jupyter-widgets/controls",
          "model_name": "FloatProgressModel",
          "model_module_version": "1.5.0",
          "state": {
            "_dom_classes": [],
            "_model_module": "@jupyter-widgets/controls",
            "_model_module_version": "1.5.0",
            "_model_name": "FloatProgressModel",
            "_view_count": null,
            "_view_module": "@jupyter-widgets/controls",
            "_view_module_version": "1.5.0",
            "_view_name": "ProgressView",
            "bar_style": "success",
            "description": "",
            "description_tooltip": null,
            "layout": "IPY_MODEL_01e8cd33d1824fd3ac0ee599e2fb9157",
            "max": 20,
            "min": 0,
            "orientation": "horizontal",
            "style": "IPY_MODEL_c2c2e450cf4e40af9884551af9137530",
            "value": 20
          }
        },
        "91baaa2f6fc945b1b99f60dbc8387d8d": {
          "model_module": "@jupyter-widgets/controls",
          "model_name": "HTMLModel",
          "model_module_version": "1.5.0",
          "state": {
            "_dom_classes": [],
            "_model_module": "@jupyter-widgets/controls",
            "_model_module_version": "1.5.0",
            "_model_name": "HTMLModel",
            "_view_count": null,
            "_view_module": "@jupyter-widgets/controls",
            "_view_module_version": "1.5.0",
            "_view_name": "HTMLView",
            "description": "",
            "description_tooltip": null,
            "layout": "IPY_MODEL_d57bbb7bb02d4b4ba2cc507a8c82dd67",
            "placeholder": "​",
            "style": "IPY_MODEL_f5804129f15c4269b3840170cccf9bed",
            "value": " 20/20 [14:37&lt;00:00, 43.40s/it]"
          }
        },
        "902ff2eda893484d824c4c6fcca3891e": {
          "model_module": "@jupyter-widgets/base",
          "model_name": "LayoutModel",
          "model_module_version": "1.2.0",
          "state": {
            "_model_module": "@jupyter-widgets/base",
            "_model_module_version": "1.2.0",
            "_model_name": "LayoutModel",
            "_view_count": null,
            "_view_module": "@jupyter-widgets/base",
            "_view_module_version": "1.2.0",
            "_view_name": "LayoutView",
            "align_content": null,
            "align_items": null,
            "align_self": null,
            "border": null,
            "bottom": null,
            "display": null,
            "flex": null,
            "flex_flow": null,
            "grid_area": null,
            "grid_auto_columns": null,
            "grid_auto_flow": null,
            "grid_auto_rows": null,
            "grid_column": null,
            "grid_gap": null,
            "grid_row": null,
            "grid_template_areas": null,
            "grid_template_columns": null,
            "grid_template_rows": null,
            "height": null,
            "justify_content": null,
            "justify_items": null,
            "left": null,
            "margin": null,
            "max_height": null,
            "max_width": null,
            "min_height": null,
            "min_width": null,
            "object_fit": null,
            "object_position": null,
            "order": null,
            "overflow": null,
            "overflow_x": null,
            "overflow_y": null,
            "padding": null,
            "right": null,
            "top": null,
            "visibility": null,
            "width": null
          }
        },
        "17ec8bd0dda848f99db335d7797c0da9": {
          "model_module": "@jupyter-widgets/base",
          "model_name": "LayoutModel",
          "model_module_version": "1.2.0",
          "state": {
            "_model_module": "@jupyter-widgets/base",
            "_model_module_version": "1.2.0",
            "_model_name": "LayoutModel",
            "_view_count": null,
            "_view_module": "@jupyter-widgets/base",
            "_view_module_version": "1.2.0",
            "_view_name": "LayoutView",
            "align_content": null,
            "align_items": null,
            "align_self": null,
            "border": null,
            "bottom": null,
            "display": null,
            "flex": null,
            "flex_flow": null,
            "grid_area": null,
            "grid_auto_columns": null,
            "grid_auto_flow": null,
            "grid_auto_rows": null,
            "grid_column": null,
            "grid_gap": null,
            "grid_row": null,
            "grid_template_areas": null,
            "grid_template_columns": null,
            "grid_template_rows": null,
            "height": null,
            "justify_content": null,
            "justify_items": null,
            "left": null,
            "margin": null,
            "max_height": null,
            "max_width": null,
            "min_height": null,
            "min_width": null,
            "object_fit": null,
            "object_position": null,
            "order": null,
            "overflow": null,
            "overflow_x": null,
            "overflow_y": null,
            "padding": null,
            "right": null,
            "top": null,
            "visibility": null,
            "width": null
          }
        },
        "61fdff99ec444589993bf25db408f9e1": {
          "model_module": "@jupyter-widgets/controls",
          "model_name": "DescriptionStyleModel",
          "model_module_version": "1.5.0",
          "state": {
            "_model_module": "@jupyter-widgets/controls",
            "_model_module_version": "1.5.0",
            "_model_name": "DescriptionStyleModel",
            "_view_count": null,
            "_view_module": "@jupyter-widgets/base",
            "_view_module_version": "1.2.0",
            "_view_name": "StyleView",
            "description_width": ""
          }
        },
        "01e8cd33d1824fd3ac0ee599e2fb9157": {
          "model_module": "@jupyter-widgets/base",
          "model_name": "LayoutModel",
          "model_module_version": "1.2.0",
          "state": {
            "_model_module": "@jupyter-widgets/base",
            "_model_module_version": "1.2.0",
            "_model_name": "LayoutModel",
            "_view_count": null,
            "_view_module": "@jupyter-widgets/base",
            "_view_module_version": "1.2.0",
            "_view_name": "LayoutView",
            "align_content": null,
            "align_items": null,
            "align_self": null,
            "border": null,
            "bottom": null,
            "display": null,
            "flex": null,
            "flex_flow": null,
            "grid_area": null,
            "grid_auto_columns": null,
            "grid_auto_flow": null,
            "grid_auto_rows": null,
            "grid_column": null,
            "grid_gap": null,
            "grid_row": null,
            "grid_template_areas": null,
            "grid_template_columns": null,
            "grid_template_rows": null,
            "height": null,
            "justify_content": null,
            "justify_items": null,
            "left": null,
            "margin": null,
            "max_height": null,
            "max_width": null,
            "min_height": null,
            "min_width": null,
            "object_fit": null,
            "object_position": null,
            "order": null,
            "overflow": null,
            "overflow_x": null,
            "overflow_y": null,
            "padding": null,
            "right": null,
            "top": null,
            "visibility": null,
            "width": null
          }
        },
        "c2c2e450cf4e40af9884551af9137530": {
          "model_module": "@jupyter-widgets/controls",
          "model_name": "ProgressStyleModel",
          "model_module_version": "1.5.0",
          "state": {
            "_model_module": "@jupyter-widgets/controls",
            "_model_module_version": "1.5.0",
            "_model_name": "ProgressStyleModel",
            "_view_count": null,
            "_view_module": "@jupyter-widgets/base",
            "_view_module_version": "1.2.0",
            "_view_name": "StyleView",
            "bar_color": null,
            "description_width": ""
          }
        },
        "d57bbb7bb02d4b4ba2cc507a8c82dd67": {
          "model_module": "@jupyter-widgets/base",
          "model_name": "LayoutModel",
          "model_module_version": "1.2.0",
          "state": {
            "_model_module": "@jupyter-widgets/base",
            "_model_module_version": "1.2.0",
            "_model_name": "LayoutModel",
            "_view_count": null,
            "_view_module": "@jupyter-widgets/base",
            "_view_module_version": "1.2.0",
            "_view_name": "LayoutView",
            "align_content": null,
            "align_items": null,
            "align_self": null,
            "border": null,
            "bottom": null,
            "display": null,
            "flex": null,
            "flex_flow": null,
            "grid_area": null,
            "grid_auto_columns": null,
            "grid_auto_flow": null,
            "grid_auto_rows": null,
            "grid_column": null,
            "grid_gap": null,
            "grid_row": null,
            "grid_template_areas": null,
            "grid_template_columns": null,
            "grid_template_rows": null,
            "height": null,
            "justify_content": null,
            "justify_items": null,
            "left": null,
            "margin": null,
            "max_height": null,
            "max_width": null,
            "min_height": null,
            "min_width": null,
            "object_fit": null,
            "object_position": null,
            "order": null,
            "overflow": null,
            "overflow_x": null,
            "overflow_y": null,
            "padding": null,
            "right": null,
            "top": null,
            "visibility": null,
            "width": null
          }
        },
        "f5804129f15c4269b3840170cccf9bed": {
          "model_module": "@jupyter-widgets/controls",
          "model_name": "DescriptionStyleModel",
          "model_module_version": "1.5.0",
          "state": {
            "_model_module": "@jupyter-widgets/controls",
            "_model_module_version": "1.5.0",
            "_model_name": "DescriptionStyleModel",
            "_view_count": null,
            "_view_module": "@jupyter-widgets/base",
            "_view_module_version": "1.2.0",
            "_view_name": "StyleView",
            "description_width": ""
          }
        }
      }
    }
  },
  "cells": [
    {
      "cell_type": "markdown",
      "metadata": {
        "id": "view-in-github",
        "colab_type": "text"
      },
      "source": [
        "<a href=\"https://colab.research.google.com/github/haldonmez/mnist-digit-recognizer/blob/main/Model_4.ipynb\" target=\"_parent\"><img src=\"https://colab.research.google.com/assets/colab-badge.svg\" alt=\"Open In Colab\"/></a>"
      ]
    },
    {
      "cell_type": "code",
      "source": [
        "import torch\n",
        "from torch import nn\n",
        "\n",
        "import matplotlib.pyplot as plt\n",
        "\n",
        "import torchvision\n",
        "from torchvision import datasets\n",
        "from torchvision.transforms import ToTensor\n",
        "\n",
        "# Checking the PyTorch and torchvision versions.\n",
        "print(f\"Pytorch version: {torch.__version__}\\ntorchvision version:{torchvision.__version__}\")"
      ],
      "metadata": {
        "colab": {
          "base_uri": "https://localhost:8080/"
        },
        "id": "hhUHiccXn1mN",
        "outputId": "865a51bf-d101-4ead-9cd8-18acf44a689f"
      },
      "execution_count": 1,
      "outputs": [
        {
          "output_type": "stream",
          "name": "stdout",
          "text": [
            "Pytorch version: 2.3.0+cu121\n",
            "torchvision version:0.18.0+cu121\n"
          ]
        }
      ]
    },
    {
      "cell_type": "code",
      "source": [
        "# Setting a location for the data.\n",
        "data = \"/content/data\"\n",
        "\n",
        "# Setting up training and testing datas.\n",
        "train_data = datasets.MNIST(\n",
        "    root=data,\n",
        "    train= True,\n",
        "    transform=ToTensor(),\n",
        "    download=True,\n",
        "    target_transform=None\n",
        ")\n",
        "\n",
        "test_data = datasets.MNIST(\n",
        "    root=data,\n",
        "    train=False,\n",
        "    transform=ToTensor(),\n",
        "    download=True\n",
        ")"
      ],
      "metadata": {
        "id": "8xp20veCn45O"
      },
      "execution_count": 2,
      "outputs": []
    },
    {
      "cell_type": "code",
      "source": [
        "import torch\n",
        "device = \"cuda\" if torch.cuda.is_available() else \"cpu\"\n",
        "device"
      ],
      "metadata": {
        "colab": {
          "base_uri": "https://localhost:8080/",
          "height": 36
        },
        "id": "LoGs-M9Nr8Yc",
        "outputId": "f3a6f06d-4041-4f8d-e53b-f0d33905a2c0"
      },
      "execution_count": 3,
      "outputs": [
        {
          "output_type": "execute_result",
          "data": {
            "text/plain": [
              "'cuda'"
            ],
            "application/vnd.google.colaboratory.intrinsic+json": {
              "type": "string"
            }
          },
          "metadata": {},
          "execution_count": 3
        }
      ]
    },
    {
      "cell_type": "code",
      "source": [
        "import numpy as np\n",
        "\n",
        "''' This functions takes the output of threshold calculation\n",
        "    and a given image and outputs the image that Otsu's method\n",
        "    has been applied to. '''\n",
        "\n",
        "def threshold_image(im,th):\n",
        "    thresholded_im = np.zeros(im.shape) # Adjusts the pixel intensities lower than th to 0.\n",
        "    thresholded_im[im >= th] = 1 # Adjusts the pixel intensities higher than th to 1.\n",
        "    return thresholded_im"
      ],
      "metadata": {
        "id": "oiS2ucz2uTtS"
      },
      "execution_count": 4,
      "outputs": []
    },
    {
      "cell_type": "code",
      "source": [
        "from torch.utils.data import Dataset\n",
        "import matplotlib.pyplot as plt\n",
        "import os\n",
        "import numpy as np\n",
        "import random\n",
        "\n",
        "''' This block takes the training and testing datasets as\n",
        "    an argument and saves them to assigned locations.\n",
        "    By iterating through every single data in the datasets\n",
        "    it applies Otsu's threshold method to all of them and\n",
        "    creates a copy of the dataset in the location.        '''\n",
        "\n",
        "\n",
        "train_dataset_path = '/content/data/MNIST/train-dataset.pt'\n",
        "test_dataset_path = '/content/data/MNIST/test-dataset.pt'\n",
        "\n",
        "if not os.path.exists(train_dataset_path and test_dataset_path):\n",
        "  train_data_otsu2 = [(torch.tensor(threshold_image(image[0], 0.2611499991255095)).unsqueeze(0).float(), label) for image, label in train_data]\n",
        "  torch.save(train_data_otsu2, train_dataset_path)\n",
        "  test_data_otsu2 = [(torch.tensor(threshold_image(image[0], 0.2611499991255095)).unsqueeze(0).float(), label) for image, label in test_data]\n",
        "  torch.save(train_data_otsu2, test_dataset_path)\n",
        "else:\n",
        "    # If the dataset already exists, load it\n",
        "    train_data_otsu2 = torch.load(train_dataset_path)\n",
        "    test_data_otsu2 = torch.load(test_dataset_path)\n",
        "\n",
        "random_number = random.randint(0,len(train_data_otsu2))\n",
        "image, label = train_data[random_number]\n",
        "image2, label2 = train_data_otsu2[random_number]\n",
        "image2.shape, image.shape\n",
        "print(f\"This is normal{train_data[0][0].dtype}\")\n",
        "print(f\"This is otsu{train_data_otsu2[0][0].dtype}\")\n",
        "plt.figure(figsize=(10,15))\n",
        "plt.subplot(321); plt.imshow(image.squeeze(),cmap='gray')\n",
        "plt.title(label)\n",
        "plt.subplot(322); plt.imshow(image2.squeeze(),cmap='gray')\n",
        "plt.title(label2)\n",
        ""
      ],
      "metadata": {
        "colab": {
          "base_uri": "https://localhost:8080/",
          "height": 474
        },
        "id": "-wI3Hx25uURR",
        "outputId": "c806dcb2-f27b-4cb7-c629-6ee6ca819774"
      },
      "execution_count": 5,
      "outputs": [
        {
          "output_type": "stream",
          "name": "stdout",
          "text": [
            "This is normaltorch.float32\n",
            "This is otsutorch.float32\n"
          ]
        },
        {
          "output_type": "execute_result",
          "data": {
            "text/plain": [
              "Text(0.5, 1.0, '2')"
            ]
          },
          "metadata": {},
          "execution_count": 5
        },
        {
          "output_type": "display_data",
          "data": {
            "text/plain": [
              "<Figure size 1000x1500 with 2 Axes>"
            ],
            "image/png": "[encoded data removed]"
          },
          "metadata": {}
        }
      ]
    },
    {
      "cell_type": "code",
      "source": [
        "from torch.utils.data import DataLoader\n",
        "from torch.utils.data import ConcatDataset\n",
        "\n",
        "combined_train_data = ConcatDataset([train_data_otsu2, train_data])\n",
        "combined_test_data = ConcatDataset([test_data_otsu2, test_data])\n",
        "BATCH_SIZE = 16\n",
        "train_dataloader = DataLoader(combined_train_data, #Dataset to iterate on for the according batch size.\n",
        "                              batch_size = BATCH_SIZE, #Size of every single iteration.\n",
        "                              shuffle = True, #To make the loaded data selected randomly.\n",
        "                              )\n",
        "test_dataloader = DataLoader(combined_test_data,\n",
        "                             batch_size = BATCH_SIZE,\n",
        "                             shuffle = True)\n",
        "\n",
        "print(f\"For training data there is {len(train_dataloader)} iterations with the batch size of {BATCH_SIZE}.\")\n",
        "print(f\"For testing data there is {len(test_dataloader)} iterations with the batch size of {BATCH_SIZE}.\")"
      ],
      "metadata": {
        "colab": {
          "base_uri": "https://localhost:8080/"
        },
        "id": "4tnmZM7IrVUV",
        "outputId": "059f43fb-7237-431e-c582-f5c46aac53dd"
      },
      "execution_count": 6,
      "outputs": [
        {
          "output_type": "stream",
          "name": "stdout",
          "text": [
            "For training data there is 7500 iterations with the batch size of 16.\n",
            "For testing data there is 4375 iterations with the batch size of 16.\n"
          ]
        }
      ]
    },
    {
      "cell_type": "code",
      "source": [
        "len(train_data.classes)"
      ],
      "metadata": {
        "colab": {
          "base_uri": "https://localhost:8080/"
        },
        "id": "Xz5A0O_JrobM",
        "outputId": "35f3e96b-7226-4c0a-f1ab-8f18701ba519"
      },
      "execution_count": 7,
      "outputs": [
        {
          "output_type": "execute_result",
          "data": {
            "text/plain": [
              "10"
            ]
          },
          "metadata": {},
          "execution_count": 7
        }
      ]
    },
    {
      "cell_type": "code",
      "source": [
        "import torch\n",
        "from torch import nn\n",
        "import torch.nn.functional as F\n",
        "\n",
        "class LetterRecognizerModel4(nn.Module):\n",
        "    def __init__(self, input_size, output_size):\n",
        "        super(LetterRecognizerModel4, self).__init__()\n",
        "\n",
        "        self.conv_layers = nn.Sequential(\n",
        "            nn.Conv2d(input_size, 32, kernel_size=3, padding=1),\n",
        "            nn.ReLU(),\n",
        "            nn.Conv2d(32, 32, kernel_size=3, padding=1),\n",
        "            nn.ReLU(),\n",
        "            nn.BatchNorm2d(32),\n",
        "            nn.MaxPool2d(2, 2),\n",
        "            nn.Dropout(0.25),\n",
        "\n",
        "            nn.Conv2d(32, 64, kernel_size=3, padding=1),\n",
        "            nn.ReLU(),\n",
        "            nn.Conv2d(64, 64, kernel_size=3, padding=1),\n",
        "            nn.ReLU(),\n",
        "            nn.BatchNorm2d(64),\n",
        "            nn.MaxPool2d(2, 2),\n",
        "            nn.Dropout(0.25),\n",
        "\n",
        "            nn.Conv2d(64, 128, kernel_size=3, padding=1),\n",
        "            nn.ReLU(),\n",
        "            nn.Conv2d(128, 128, kernel_size=3, padding=1),\n",
        "            nn.ReLU(),\n",
        "            nn.BatchNorm2d(128),\n",
        "            nn.MaxPool2d(2, 2),\n",
        "            nn.Dropout(0.25)\n",
        "        )\n",
        "\n",
        "        self.fc_layers = nn.Sequential(\n",
        "            nn.Linear(128*3*3, 512),\n",
        "            #nn.BatchNorm4d(512),\n",
        "            nn.Dropout(0.25),\n",
        "\n",
        "            nn.Linear(512, 256),\n",
        "            #nn.BatchNorm4d(256),\n",
        "            nn.Dropout(0.25),\n",
        "\n",
        "            nn.Linear(256, output_size)\n",
        "        )\n",
        "\n",
        "    def forward(self, x):\n",
        "        x = self.conv_layers(x)\n",
        "        x = x.view(x.size(0), -1)  # Flatten the output\n",
        "        x = self.fc_layers(x)\n",
        "        return x\n",
        "\n",
        "torch.manual_seed(42)\n",
        "\n",
        "model_4 = LetterRecognizerModel4(input_size=1, output_size=len(train_data.classes)).to(device)\n",
        "\n",
        "model_4"
      ],
      "metadata": {
        "colab": {
          "base_uri": "https://localhost:8080/"
        },
        "id": "bmTA6Vc_rgyE",
        "outputId": "067eab3f-e923-46e3-bc6f-a7f2b28ed19e"
      },
      "execution_count": 8,
      "outputs": [
        {
          "output_type": "execute_result",
          "data": {
            "text/plain": [
              "LetterRecognizerModel4(\n",
              "  (conv_layers): Sequential(\n",
              "    (0): Conv2d(1, 32, kernel_size=(3, 3), stride=(1, 1), padding=(1, 1))\n",
              "    (1): ReLU()\n",
              "    (2): Conv2d(32, 32, kernel_size=(3, 3), stride=(1, 1), padding=(1, 1))\n",
              "    (3): ReLU()\n",
              "    (4): BatchNorm2d(32, eps=1e-05, momentum=0.1, affine=True, track_running_stats=True)\n",
              "    (5): MaxPool2d(kernel_size=2, stride=2, padding=0, dilation=1, ceil_mode=False)\n",
              "    (6): Dropout(p=0.25, inplace=False)\n",
              "    (7): Conv2d(32, 64, kernel_size=(3, 3), stride=(1, 1), padding=(1, 1))\n",
              "    (8): ReLU()\n",
              "    (9): Conv2d(64, 64, kernel_size=(3, 3), stride=(1, 1), padding=(1, 1))\n",
              "    (10): ReLU()\n",
              "    (11): BatchNorm2d(64, eps=1e-05, momentum=0.1, affine=True, track_running_stats=True)\n",
              "    (12): MaxPool2d(kernel_size=2, stride=2, padding=0, dilation=1, ceil_mode=False)\n",
              "    (13): Dropout(p=0.25, inplace=False)\n",
              "    (14): Conv2d(64, 128, kernel_size=(3, 3), stride=(1, 1), padding=(1, 1))\n",
              "    (15): ReLU()\n",
              "    (16): Conv2d(128, 128, kernel_size=(3, 3), stride=(1, 1), padding=(1, 1))\n",
              "    (17): ReLU()\n",
              "    (18): BatchNorm2d(128, eps=1e-05, momentum=0.1, affine=True, track_running_stats=True)\n",
              "    (19): MaxPool2d(kernel_size=2, stride=2, padding=0, dilation=1, ceil_mode=False)\n",
              "    (20): Dropout(p=0.25, inplace=False)\n",
              "  )\n",
              "  (fc_layers): Sequential(\n",
              "    (0): Linear(in_features=1152, out_features=512, bias=True)\n",
              "    (1): Dropout(p=0.25, inplace=False)\n",
              "    (2): Linear(in_features=512, out_features=256, bias=True)\n",
              "    (3): Dropout(p=0.25, inplace=False)\n",
              "    (4): Linear(in_features=256, out_features=10, bias=True)\n",
              "  )\n",
              ")"
            ]
          },
          "metadata": {},
          "execution_count": 8
        }
      ]
    },
    {
      "cell_type": "code",
      "source": [
        "loss_fn = nn.CrossEntropyLoss()\n",
        "optimizer = torch.optim.SGD(params=model_4.parameters(),\n",
        "                             lr=0.0001)"
      ],
      "metadata": {
        "id": "19P0OvJRrxGF"
      },
      "execution_count": 9,
      "outputs": []
    },
    {
      "cell_type": "code",
      "source": [
        "def accuracy_func(y_true, y_pred):\n",
        "  correct = torch.eq(y_true, y_pred).sum().item()\n",
        "  acc = (correct/len(y_pred)) * 100\n",
        "  return acc"
      ],
      "metadata": {
        "id": "ZJ3KnZobrxub"
      },
      "execution_count": 10,
      "outputs": []
    },
    {
      "cell_type": "code",
      "source": [
        "from timeit import default_timer as timer\n",
        "def print_train_time(start: float, end: float, device: torch.device = None):\n",
        "    \"\"\"Prints difference between start and end time.\n",
        "\n",
        "    Args:\n",
        "        start (float): Start time of computation (preferred in timeit format).\n",
        "        end (float): End time of computation.\n",
        "        device ([type], optional): Device that compute is running on. Defaults to None.\n",
        "\n",
        "    Returns:\n",
        "        float: time between start and end in seconds (higher is longer).\n",
        "    \"\"\"\n",
        "    total_time = end - start\n",
        "    print(f\"Train time on {device}: {total_time:.3f} seconds\")\n",
        "    return total_time\n",
        "# Imported from learnpytorch.io directly..."
      ],
      "metadata": {
        "id": "w5JE2iVxrzws"
      },
      "execution_count": 11,
      "outputs": []
    },
    {
      "cell_type": "code",
      "source": [
        "def train_part(model: torch.nn.Module,\n",
        "               data_loader: torch.utils.data.DataLoader,\n",
        "               loss_fn: torch.nn.Module,\n",
        "               optimizer: torch.optim.Optimizer,\n",
        "               accuracy_func,\n",
        "               device: torch.device = device):\n",
        "  train_loss, train_acc = 0 , 0\n",
        "  model.to(device)\n",
        "\n",
        "  for batch, (X,y) in enumerate(data_loader):\n",
        "    X, y = X.to(device) , y.to(device)\n",
        "\n",
        "    y_pred = model(X)\n",
        "\n",
        "    loss = loss_fn(y_pred, y)\n",
        "    train_loss += loss\n",
        "    train_acc += accuracy_func(y_true=y,\n",
        "                               y_pred=y_pred.argmax(dim=1))\n",
        "\n",
        "    optimizer.zero_grad()\n",
        "    loss.backward()\n",
        "    optimizer.step()\n",
        "\n",
        "  train_loss /= len(data_loader)\n",
        "  train_acc /= len(data_loader)\n",
        "  print(f\"Train loss is:{train_loss:.5f}, Train accuracy is:{train_acc:.2f}%\")\n",
        "  return train_loss, train_acc\n",
        "\n",
        "def test_part(model: torch.nn.Module,\n",
        "               data_loader: torch.utils.data.DataLoader,\n",
        "               loss_fn: torch.nn.Module,\n",
        "               optimizer: torch.optim.Optimizer,\n",
        "               accuracy_func,\n",
        "               device: torch.device = device):\n",
        "  test_loss, test_acc = 0, 0\n",
        "  model.to(device)\n",
        "  model.eval()\n",
        "\n",
        "  with torch.inference_mode():\n",
        "    for X, y in data_loader:\n",
        "      X, y = X.to(device), y.to(device)\n",
        "\n",
        "      test_pred = model(X)\n",
        "      test_loss += loss_fn(test_pred, y)\n",
        "      test_acc += accuracy_func(y_true=y,\n",
        "                                y_pred = test_pred.argmax(dim=1))\n",
        "\n",
        "    test_loss /= len(data_loader)\n",
        "    test_acc /= len(data_loader)\n",
        "\n",
        "    print(f\"Test loss is:{test_loss:.6f}, Test accuracy is:{test_acc:.6f}%\")\n",
        "  return test_loss, test_acc"
      ],
      "metadata": {
        "id": "ptU3rzZmr0UD"
      },
      "execution_count": 12,
      "outputs": []
    },
    {
      "cell_type": "code",
      "source": [
        "from tqdm.auto import tqdm\n",
        "\n",
        "torch.manual_seed(42)\n",
        "\n",
        "from timeit import default_timer as timer\n",
        "train_time_start_model_4 = timer()\n",
        "\n",
        "train_losses = []\n",
        "train_accuracies = []\n",
        "test_losses = []\n",
        "test_accuracies = []\n",
        "\n",
        "# Train and test model\n",
        "epochs = 20\n",
        "for epoch in tqdm(range(epochs)):\n",
        "\n",
        "    train_loss, train_acc = train_part(data_loader=train_dataloader,\n",
        "        model=model_4,\n",
        "        loss_fn=loss_fn,\n",
        "        optimizer=optimizer,\n",
        "        accuracy_func=accuracy_func,\n",
        "        device=device)\n",
        "    test_loss, test_acc = test_part(data_loader=test_dataloader,\n",
        "        model=model_4,\n",
        "        loss_fn=loss_fn,\n",
        "        optimizer = optimizer,\n",
        "        accuracy_func=accuracy_func,\n",
        "        device=device)\n",
        "    train_losses.append(train_loss.detach().cpu().numpy())\n",
        "    train_accuracies.append(train_acc)\n",
        "    test_losses.append(test_loss.detach().cpu().numpy())\n",
        "    test_accuracies.append(test_acc)\n",
        "\n",
        "\n",
        "    print(f\"Epoch: {epoch}\\n---------\")\n",
        "\n",
        "train_time_end_model_4 = timer()\n",
        "total_train_time_model_4 = print_train_time(start=train_time_start_model_4,\n",
        "                                           end=train_time_end_model_4,\n",
        "                                           device=device)"
      ],
      "metadata": {
        "colab": {
          "base_uri": "https://localhost:8080/",
          "height": 1000,
          "referenced_widgets": [
            "85b6dafd6d844f7b9f7af4101c454f51",
            "aae3a6123ae641c3894eff60a9b24750",
            "aa5517ecf83f4f0fa453101c2224e3ad",
            "91baaa2f6fc945b1b99f60dbc8387d8d",
            "902ff2eda893484d824c4c6fcca3891e",
            "17ec8bd0dda848f99db335d7797c0da9",
            "61fdff99ec444589993bf25db408f9e1",
            "01e8cd33d1824fd3ac0ee599e2fb9157",
            "c2c2e450cf4e40af9884551af9137530",
            "d57bbb7bb02d4b4ba2cc507a8c82dd67",
            "f5804129f15c4269b3840170cccf9bed"
          ]
        },
        "id": "VV8pVfv_r11N",
        "outputId": "39658a7c-ffdb-4951-9f04-809d89714e56"
      },
      "execution_count": 14,
      "outputs": [
        {
          "output_type": "display_data",
          "data": {
            "text/plain": [
              "  0%|          | 0/20 [00:00<?, ?it/s]"
            ],
            "application/vnd.jupyter.widget-view+json": {
              "version_major": 2,
              "version_minor": 0,
              "model_id": "85b6dafd6d844f7b9f7af4101c454f51"
            }
          },
          "metadata": {}
        },
        {
          "output_type": "stream",
          "name": "stdout",
          "text": [
            "Train loss is:0.00745, Train accuracy is:99.80%\n",
            "Test loss is:0.009800, Test accuracy is:99.701429%\n",
            "Epoch: 0\n",
            "---------\n",
            "Train loss is:0.00686, Train accuracy is:99.83%\n",
            "Test loss is:0.008738, Test accuracy is:99.760000%\n",
            "Epoch: 1\n",
            "---------\n",
            "Train loss is:0.00606, Train accuracy is:99.85%\n",
            "Test loss is:0.008368, Test accuracy is:99.794286%\n",
            "Epoch: 2\n",
            "---------\n",
            "Train loss is:0.00542, Train accuracy is:99.88%\n",
            "Test loss is:0.007851, Test accuracy is:99.781429%\n",
            "Epoch: 3\n",
            "---------\n",
            "Train loss is:0.00488, Train accuracy is:99.89%\n",
            "Test loss is:0.007126, Test accuracy is:99.825714%\n",
            "Epoch: 4\n",
            "---------\n",
            "Train loss is:0.00440, Train accuracy is:99.91%\n",
            "Test loss is:0.007105, Test accuracy is:99.812857%\n",
            "Epoch: 5\n",
            "---------\n",
            "Train loss is:0.00394, Train accuracy is:99.93%\n",
            "Test loss is:0.006878, Test accuracy is:99.827143%\n",
            "Epoch: 6\n",
            "---------\n",
            "Train loss is:0.00352, Train accuracy is:99.94%\n",
            "Test loss is:0.006481, Test accuracy is:99.847143%\n",
            "Epoch: 7\n",
            "---------\n",
            "Train loss is:0.00318, Train accuracy is:99.94%\n",
            "Test loss is:0.008507, Test accuracy is:99.760000%\n",
            "Epoch: 8\n",
            "---------\n",
            "Train loss is:0.00288, Train accuracy is:99.96%\n",
            "Test loss is:0.006604, Test accuracy is:99.835714%\n",
            "Epoch: 9\n",
            "---------\n",
            "Train loss is:0.00258, Train accuracy is:99.96%\n",
            "Test loss is:0.005883, Test accuracy is:99.862857%\n",
            "Epoch: 10\n",
            "---------\n",
            "Train loss is:0.00232, Train accuracy is:99.97%\n",
            "Test loss is:0.005867, Test accuracy is:99.868571%\n",
            "Epoch: 11\n",
            "---------\n",
            "Train loss is:0.00211, Train accuracy is:99.97%\n",
            "Test loss is:0.005496, Test accuracy is:99.862857%\n",
            "Epoch: 12\n",
            "---------\n",
            "Train loss is:0.00193, Train accuracy is:99.98%\n",
            "Test loss is:0.006729, Test accuracy is:99.842857%\n",
            "Epoch: 13\n",
            "---------\n",
            "Train loss is:0.00173, Train accuracy is:99.98%\n",
            "Test loss is:0.005721, Test accuracy is:99.864286%\n",
            "Epoch: 14\n",
            "---------\n",
            "Train loss is:0.00159, Train accuracy is:99.98%\n",
            "Test loss is:0.005328, Test accuracy is:99.867143%\n",
            "Epoch: 15\n",
            "---------\n",
            "Train loss is:0.00146, Train accuracy is:99.99%\n",
            "Test loss is:0.005473, Test accuracy is:99.868571%\n",
            "Epoch: 16\n",
            "---------\n",
            "Train loss is:0.00128, Train accuracy is:99.99%\n",
            "Test loss is:0.005657, Test accuracy is:99.870000%\n",
            "Epoch: 17\n",
            "---------\n",
            "Train loss is:0.00121, Train accuracy is:99.99%\n",
            "Test loss is:0.005355, Test accuracy is:99.870000%\n",
            "Epoch: 18\n",
            "---------\n",
            "Train loss is:0.00112, Train accuracy is:99.99%\n",
            "Test loss is:0.005526, Test accuracy is:99.868571%\n",
            "Epoch: 19\n",
            "---------\n",
            "Train time on cuda: 877.291 seconds\n"
          ]
        }
      ]
    }
  ]
}